{
 "cells": [
  {
   "cell_type": "code",
   "execution_count": 1,
   "metadata": {},
   "outputs": [
    {
     "name": "stdout",
     "output_type": "stream",
     "text": [
      "Data for df_2011:\n",
      "         2011_GHG  2011_CO2\n",
      "Country                    \n",
      "A               5        30\n",
      "B              15        25\n",
      "C              10        20\n",
      "D              20        15\n",
      "\n",
      "Data for df_2012:\n",
      "         2012_GHG  2012_CO2\n",
      "Country                    \n",
      "A               8        32\n",
      "B              12        28\n",
      "C              18        24\n",
      "D              22        16\n",
      "\n"
     ]
    }
   ],
   "source": [
    "import pandas as pd\n",
    "\n",
    "def split_dataframe_by_columns(df, num_cols_per_split):\n",
    "    \"\"\"\n",
    "    주어진 데이터프레임을 일정한 열 간격으로 나누어 여러 개의 데이터프레임을 생성하는 함수입니다.\n",
    "\n",
    "    매개변수:\n",
    "    df (pd.DataFrame): 원본 데이터프레임\n",
    "    num_cols_per_split (int): 각 데이터프레임에 포함될 열의 개수\n",
    "\n",
    "    반환값:\n",
    "    dict: 키가 'df_연도' 형식의 문자열이고 값이 나뉘어진 데이터프레임인 딕셔너리\n",
    "    \"\"\"\n",
    "    dataframes = {}\n",
    "    for i in range(0, df.shape[1], num_cols_per_split):\n",
    "        start_col = i\n",
    "        end_col = i + num_cols_per_split\n",
    "        year = 2011 + i // num_cols_per_split\n",
    "        # NaN 값만 있는 열을 제거하고 데이터프레임 생성\n",
    "        df_split = df.iloc[:, start_col:end_col].dropna(how='all', axis=1)\n",
    "        # 각 열을 내림차순으로 정렬\n",
    "        df_split = df_split.apply(lambda x: x.sort_values(ascending=False))\n",
    "        dataframes[f'df_{year}'] = df_split\n",
    "    return dataframes\n",
    "\n",
    "# 예시 데이터프레임 생성\n",
    "data = {\n",
    "    'Country': ['A', 'B', 'C', 'D'],\n",
    "    '2011_GHG': [5, 15, 10, 20],\n",
    "    '2011_CO2': [30, 25, 20, 15],\n",
    "    '2012_GHG': [8, 12, 18, 22],\n",
    "    '2012_CO2': [32, 28, 24, 16]\n",
    "}\n",
    "df = pd.DataFrame(data)\n",
    "df.set_index('Country', inplace=True)\n",
    "\n",
    "# 함수 호출\n",
    "num_cols_per_split = 2\n",
    "sorted_dataframes = split_dataframe_by_columns(df, num_cols_per_split)\n",
    "\n",
    "# 결과 출력\n",
    "for year, df_year in sorted_dataframes.items():\n",
    "    print(f\"Data for {year}:\")\n",
    "    print(df_year)\n",
    "    print()\n"
   ]
  },
  {
   "cell_type": "code",
   "execution_count": 3,
   "metadata": {},
   "outputs": [],
   "source": [
    "def split_and_sort_dataframe(df):\n",
    "    \"\"\"\n",
    "    데이터프레임을 연도별로 나누고 각 연도별로 내림차순 정렬하는 함수.\n",
    "    \"\"\"\n",
    "    # 각 연도별 데이터프레임을 저장할 딕셔너리\n",
    "    dataframes = {}\n",
    "\n",
    "    # 각 연도의 데이터를 추출하고 내림차순 정렬\n",
    "    years = set(col.split('_')[0] for col in df.columns)\n",
    "    for year in years:\n",
    "        year_cols = [col for col in df.columns if col.startswith(year)]\n",
    "        df_year = df[year_cols]\n",
    "        # NaN 값만 있는 열을 제거합니다.\n",
    "        df_year = df_year.dropna(how='all', axis=1)\n",
    "        # 각 열을 내림차순으로 정렬합니다.\n",
    "        df_year = df_year.apply(lambda x: x.sort_values(ascending=False).values)\n",
    "        # 결과를 딕셔너리에 저장합니다.\n",
    "        dataframes[f'df_{year}'] = df_year\n",
    "\n",
    "    return dataframes\n",
    "\n",
    "\n"
   ]
  },
  {
   "cell_type": "code",
   "execution_count": 4,
   "metadata": {},
   "outputs": [
    {
     "name": "stdout",
     "output_type": "stream",
     "text": [
      "Data for df_2011:\n",
      "         2011_GHG  2011_CO2\n",
      "Country                    \n",
      "A              20        30\n",
      "B              15        25\n",
      "C              10        20\n",
      "D               5        15\n",
      "\n",
      "Data for df_2012:\n",
      "         2012_GHG  2012_CO2\n",
      "Country                    \n",
      "A              22        32\n",
      "B              18        28\n",
      "C              12        24\n",
      "D               8        16\n",
      "\n"
     ]
    }
   ],
   "source": [
    "# 함수 호출\n",
    "sorted_dataframes = split_and_sort_dataframe(df)\n",
    "\n",
    "# 결과 출력\n",
    "for year, df_year in sorted_dataframes.items():\n",
    "    print(f\"Data for {year}:\")\n",
    "    print(df_year)\n",
    "    print()"
   ]
  },
  {
   "cell_type": "markdown",
   "metadata": {},
   "source": [
    "---\n",
    "csv파일로 저장"
   ]
  },
  {
   "cell_type": "code",
   "execution_count": null,
   "metadata": {},
   "outputs": [],
   "source": [
    "# 연도별 온실가스 배출량은 높은 나라부터 정렬해서 각 연도별로 저장.\n",
    "def sort_ghg_by_year(df):\n",
    "    \"\"\"\n",
    "    데이터프레임을 연도별로 나누고 각 연도별로 내림차순 정렬하는 함수.\n",
    "    \"\"\"\n",
    "    # 각 연도별 데이터프레임을 저장할 딕셔너리\n",
    "    dataframes = {}\n",
    "\n",
    "    # 각 연도의 데이터를 추출하고 내림차순 정렬\n",
    "    for year in df.columns:\n",
    "        # 각 열을 내림차순으로 정렬합니다.\n",
    "        # dataframes[f'rank_{year}'] = df[str(year)].sort_values(ascending=False)\n",
    "        dataframes[str(year)] = df[str(year)].sort_values(ascending=False)\n",
    "        # 연도별 데이터프레임 저장\n",
    "        # dataframes[f'rank_{year}'].to_csv(f'Data/rank/rank_{year}.csv', index=False)\n",
    "        dataframes[str(year)].to_csv(f'Data/rank/{year}.csv')\n",
    "\n",
    "    return dataframes"
   ]
  },
  {
   "cell_type": "code",
   "execution_count": null,
   "metadata": {},
   "outputs": [],
   "source": [
    "rank_df = sort_ghg_by_year(data)"
   ]
  },
  {
   "cell_type": "code",
   "execution_count": null,
   "metadata": {},
   "outputs": [],
   "source": [
    "# 결과 출력\n",
    "for key, value in rank_df.items():\n",
    "    print(key, value.index, value.values)"
   ]
  },
  {
   "cell_type": "markdown",
   "metadata": {},
   "source": [
    "---"
   ]
  },
  {
   "cell_type": "code",
   "execution_count": null,
   "metadata": {},
   "outputs": [],
   "source": [
    "def make_df(df):\n",
    "    for year, df_year in rank_df.items():\n",
    "        # new_df = pd.DataFrame(df_year)\n",
    "        # new_df.set_index(year, inplace=True)\n",
    "        new_data = {\n",
    "            year : df_year\n",
    "        }\n",
    "\n",
    "    # print(f\"Data for {year}:\")\n",
    "    # print(df_year.head(10))\n",
    "    # print()"
   ]
  },
  {
   "cell_type": "markdown",
   "metadata": {},
   "source": []
  }
 ],
 "metadata": {
  "kernelspec": {
   "display_name": "base",
   "language": "python",
   "name": "python3"
  },
  "language_info": {
   "codemirror_mode": {
    "name": "ipython",
    "version": 3
   },
   "file_extension": ".py",
   "mimetype": "text/x-python",
   "name": "python",
   "nbconvert_exporter": "python",
   "pygments_lexer": "ipython3",
   "version": "3.1.undefined"
  }
 },
 "nbformat": 4,
 "nbformat_minor": 2
}
