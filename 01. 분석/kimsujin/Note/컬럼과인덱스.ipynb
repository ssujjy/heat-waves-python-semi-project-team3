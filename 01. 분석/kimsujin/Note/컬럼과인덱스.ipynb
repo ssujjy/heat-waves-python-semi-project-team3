{
 "cells": [
  {
   "cell_type": "markdown",
   "metadata": {},
   "source": [
    "### 컬럼과 인덱스 \n",
    "\n",
    "##### 1) <b> Column 추가 </b>\n",
    "\n",
    ">  DataFrame.insert( loc, column, value, allow_duplicates=False )\n",
    ">\n",
    "> - loc = 추가하고 싶은 위치의 index 값을 넣는다. (3 = Name 앞)\n",
    "> - column = 추가하고 싶은 column의 이름을 넣는다.\n",
    "> - value = 추가하고자 하는 column의 값을 넣는다.\n",
    "\n",
    "    1. <b> 새로운 열을 인덱싱하고 값을 할당  </b>\n",
    "    - 이때 value는 여러 가지 형태가 될 수 있습니다.    \n",
    "    - 하나의 값을 할당하면 해당 값이 모든 행에 대해 동일하게 할당되고, 리스트나 배열을 할당하면 각 행에 다른 값이 할당됩니다.     \n",
    "    > ex) df['D'] = [10, 11, 12]\n",
    "\n",
    "    2. <b> assign() 함수를 사용.  </b>\n",
    "    - 이 함수는 기존 DataFrame을 변경하지 않고 새로운 DataFrame을 반환합니다.             \n",
    "    - 이 함수는 모든 행에 대해 같은 값을 가진 새로운 열을 생성하거나, 각 행에 대해 다른 값을 가진 새로운 열을 생성할 수 있습니다.   \n",
    "    > ex) df = df.assign(E = [13, 14, 15]) \n",
    "                    \n",
    "    3. <b> insert() 함수를 사용. </b>\n",
    "    - 이 함수는 원본 DataFrame을 직접 변경합니다. \n",
    "    - 코드에서 loc는 새로운 열을 삽입할 위치의 인덱스이고, new_column은 새로운 열의 이름이며, value는 새로운 열의 값입니다.\n",
    "    > ex) df.insert(2, 'F', [16, 17, 18])\n",
    "\n",
    "##### 2) <b> Column 삭제 </b>\n",
    "\n",
    ">  DataFrame.drop( labels=None, axis=0, index=None, columns=None, level=None, inplace=False )\n",
    ">\n",
    "> - labels = index 혹은 column의 이름 ( list를 통해 멀티 index 제거도 가능하다. )\n",
    "> - axis = 0 (index) 혹은 1 (column)\n",
    "> - inplace = False의 경우, labels를 drop한 채로 반환한다. ( 따로 저장하려면 변수 초기화가 필요하다. )\n",
    "> - inplace = True의 경우, labels를 drop한 dataframe을 동일한 dataframe에 저장한다.\n",
    "    ex) df.drop([5,6], axis=0, inplace=True)\n",
    "\n",
    "    1. <b>  drop()함수를 사용. </b>\n",
    "    - drop()함수는 지정된 열을 제거한 새로운 DataFrame을 반환합니다. \n",
    "    - 원본 DataFrame을 변경하려면 inplace=True 옵션을 사용하거나 반환 값을 원래의 DataFrame에 다시 할당해야 합니다.\n",
    "    > ex) df = df.drop('D', axis=1)\n",
    "\n",
    "    2. <b> 또한 del 키워드를 사용. </b>\n",
    "    - del 키워드는 원본 DataFrame에서 지정된 열을 바로 삭제합니다.\n",
    "    > ex) del df['E']\n",
    "\n",
    "\n",
    "##### 3) <b> Column 이름 변경 </b>\n",
    "\n",
    "    1. <b> rename() </b>\n",
    "    - 원하는 Column의 이름을 쉽게 변경할 수 있는 함수.\n",
    "    - 아래 코드 처럼 함수 내에서 dictionary형태로 기존 이름을 새 이름으로 매핑합니다. \n",
    "    - 이 함수는 원본 DataFrame을 직접 변경하지 않고 새로운 DataFrame을 반환합니다.\n",
    "\n",
    "    > df = df.rename(columns={'old_name1': 'new_name1', 'old_name2': 'new_name2'})\n",
    "\n",
    "    2. <b>  columns 속성 변경 </b>\n",
    "    - 모든 columns 이름을 새로운 값으로 바꿀 수 있습니다. \n",
    "    - 새로운 columns 이름 리스트의 길이는 반드시 원본 DataFrame의 columns 수와 일치해야합니다.\n",
    "\n",
    "    > df.columns = ['new_name1', 'new_name2', 'new_name3']\n",
    "\n",
    "\n",
    "    3. <b> set_axis()   </b>\n",
    "    - rename()과 비슷하게 작동하지만, axis 매개변수를 사용하여 columns 이름뿐만 아니라 index이름도 변경할 수 있습니다. \n",
    "    - 원본 DataFrame을 직접 변경하지 않고 새로운 DataFrame을 반환합니다. \n",
    "    - 만약 원본 DataFrame을 변경하고자 하면 inplace=True 옵션을 사용해야합니다.\n",
    "\n",
    "    > df.set_axis(['new_name1', 'new_name2', 'new_name3'], axis=1, inplace=True)\n",
    "\n",
    "##### 4) <b> 인덱스를 열로 변환 (reset_index)  </b>\n",
    "\n",
    "> DataFrame.reset_index(level=None, drop=False, inplace=False, col_level=0, col_fill='')    \n",
    ">\n",
    "> - reset_index:  설정 인덱스를 제거하고 기본 인덱스(0,1,2, ... , n)으로 변경\n",
    ">\n",
    "> - level : Multi Index의 경우 제거할 인덱스의 레벨을 설정할수 있습니다. 기본적으로 모든 레벨입니다.\n",
    "> - drop : 제거한 인덱스를 열에 추가할지 여부입니다. 기본값은 False로 제거된 인덱스는 열로 변환됩니다.\n",
    "> - inplace : pandas 공통 인수로, 원본을 변경할지 여부 입니다.\n",
    "> - col_level / col_fill : Multi Index의 경우 제거된 인덱스를 열에 추가할 때 레벨과 열의 이름을 설정할 수 있습니다.\n",
    "> - col_level을 통해 레벨을 설정하고, col_fill을통해 해당 열의 이름을 정합니다."
   ]
  },
  {
   "cell_type": "markdown",
   "metadata": {},
   "source": [
    "---\n",
    "### drop 함수를 이용한 삭제"
   ]
  },
  {
   "cell_type": "code",
   "execution_count": null,
   "metadata": {},
   "outputs": [],
   "source": [
    "# 열(columns) 의 삭제:\n",
    "df.drop(0)  # index 중 0 행 삭제, axis의 default값이 axis = 0이기 때문에 안쳐도 된다.\n",
    "df.drop([1,2]) # 여러 행 삭제 - 1, 2 행을 삭제했다. 0과 3행만 남음\n",
    "\n",
    "\n",
    "# 행(row)의 삭제:\n",
    "df.drop(columns = ['A'])  # 한 개 열을 삭제할 때.\n",
    "df.drop(columns = ['A','B'])  #여러개 열을 삭제할 때.\n",
    "\n",
    "# columns를 안쓰고 axis 설정을 통해 삭제도 가능하다\n",
    "df.drop('A', axis = 1)   #한 개 열을 삭제할 때.\n",
    "df.drop(['A', 'B'], axis = 1)   #여러개 열을 삭제할 때."
   ]
  },
  {
   "cell_type": "markdown",
   "metadata": {},
   "source": [
    "---\n",
    "### iloc, loc을 이용한 삭제"
   ]
  },
  {
   "cell_type": "code",
   "execution_count": 1,
   "metadata": {},
   "outputs": [
    {
     "ename": "NameError",
     "evalue": "name 'df' is not defined",
     "output_type": "error",
     "traceback": [
      "\u001b[0;31m---------------------------------------------------------------------------\u001b[0m",
      "\u001b[0;31mNameError\u001b[0m                                 Traceback (most recent call last)",
      "Cell \u001b[0;32mIn[1], line 4\u001b[0m\n\u001b[1;32m      1\u001b[0m \u001b[38;5;66;03m# 1) iloc을 이용 - index location으로 행 또는 열 index로 슬라이싱이 가능하다.\u001b[39;00m\n\u001b[1;32m      2\u001b[0m \n\u001b[1;32m      3\u001b[0m \u001b[38;5;66;03m#  - 열(columns) 의 삭제:\u001b[39;00m\n\u001b[0;32m----> 4\u001b[0m df\u001b[38;5;241m.\u001b[39miloc[:, \u001b[38;5;241m1\u001b[39m:] \u001b[38;5;66;03m# 0번째 column을 삭제하고 나머지만 남긴다.\u001b[39;00m\n\u001b[1;32m      5\u001b[0m df\u001b[38;5;241m.\u001b[39miloc[:,\u001b[38;5;241m2\u001b[39m:] \u001b[38;5;66;03m# 0번째, 1번째 column 삭제 뒤 나머지만 남기기.\u001b[39;00m\n\u001b[1;32m      7\u001b[0m \u001b[38;5;66;03m#  - 행(rows) 의 삭제:\u001b[39;00m\n",
      "\u001b[0;31mNameError\u001b[0m: name 'df' is not defined"
     ]
    }
   ],
   "source": [
    "# 1) iloc을 이용 - index location으로 행 또는 열 index로 슬라이싱이 가능하다.\n",
    "\n",
    "#  - 열(columns) 의 삭제:\n",
    "df.iloc[:, 1:] # 0번째 column을 삭제하고 나머지만 남긴다.\n",
    "df.iloc[:,2:] # 0번째, 1번째 column 삭제 뒤 나머지만 남기기.\n",
    "\n",
    "#  - 행(rows) 의 삭제:\n",
    "df.iloc[1:] # 0번째 행 삭제하고 나머지 추출\n",
    "df.iloc[1:3]  # 1번째 행부터 2번째 행까지만 출력하여 0행과 3행을 삭제한다.\n",
    "df[1:]    # row는 일반 슬라이싱이 defalut로 설정되어있어, iloc 없이도 index 슬라이싱으로 바로 삭제 가능하다.\n",
    "\n",
    "\n",
    "# 2) loc을 이용 - location 함수로 행 또는 열의 이름으로 선택함으로 삭제한다.\n",
    "#  - 열(columns) 의 삭제:\n",
    "\n",
    "df.loc[:,'B':]  # B열부터 끝까지 출력\n",
    "df.loc[:,'A':'B'] # A열부터 B열까지 출력\n",
    "\n",
    "#  - 행(rows) 의 삭제:\n",
    "\n",
    "df.loc[1:] # 1행부터 끝까지 출력\n",
    "df.loc[2:3] # 2행부터 3행까지 출력\n",
    "\n",
    "# 여기서 주의 할 점은 loc함수는 iloc과 달리 슬라이싱시 마지막 선택 행 또는 열을 포함하는것이다.\n",
    "# 또한 loc과 iloc은 선택을 위한 함수로 이를 적절히 이용하면 원하는 행 또는 열을 선택해서 추출할 수 있고, 원하는대로 변형을 할 수 있기 때문에 유용하게 쓰인다. 이 점 참고해서 다음엔 다른 것에 적용해보도록 하겠다."
   ]
  }
 ],
 "metadata": {
  "kernelspec": {
   "display_name": "base",
   "language": "python",
   "name": "python3"
  },
  "language_info": {
   "codemirror_mode": {
    "name": "ipython",
    "version": 3
   },
   "file_extension": ".py",
   "mimetype": "text/x-python",
   "name": "python",
   "nbconvert_exporter": "python",
   "pygments_lexer": "ipython3",
   "version": "3.11.7"
  }
 },
 "nbformat": 4,
 "nbformat_minor": 2
}
