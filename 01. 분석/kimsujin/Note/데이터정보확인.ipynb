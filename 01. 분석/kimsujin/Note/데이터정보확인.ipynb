{
 "cells": [
  {
   "cell_type": "markdown",
   "metadata": {},
   "source": [
    "# 데이터 파악하기 (head, tail, shape, columns, dtype, isnull.sum, describe, info, unique, nunique)\n",
    "\n",
    "01. 상위 5개의 행 출력 :  head( )    \n",
    "02. 하위 5개의 행 출력 :  tail( )    \n",
    "03. 행, 열 개수 확인 :  shape( )    \n",
    "04. 전체 칼럼 출력 :  .columns     \n",
    "05. 특정 칼럼의 데이터 타입 확인 :  dtype    \n",
    "06. 결측치 개수 파악 :  isnull( ).sum( )   \n",
    "07. 각 컬럼별 데이터 수 & 데이터 타입을 한 번에 확인 : info( )       \n",
    "08. 수치형 변수의 분포 확인 :  describe( )       \n",
    "   -> 전체 데이터 프레임의 칼럼 중, 수치형 데이터를 가지고 있는 칼럼들만 추출하여 각 데이터들의 특성을 보여준다.    \n",
    "   -> 사분위, 평균, 표준편차, 최대값, 최솟값을 확인할 수 있다.       \n",
    "09. 특정 칼럼의 값 확인 :  df.['칼럼명']          \n",
    "10. 특정 칼럼의 유일한 값 확인 : unique( )         \n",
    "   -> 데이터 값의 종류      \n",
    "11. 특정 칼럼의 유일 값의 개수 확인 :  nunique( )    \n",
    "\n",
    "\n",
    "https://bigdaheta.tistory.com/43\n",
    " "
   ]
  },
  {
   "cell_type": "code",
   "execution_count": null,
   "metadata": {},
   "outputs": [],
   "source": []
  }
 ],
 "metadata": {
  "kernelspec": {
   "display_name": "base",
   "language": "python",
   "name": "python3"
  },
  "language_info": {
   "name": "python",
   "version": "3.1.-1"
  }
 },
 "nbformat": 4,
 "nbformat_minor": 2
}
