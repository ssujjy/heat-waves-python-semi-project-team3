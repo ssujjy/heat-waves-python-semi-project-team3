{
 "cells": [
  {
   "cell_type": "markdown",
   "metadata": {},
   "source": [
    "### 데이터프레임 하나로 만들기 (concat, append)\n",
    "\n",
    "1) <b> concat </b> \n",
    "  - 수직으로 붙이기: 옵션 없음       \n",
    "    ex)\n",
    "    df = pd.concat([left, right])\n",
    "\n",
    "  - 수평으로 붙이기: axis=1    \n",
    "    ex)\n",
    "    df = pd.concat([left, right], axis=1)\n",
    "\n",
    "  - 교집합 결과 가져오기: join='inner'     \n",
    "    ex)\n",
    "    df = pd.concat([left, right], join='inner')\n",
    "\n",
    "  - 합집합 결과 가져오기: join='outer'    \n",
    "    ex)\n",
    "    df = pd.concat([left, right], join='outer')\n",
    "\n",
    "  - 계층적 색인 주어 이어 붙이기     \n",
    "    ex) \n",
    "    df = pd.concat([left, right], axis=1, keys=['level1', 'level2'])\n",
    "\n",
    "  - df = pd.concat([df1, df2], ignore_index=True) # ignore_index=True 는 새 정수 색인을 만드는 옵션\n",
    "\n",
    "\n",
    "2) <b> append </b> \n",
    "  - df = df1.append(df2, ignore_index=True)\n"
   ]
  },
  {
   "cell_type": "markdown",
   "metadata": {},
   "source": [
    "### 컬럼과 인덱스 \n",
    "\n",
    "1) DataFrame에 새 column 추가하기\n",
    "\n",
    ">  DataFrame.insert( loc, column, value, allow_duplicates=False )\n",
    "- loc = 추가하고 싶은 위치의 index 값을 넣는다. (3 = Name 앞)\n",
    "- column = 추가하고 싶은 column의 이름을 넣는다.\n",
    "- value = 추가하고자 하는 column의 값을 넣는다.\n",
    "\n",
    "2) DataFrame에 column 삭제하기 \n",
    "\n",
    ">  DataFrame.drop( labels=None, axis=0, index=None, columns=None, level=None, inplace=False )\n",
    "\n",
    "- labels = index 혹은 column의 이름 ( list를 통해 멀티 index 제거도 가능하다. )\n",
    "- axis = 0 (index) 혹은 1 (column)\n",
    "- inplace = False의 경우, labels를 drop한 채로 반환한다. ( 따로 저장하려면 변수 초기화가 필요하다. )\n",
    "- inplace = True의 경우, labels를 drop한 dataframe을 동일한 dataframe에 저장한다.\n",
    "\n",
    "3) 인덱스를 열로 변환 (reset_index)  \n",
    "\n",
    "> DataFrame.reset_index(level=None, drop=False, inplace=False, col_level=0, col_fill='')    \n",
    "  -> reset_index:  설정 인덱스를 제거하고 기본 인덱스(0,1,2, ... , n)으로 변경\n",
    "\n",
    "- level : Multi Index의 경우 제거할 인덱스의 레벨을 설정할수 있습니다. 기본적으로 모든 레벨입니다.\n",
    "- drop : 제거한 인덱스를 열에 추가할지 여부입니다. 기본값은 False로 제거된 인덱스는 열로 변환됩니다.\n",
    "- inplace : pandas 공통 인수로, 원본을 변경할지 여부 입니다.\n",
    "- col_level / col_fill : Multi Index의 경우 제거된 인덱스를 열에 추가할 때 레벨과 열의 이름을 설정할 수 있습니다.\n",
    "- col_level을 통해 레벨을 설정하고, col_fill을통해 해당 열의 이름을 정합니다."
   ]
  },
  {
   "cell_type": "code",
   "execution_count": null,
   "metadata": {},
   "outputs": [],
   "source": []
  }
 ],
 "metadata": {
  "kernelspec": {
   "display_name": "base",
   "language": "python",
   "name": "python3"
  },
  "language_info": {
   "name": "python",
   "version": "3.11.7"
  }
 },
 "nbformat": 4,
 "nbformat_minor": 2
}
