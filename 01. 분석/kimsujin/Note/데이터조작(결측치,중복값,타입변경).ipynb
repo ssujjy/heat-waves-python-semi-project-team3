{
 "cells": [
  {
   "cell_type": "markdown",
   "metadata": {},
   "source": [
    "##### 1. 결측치 처리(NaN)\n",
    "\n",
    "    - isnull() : DataFrame내의 결측치를 확인. Boolean값(True 또는 False)를 반환. True는 결측치. \n",
    "    - dropna() : 결측치를 포함하는 행 또는 열을 제거하는데 사용. 기본적으로 행을 제거하지만, 매개변수를 조정하여 열을 제거하도록 설정할 수도 있다. \n",
    "    - fillna() : 결측치를 다른 값으로 대체하는데 사용\n",
    "\n",
    " \n",
    "\n",
    "    > 코드는 A, B, C라는 세 개의 열을 가진 DataFame을 생성합니다.          \n",
    "    > np.nan은 결측치를 의미하므로, A열의 두 번째 값과 B열의 첫 번째 값은 결측치입니다.          \n",
    "    > 먼저 isnull()함수를 사용하여 각 값이 결측치인지 확인합니다.       \n",
    "    > 그리고 dropna()함수를 사용하여 결측치를 포함하는 모든 행을 제거합니다.        \n",
    "    > 이 경우 ,A열의 두 번째 행과 B열의 첫 번째 행에 결측치가 있으므로,        \n",
    "    > 해당 행들이 제거됩니다.       \n",
    "    > 마지막으로 fillna(0) 함수를 사용하여 결측치를 0으로 대체합니다.           "
   ]
  },
  {
   "cell_type": "code",
   "execution_count": 1,
   "metadata": {},
   "outputs": [
    {
     "name": "stdout",
     "output_type": "stream",
     "text": [
      "       A      B      C\n",
      "0  False   True  False\n",
      "1   True  False  False\n",
      "2  False  False  False\n",
      "     A    B  C\n",
      "2  3.0  6.0  9\n",
      "     A    B  C\n",
      "0  1.0  0.0  7\n",
      "1  0.0  5.0  8\n",
      "2  3.0  6.0  9\n"
     ]
    }
   ],
   "source": [
    "import pandas as pd\n",
    "import numpy as np\n",
    "\n",
    "# DataFrame 생성\n",
    "df = pd.DataFrame({\n",
    "    'A': [1, np.nan, 3],\n",
    "    'B': [np.nan, 5, 6],\n",
    "    'C': [7, 8, 9]\n",
    "})\n",
    "\n",
    "# 결측치 확인\n",
    "print(df.isnull())\n",
    "\n",
    "# 결측치 제거\n",
    "df_dropna = df.dropna()\n",
    "print(df_dropna)\n",
    "\n",
    "\n",
    "# 결측치를 0으로 채우기\n",
    "df_fillna = df.fillna(0)\n",
    "print(df_fillna)\n"
   ]
  },
  {
   "cell_type": "markdown",
   "metadata": {},
   "source": [
    "##### 2. 중복된 데이터 처리\n",
    " \n",
    "1) <b> duplicated() </b>\n",
    "- 각 행이 중복인지 아닌지를 판단. \n",
    "- 중복된 행은 True로 표시되고, 중복되지 않은 행은 False로 표시. \n",
    "\n",
    "2) <b> drop_duplicates는() </b>\n",
    "- 중복된 행을 제거. \n",
    "- 기본적으로 첫 번째 등장하는 행을 유지하고 그 후에 나타나는 중복 행을 제거합니다. \n",
    "- 이 함수는 원본 DataFrame을 수정하지 않고 새로운 DataFrame을 반환합니다."
   ]
  },
  {
   "cell_type": "code",
   "execution_count": null,
   "metadata": {},
   "outputs": [],
   "source": [
    "import pandas as pd\n",
    " \n",
    "# DataFrame 생성\n",
    "df = pd.DataFrame({\n",
    "   'A': [1, 2, 2],\n",
    "   'B': [3, 4, 4],\n",
    "   'C': [5, 6, 6]\n",
    "})\n",
    " \n",
    "# 중복 데이터 확인\n",
    "print(df.duplicated())\n",
    " \n",
    "#0    False\n",
    "#1    False\n",
    "#2     True\n",
    " \n",
    "# 중복 데이터 제거\n",
    "df_dropped = df.drop_duplicates()\n",
    "print(df_dropped)\n",
    " \n",
    "#   A  B  C\n",
    "#0  1  3  5\n",
    "#1  2  4  6"
   ]
  },
  {
   "cell_type": "markdown",
   "metadata": {},
   "source": [
    "##### 3. 데이터 타입 변환\n",
    "- astype() : 지정된 데이터 타입으로 변환\n",
    "- to_datetime() : 문자열을 datetime객체로 변환\n",
    "- to_numeric() : 숫자로 변환할 수 있는 문자열을 숫자로 변환 \n",
    "- to_timedelta() : 문자열, 숫자, 또는 timedelta 값을 표현하는 다른 시퀀스를 Timedelta 객체로 변환"
   ]
  },
  {
   "cell_type": "code",
   "execution_count": null,
   "metadata": {},
   "outputs": [],
   "source": [
    "# astype()은 Pandas 객체를 지정된 데이터 타입으로 변환합니다. \n",
    "# 예를 들어 아래 코드 처럼 DataFrame의 특정 열이 숫자로 되어 있을 때 이를 문자열로 바꾸고 싶을 때 사용할 수 있습니다.\n",
    "\n",
    "df['column_name'] = df['column_name'].astype(str)\n",
    "\n",
    "# to_datetime()은 문자열을 datetime객체로 변환하는데 사용됩니다. \n",
    "# 이 함수는 다양한 날짜/시간 형식의 문자열을 처리할 수 있습니다. \n",
    "# 예를 들어 아래 코드처럼 날짜를 나타내는 문자열이 있고 이를 datetime객체로 변환할 때 사용할 수 있습니다.\n",
    "\n",
    "df['date_column'] = pd.to_datetime(df['date_column'])\n",
    "\n",
    "\n",
    "# to_numeric()는 숫자로 변환할 수 있는 문자열을 숫자로 변환합니다. \n",
    "# errors 매개변수를 'coerce'로 설정하면 변환할 수 없는 값은 NaN으로 처리됩니다.\n",
    "\n",
    "df['numeric_column'] = pd.to_numeric(df['numeric_column'], errors='coerce')\n",
    "\n",
    "\n",
    "# to_timedelta()는 문자열, 숫자, 또는 timedelta 값을 표현하는 다른 시퀀스를 Timedelta 객체로 변환합니다.\n",
    "\n",
    "df['timedelta_column'] = pd.to_timedelta(df['timedelta_column'])"
   ]
  }
 ],
 "metadata": {
  "kernelspec": {
   "display_name": "base",
   "language": "python",
   "name": "python3"
  },
  "language_info": {
   "codemirror_mode": {
    "name": "ipython",
    "version": 3
   },
   "file_extension": ".py",
   "mimetype": "text/x-python",
   "name": "python",
   "nbconvert_exporter": "python",
   "pygments_lexer": "ipython3",
   "version": "3.11.7"
  }
 },
 "nbformat": 4,
 "nbformat_minor": 2
}
