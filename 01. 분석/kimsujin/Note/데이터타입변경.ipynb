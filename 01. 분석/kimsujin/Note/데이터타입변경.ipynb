{
 "cells": [
  {
   "cell_type": "markdown",
   "metadata": {},
   "source": [
    "# 데이터 타입 확인하고 변경하기\n",
    "\n",
    "1. 확인       \n",
    "> - df.dtypes      \n",
    "> - df['col_name'].dtype     \n",
    "    \n",
    "\n",
    "2. 변경            \n",
    "  1) <b> astype </b>    \n",
    ">  - df.astype({'col_A':'float', 'col_B':'int', 'col_C':'string'})    : 하나씩 변경.                 \n",
    ">  - df.astype('float') : 전체를 한꺼번에 변경.      \n",
    "\n",
    "  2) <b> to_numeric </b>\n",
    ">  - pd.to_numeric(df.col_C, errors='coerce') : NaN      \n",
    ">  - ​pd.to_numeric(df.col_C, errors='coerce').fillna(0) : NaN을 0으로 채움.      \n",
    ">  -  df.apply(pd.to_numeric, errors='coerce').fillna(0) : 데이터프레임 전체를 숫자 타입으로 변경.       \n",
    ">     -> apply 함수로 데이터프레임 전체에 to_numeric 함수를 적용해주었기 때문에 단 한 줄로 전체 값들이 숫자로 잘 변환.        \n",
    ">     -> 에러값들은 NaN으로 변경하고 fillna를 0으로 처리한다는 것까지 그대로 한줄안에 포함.   \n",
    "\n",
    "\n",
    "----   \n",
    "       \n",
    "\n",
    "> [ Tip ] ================================           \n",
    ">     df.<span style=\"color:#555555;\">set_index</span>('날짜',inplace=True) # 바꿀수 없는 타입이 있으면 index로 빼놨다가 다시 인덱스를 리셋하면 간편함.            \n",
    ">     df = df.astype('float')   #inplace 가 없음           \n",
    ">     df.<span style=\"color:#555555;\">reset_index</span>(inplace=True)\n",
    ">     df          \n",
    ">     ====================================        \n",
    "\n",
    "> [설명] 날짜 컬럼이 float으로 바꿀 수 없는 타입이라서 나오는 오류인데         \n",
    ">       컬럼별로 다 써서 타입을 바꿔도 되지만 코드를 길게 쓰기 싫어서 다음과 같이 합니다.           \n",
    ">       날짜 컬럼을 index로 넘겨놓고 진행을 합니다.            \n",
    ">       그러고 다시 인덱스 리셋을 하면 한꺼번에 할 수 있습니다.             \n",
    ">       astype은 index는 건드리지 않으니 오류가 발생하지 않습니다.\n",
    "\n",
    "---\n",
    "\n",
    "### 기본 사용법\n",
    "> <b> df.astype(dtype, copy=True, errors='raies') </b>\n",
    ">  - dtype : 변경할 type.  \n",
    ">  - copy  : 사본을 생성할지 여부.   \n",
    ">         -> False로 할 경우 원본 데이터의 값이 변경 될 경우.        \n",
    ">           원본 데이터를 사용해 생성된 객체의 데이터도 변경되기 때문에 False의 선택은 신중하게 해야함.      \n",
    "> - errors : {'raies', 'ignore'} : 변경불가시 오류를 발생시킬 여부.      \n",
    ">        -> ralse로 하여 오류를 발생시키지 않으면, 변경불가능한 요소는 원래 dtype 그대로 보존      \n",
    "\n",
    "\n",
    "1) 한개의 열만 type 변경\n",
    "> - df.astype({'col1':'int32'}) \n",
    "\n",
    "2) 다수의 열의 dtype 변경\n",
    "> - df.astype({'col1':'int32', 'col3':'int64'})\n",
    "\n",
    "3) 모든 열의 dtype 변경\n",
    "> - df.astype(dtype='int64')     \n",
    "> ->  object형식은 int64형태로 변경할 수가 없기 때문에 오류가 발생합니다.     \n",
    "> -> 변경 가능한 열만 변경하려면, errors 인수를 기본값인 'raise' 에서 'ignore'로 변경하면 됩니다.     \n",
    "\n",
    "https://wikidocs.net/151423 "
   ]
  },
  {
   "cell_type": "markdown",
   "metadata": {},
   "source": [
    "----"
   ]
  },
  {
   "cell_type": "markdown",
   "metadata": {},
   "source": [
    "단위 변환\n",
    "\n",
    "서로 다른 단위가 섞여 있거나 같은 대상을 다른 형식으로 표현하면 분석의 정확도는 현저히 낮아진다.\n",
    "데이터 포맷을 일관성있게 표준화 하는 작업이 필요하다.\n",
    "마일 야드 온스 -> 미터 평 그램"
   ]
  },
  {
   "cell_type": "code",
   "execution_count": null,
   "metadata": {},
   "outputs": [],
   "source": [
    "\n",
    "import pandas as pd\n",
    "\n",
    "df = pd.read_csv('../Data/auto-mpg.csv', header=None)\n",
    "df.columns=['mpg','cylinders','displacement','horsepower','weight','acceleration','model year','origin','name']\n",
    "\n",
    "# 마일  -> 킬로미터 \n",
    "mpg_to_kpl = 1.60934/3.78541\n",
    "df['kpl'] = (df['mpg'] * mpg_to_kpl).round(2)\n",
    "df['kpl'].head()"
   ]
  },
  {
   "cell_type": "markdown",
   "metadata": {},
   "source": [
    "### 자료형 변환\n",
    "\n",
    "숫자가 문자열(object)로 저장된 경우에 숫자형(int or float)으로 변환해야 한다."
   ]
  },
  {
   "cell_type": "code",
   "execution_count": null,
   "metadata": {},
   "outputs": [],
   "source": [
    "# 각 열의 자료형 확인\n",
    "df.dtypes\n",
    "\n",
    "# 열의 고유값 확인\n",
    "df['horsepower'].unique()\n",
    "\n",
    "# 중복을 제외한 unique 값의 갯수 (유니크한 값의 갯수)\n",
    "# 갯수가 작은것은 카테고리컬한 데이터일 수 있다.\n",
    "df.unique()\n",
    "\n",
    "# replace()를 사용하면 자동으로 형 변환.\n",
    "df['origin'].replace({1:'USA', 2:'EU', 3:'JPN'},inplace=True)\n",
    "\n",
    "df.select_dtypes(exclude=['타입']) # 타입 제외\n",
    "df.select_dtypes(include=['타입']) # 타입 포함"
   ]
  },
  {
   "cell_type": "markdown",
   "metadata": {},
   "source": []
  }
 ],
 "metadata": {
  "kernelspec": {
   "display_name": "base",
   "language": "python",
   "name": "python3"
  },
  "language_info": {
   "name": "python",
   "version": "3.1.-1"
  }
 },
 "nbformat": 4,
 "nbformat_minor": 2
}
