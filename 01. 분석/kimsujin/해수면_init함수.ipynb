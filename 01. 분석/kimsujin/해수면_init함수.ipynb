{
 "cells": [
  {
   "cell_type": "code",
   "execution_count": 1,
   "metadata": {},
   "outputs": [],
   "source": [
    "import pandas as pd"
   ]
  },
  {
   "cell_type": "code",
   "execution_count": 2,
   "metadata": {},
   "outputs": [],
   "source": [
    "# Data 불러오기\n",
    "\n",
    "# data1990 = pd.read_csv(\"Data/배출원별_온실가스_배출량_1991_2000.csv\", encoding='UTF-8',index_col=0)\n",
    "# data2000 = pd.read_csv(\"Data/배출원별_온실가스_배출량_2001_2010.csv\", encoding='UTF-8',index_col=0)\n",
    "data2010 = pd.read_csv(\"Data/배출원별_온실가스_배출량_2011_2021.csv\", encoding='UTF-8',index_col=0)"
   ]
  },
  {
   "cell_type": "code",
   "execution_count": 3,
   "metadata": {},
   "outputs": [],
   "source": [
    "# df1990 = pd.DataFrame(data1990)\n",
    "# df2000 = pd.DataFrame(data2000)\n",
    "df2010 = pd.DataFrame(data2010)"
   ]
  },
  {
   "cell_type": "code",
   "execution_count": null,
   "metadata": {},
   "outputs": [],
   "source": [
    "# 데이터를 연도별로 나누기.\n",
    "def split_dataframe_by_columns(df, num_cols_per_split):\n",
    "    \"\"\"\n",
    "    주어진 데이터프레임을 일정한 열 간격으로 나누어 여러 개의 데이터프레임을 생성하는 함수입니다.\n",
    "\n",
    "    매개변수:\n",
    "    df (pd.DataFrame): 원본 데이터프레임\n",
    "    num_cols_per_split (int): 각 데이터프레임에 포함될 열의 개수\n",
    "\n",
    "    반환값:\n",
    "    dict: 키가 'df_연도' 형식의 문자열이고 값이 나뉘어진 데이터프레임인 딕셔너리\n",
    "    \"\"\"\n",
    "    dataframes = {}\n",
    "    for i in range(0, df.shape[1], num_cols_per_split):\n",
    "        start_col = i\n",
    "        end_col = i + num_cols_per_split\n",
    "        year = 2011 + i // num_cols_per_split\n",
    "        dataframes[f'df_{year}'] = df.iloc[:, start_col:end_col].copy()\n",
    "    return dataframes"
   ]
  },
  {
   "cell_type": "code",
   "execution_count": null,
   "metadata": {},
   "outputs": [],
   "source": [
    "# 컬럼명 설정하고 해당 로우 제거.\n",
    "def set_first_row_as_colnames(df):\n",
    "    \"\"\"\n",
    "    주어진 데이터프레임의 첫 번째 행을 열 이름으로 설정하고 첫 번째 행을 제거하는 함수입니다.\n",
    "\n",
    "    매개변수:\n",
    "    df (pd.DataFrame): 원본 데이터프레임\n",
    "\n",
    "    반환값:\n",
    "    pd.DataFrame: 첫 번째 행이 열 이름으로 설정된 데이터프레임\n",
    "    \"\"\"\n",
    "    new_df = df.copy()\n",
    "    new_df.columns = new_df.iloc[0]\n",
    "    new_df = new_df[1:].reset_index(drop=True)\n",
    "    return new_df\n"
   ]
  },
  {
   "cell_type": "code",
   "execution_count": null,
   "metadata": {},
   "outputs": [],
   "source": [
    "def process_dataframe(df):\n",
    "    \"\"\"\n",
    "    데이터프레임에서 모든 값이 NaN인 행의 인덱스를 찾아 대륙 리스트에 저장하고,\n",
    "    인덱스를 초기화하여 국가를 컬럼으로 설정한 후, 임시 데이터프레임과 대륙 데이터프레임을 반환합니다.\n",
    "\n",
    "    매개변수:\n",
    "    df (pd.DataFrame): 원본 데이터프레임\n",
    "\n",
    "    반환값:\n",
    "    tuple: (임시 데이터프레임, 대륙 데이터프레임)\n",
    "    \"\"\"\n",
    "    # 모든 값이 NaN인 행의 인덱스를 찾아 대륙(continent)에 넣기\n",
    "    continent_name = df.index[df.isna().all(axis=1)].tolist()\n",
    "    \n",
    "    # 인덱스로 되어있는 국가를 컬럼으로 넣고 인덱스를 숫자로 변경\n",
    "    df.reset_index(inplace=True)\n",
    "    \n",
    "    # 국가가 있는 행만 빼고 나머지 행을 임시로 할당\n",
    "    temp_df = df.iloc[:, 1:]\n",
    "    \n",
    "    # 임시 데이터프레임에서 모든 값이 NaN인 행의 인덱스를 찾아 대륙 인덱스로 설정\n",
    "    continent_idx = temp_df.index[temp_df.isna().all(axis=1)].tolist()\n",
    "    \n",
    "    # 대륙 데이터프레임 생성\n",
    "    continent_df = pd.DataFrame(continent_idx, index=continent_name, columns=['Index'])\n",
    "    \n",
    "    return temp_df, continent_df"
   ]
  },
  {
   "cell_type": "code",
   "execution_count": null,
   "metadata": {},
   "outputs": [],
   "source": [
    "\n",
    "\n",
    "# CSV 파일 읽기\n",
    "csv_file_path = 'path_to_your_csv_file.csv'  # 파일 경로를 지정하세요.\n",
    "df = pd.read_csv(csv_file_path)\n",
    "\n",
    "# 데이터프레임을 연도별로 나누기\n",
    "dataframes = split_dataframe_by_columns(df, 5)\n",
    "\n",
    "# 각 데이터프레임의 첫 번째 행을 열 이름으로 설정하고 나머지 작업 수행\n",
    "for key in dataframes:\n",
    "    dataframes[key] = set_first_row_as_colnames(dataframes[key])\n",
    "    temp_df, continent_df = process_dataframe(dataframes[key])\n",
    "    dataframes[key] = temp_df  # 임시 데이터프레임을 저장 (필요한 경우에 맞게 수정)\n",
    "\n",
    "    # 연도별 데이터프레임 저장\n",
    "    temp_df.to_csv(f'{key}.csv', index=False)\n",
    "    # 대륙 데이터프레임도 저장 (필요한 경우)\n",
    "    continent_df.to_csv(f'continent_{key}.csv')\n",
    "\n",
    "# 결과 출력\n",
    "for key, df in dataframes.items():\n",
    "    print(f\"{key}:\")\n",
    "    print(df.head())  # 데이터프레임의 첫 몇 행을 출력\n",
    "    print()"
   ]
  },
  {
   "cell_type": "markdown",
   "metadata": {},
   "source": [
    "---\n",
    "년도별로 가져온 데이터 나누기"
   ]
  },
  {
   "cell_type": "code",
   "execution_count": 4,
   "metadata": {},
   "outputs": [],
   "source": [
    "# 첫 5개 열 선택\n",
    "df_2011 = df2010.iloc[:, 0:5]\n",
    "\n",
    "# 첫 번째 row의 값을 colnames로 설정\n",
    "df_2011.columns = df_2011.iloc[0]\n",
    "\n",
    "# colnames로 해준 row값 제거\n",
    "df_2011 = df_2011[1:]"
   ]
  }
 ],
 "metadata": {
  "kernelspec": {
   "display_name": "base",
   "language": "python",
   "name": "python3"
  },
  "language_info": {
   "codemirror_mode": {
    "name": "ipython",
    "version": 3
   },
   "file_extension": ".py",
   "mimetype": "text/x-python",
   "name": "python",
   "nbconvert_exporter": "python",
   "pygments_lexer": "ipython3",
   "version": "3.1.-1"
  }
 },
 "nbformat": 4,
 "nbformat_minor": 2
}
