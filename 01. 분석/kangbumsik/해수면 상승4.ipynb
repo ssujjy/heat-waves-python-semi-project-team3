{
 "cells": [
  {
   "cell_type": "code",
   "execution_count": 118,
   "metadata": {},
   "outputs": [],
   "source": [
    "import pandas as pd\n",
    "import numpy as np\n",
    "import seaborn as sns\n",
    "from datetime import datetime, timedelta\n",
    "import matplotlib.pyplot as plt\n",
    "from sklearn.model_selection import train_test_split\n",
    "from sklearn.neighbors import KNeighborsRegressor\n",
    "from sklearn.linear_model import LinearRegression\n",
    "from sklearn.preprocessing import StandardScaler\n",
    "from sklearn.linear_model import Ridge\n",
    "# 다중 회귀분석\n",
    "from sklearn.preprocessing import PolynomialFeatures\n",
    "import warnings\n",
    "warnings.filterwarnings('ignore')\n",
    "from sklearn.cluster import KMeans\n",
    "from sklearn import model_selection\n",
    "from sklearn.decomposition import PCA"
   ]
  },
  {
   "cell_type": "code",
   "execution_count": 4,
   "metadata": {},
   "outputs": [],
   "source": [
    "# 한글 폰트 문제 해결 \n",
    "# matplotlib은 한글 폰트를 지원하지 않음\n",
    "# os정보\n",
    "import platform\n",
    "\n",
    "# font_manager : 폰트 관리 모듈\n",
    "# rc : 폰트 변경 모듈\n",
    "from matplotlib import font_manager, rc\n",
    "# unicode 설정\n",
    "plt.rcParams['axes.unicode_minus'] = False\n",
    "\n",
    "if platform.system() == 'Darwin':\n",
    "    rc('font', family='AppleGothic') # os가 macos\n",
    "elif platform.system() == 'Windows':\n",
    "    path = 'c:/Windows/Fonts/malgun.ttf' # os가 windows\n",
    "    font_name = font_manager.FontProperties(fname=path).get_name()\n",
    "    rc('font', family=font_name)\n",
    "else:\n",
    "    print(\"Unknown System\")"
   ]
  },
  {
   "cell_type": "code",
   "execution_count": 8,
   "metadata": {},
   "outputs": [],
   "source": [
    "data = pd.read_csv('../file/data_ver2.csv')\n",
    "data = data.drop(columns='Unnamed: 0')"
   ]
  },
  {
   "cell_type": "code",
   "execution_count": 9,
   "metadata": {},
   "outputs": [],
   "source": [
    "target = data[['sealevel']]\n",
    "feature = data.drop(columns='sealevel')"
   ]
  },
  {
   "cell_type": "code",
   "execution_count": 10,
   "metadata": {},
   "outputs": [
    {
     "data": {
      "text/html": [
       "<div>\n",
       "<style scoped>\n",
       "    .dataframe tbody tr th:only-of-type {\n",
       "        vertical-align: middle;\n",
       "    }\n",
       "\n",
       "    .dataframe tbody tr th {\n",
       "        vertical-align: top;\n",
       "    }\n",
       "\n",
       "    .dataframe thead th {\n",
       "        text-align: right;\n",
       "    }\n",
       "</style>\n",
       "<table border=\"1\" class=\"dataframe\">\n",
       "  <thead>\n",
       "    <tr style=\"text-align: right;\">\n",
       "      <th></th>\n",
       "      <th>Year</th>\n",
       "      <th>Hole Area</th>\n",
       "      <th>Minimum Ozone</th>\n",
       "      <th>co2</th>\n",
       "      <th>Population</th>\n",
       "      <th>Thickness</th>\n",
       "      <th>북극 해빙면적 평균(10^6km)</th>\n",
       "      <th>남극 해빙면적 평균(10^6km)</th>\n",
       "    </tr>\n",
       "  </thead>\n",
       "  <tbody>\n",
       "    <tr>\n",
       "      <th>0</th>\n",
       "      <td>1990</td>\n",
       "      <td>19.2</td>\n",
       "      <td>124.2</td>\n",
       "      <td>22849.92</td>\n",
       "      <td>5.28</td>\n",
       "      <td>2.035898</td>\n",
       "      <td>9.668333</td>\n",
       "      <td>8.662500</td>\n",
       "    </tr>\n",
       "    <tr>\n",
       "      <th>1</th>\n",
       "      <td>1991</td>\n",
       "      <td>18.8</td>\n",
       "      <td>119.0</td>\n",
       "      <td>23056.40</td>\n",
       "      <td>5.37</td>\n",
       "      <td>2.025763</td>\n",
       "      <td>9.742500</td>\n",
       "      <td>8.674167</td>\n",
       "    </tr>\n",
       "    <tr>\n",
       "      <th>2</th>\n",
       "      <td>1992</td>\n",
       "      <td>22.3</td>\n",
       "      <td>114.3</td>\n",
       "      <td>22988.29</td>\n",
       "      <td>5.45</td>\n",
       "      <td>2.024229</td>\n",
       "      <td>10.099167</td>\n",
       "      <td>8.525000</td>\n",
       "    </tr>\n",
       "    <tr>\n",
       "      <th>3</th>\n",
       "      <td>1993</td>\n",
       "      <td>24.2</td>\n",
       "      <td>112.6</td>\n",
       "      <td>23124.00</td>\n",
       "      <td>5.54</td>\n",
       "      <td>1.934320</td>\n",
       "      <td>9.810000</td>\n",
       "      <td>8.611667</td>\n",
       "    </tr>\n",
       "    <tr>\n",
       "      <th>4</th>\n",
       "      <td>1994</td>\n",
       "      <td>23.6</td>\n",
       "      <td>92.3</td>\n",
       "      <td>23260.29</td>\n",
       "      <td>5.62</td>\n",
       "      <td>1.974827</td>\n",
       "      <td>9.989167</td>\n",
       "      <td>9.030000</td>\n",
       "    </tr>\n",
       "  </tbody>\n",
       "</table>\n",
       "</div>"
      ],
      "text/plain": [
       "   Year  Hole Area  Minimum Ozone       co2   Population  Thickness  \\\n",
       "0  1990       19.2          124.2  22849.92         5.28   2.035898   \n",
       "1  1991       18.8          119.0  23056.40         5.37   2.025763   \n",
       "2  1992       22.3          114.3  22988.29         5.45   2.024229   \n",
       "3  1993       24.2          112.6  23124.00         5.54   1.934320   \n",
       "4  1994       23.6           92.3  23260.29         5.62   1.974827   \n",
       "\n",
       "   북극 해빙면적 평균(10^6km)  남극 해빙면적 평균(10^6km)  \n",
       "0            9.668333            8.662500  \n",
       "1            9.742500            8.674167  \n",
       "2           10.099167            8.525000  \n",
       "3            9.810000            8.611667  \n",
       "4            9.989167            9.030000  "
      ]
     },
     "execution_count": 10,
     "metadata": {},
     "output_type": "execute_result"
    }
   ],
   "source": [
    "target.head()\n",
    "feature.head()"
   ]
  },
  {
   "cell_type": "code",
   "execution_count": 18,
   "metadata": {},
   "outputs": [
    {
     "name": "stdout",
     "output_type": "stream",
     "text": [
      "(21, 45)\n",
      "(7, 45)\n",
      "train score : 1.0\n",
      "train score : -0.6387695776240385\n"
     ]
    }
   ],
   "source": [
    "train_input,test_input,train_target,test_target = \\\n",
    "    train_test_split(feature,target)\n",
    "\n",
    "poly = PolynomialFeatures()\n",
    "train_poly = poly.fit_transform(train_input)\n",
    "print(train_poly.shape)\n",
    "test_poly = poly.transform(test_input)\n",
    "print(test_poly.shape)\n",
    "lr = LinearRegression()\n",
    "lr.fit(train_poly,train_target)\n",
    "print(\"train score :\",lr.score(train_poly,train_target))\n",
    "print(\"train score :\",lr.score(test_poly,test_target))"
   ]
  },
  {
   "cell_type": "code",
   "execution_count": 19,
   "metadata": {},
   "outputs": [
    {
     "name": "stdout",
     "output_type": "stream",
     "text": [
      "train score : 0.9882468714749181\n",
      "test score : 0.8797172992114302\n"
     ]
    }
   ],
   "source": [
    "ss = StandardScaler()\n",
    "ss.fit(train_poly)\n",
    "\n",
    "train_scaled = ss.transform(train_poly)\n",
    "test_scaled = ss.transform(test_poly)\n",
    "\n",
    "ridge = Ridge()\n",
    "\n",
    "ridge.fit(train_scaled,train_target)\n",
    "print(\"train score :\",ridge.score(train_scaled,train_target))\n",
    "print(\"test score :\",ridge.score(test_scaled,test_target))\n",
    "model_selection.cross_val_score()"
   ]
  },
  {
   "cell_type": "code",
   "execution_count": 23,
   "metadata": {},
   "outputs": [
    {
     "data": {
      "text/plain": [
       "(7, 45)"
      ]
     },
     "execution_count": 23,
     "metadata": {},
     "output_type": "execute_result"
    }
   ],
   "source": [
    "test_scaled.shape"
   ]
  },
  {
   "cell_type": "code",
   "execution_count": 24,
   "metadata": {},
   "outputs": [
    {
     "data": {
      "text/plain": [
       "(21, 45)"
      ]
     },
     "execution_count": 24,
     "metadata": {},
     "output_type": "execute_result"
    }
   ],
   "source": [
    "train_scaled.shape"
   ]
  },
  {
   "cell_type": "code",
   "execution_count": 25,
   "metadata": {},
   "outputs": [
    {
     "data": {
      "text/plain": [
       "(28, 8)"
      ]
     },
     "execution_count": 25,
     "metadata": {},
     "output_type": "execute_result"
    }
   ],
   "source": [
    "feature.shape"
   ]
  },
  {
   "cell_type": "code",
   "execution_count": 26,
   "metadata": {},
   "outputs": [
    {
     "data": {
      "text/plain": [
       "(28, 9)"
      ]
     },
     "execution_count": 26,
     "metadata": {},
     "output_type": "execute_result"
    }
   ],
   "source": [
    "data.shape"
   ]
  },
  {
   "cell_type": "code",
   "execution_count": 43,
   "metadata": {},
   "outputs": [
    {
     "data": {
      "text/html": [
       "<style>#sk-container-id-5 {color: black;background-color: white;}#sk-container-id-5 pre{padding: 0;}#sk-container-id-5 div.sk-toggleable {background-color: white;}#sk-container-id-5 label.sk-toggleable__label {cursor: pointer;display: block;width: 100%;margin-bottom: 0;padding: 0.3em;box-sizing: border-box;text-align: center;}#sk-container-id-5 label.sk-toggleable__label-arrow:before {content: \"▸\";float: left;margin-right: 0.25em;color: #696969;}#sk-container-id-5 label.sk-toggleable__label-arrow:hover:before {color: black;}#sk-container-id-5 div.sk-estimator:hover label.sk-toggleable__label-arrow:before {color: black;}#sk-container-id-5 div.sk-toggleable__content {max-height: 0;max-width: 0;overflow: hidden;text-align: left;background-color: #f0f8ff;}#sk-container-id-5 div.sk-toggleable__content pre {margin: 0.2em;color: black;border-radius: 0.25em;background-color: #f0f8ff;}#sk-container-id-5 input.sk-toggleable__control:checked~div.sk-toggleable__content {max-height: 200px;max-width: 100%;overflow: auto;}#sk-container-id-5 input.sk-toggleable__control:checked~label.sk-toggleable__label-arrow:before {content: \"▾\";}#sk-container-id-5 div.sk-estimator input.sk-toggleable__control:checked~label.sk-toggleable__label {background-color: #d4ebff;}#sk-container-id-5 div.sk-label input.sk-toggleable__control:checked~label.sk-toggleable__label {background-color: #d4ebff;}#sk-container-id-5 input.sk-hidden--visually {border: 0;clip: rect(1px 1px 1px 1px);clip: rect(1px, 1px, 1px, 1px);height: 1px;margin: -1px;overflow: hidden;padding: 0;position: absolute;width: 1px;}#sk-container-id-5 div.sk-estimator {font-family: monospace;background-color: #f0f8ff;border: 1px dotted black;border-radius: 0.25em;box-sizing: border-box;margin-bottom: 0.5em;}#sk-container-id-5 div.sk-estimator:hover {background-color: #d4ebff;}#sk-container-id-5 div.sk-parallel-item::after {content: \"\";width: 100%;border-bottom: 1px solid gray;flex-grow: 1;}#sk-container-id-5 div.sk-label:hover label.sk-toggleable__label {background-color: #d4ebff;}#sk-container-id-5 div.sk-serial::before {content: \"\";position: absolute;border-left: 1px solid gray;box-sizing: border-box;top: 0;bottom: 0;left: 50%;z-index: 0;}#sk-container-id-5 div.sk-serial {display: flex;flex-direction: column;align-items: center;background-color: white;padding-right: 0.2em;padding-left: 0.2em;position: relative;}#sk-container-id-5 div.sk-item {position: relative;z-index: 1;}#sk-container-id-5 div.sk-parallel {display: flex;align-items: stretch;justify-content: center;background-color: white;position: relative;}#sk-container-id-5 div.sk-item::before, #sk-container-id-5 div.sk-parallel-item::before {content: \"\";position: absolute;border-left: 1px solid gray;box-sizing: border-box;top: 0;bottom: 0;left: 50%;z-index: -1;}#sk-container-id-5 div.sk-parallel-item {display: flex;flex-direction: column;z-index: 1;position: relative;background-color: white;}#sk-container-id-5 div.sk-parallel-item:first-child::after {align-self: flex-end;width: 50%;}#sk-container-id-5 div.sk-parallel-item:last-child::after {align-self: flex-start;width: 50%;}#sk-container-id-5 div.sk-parallel-item:only-child::after {width: 0;}#sk-container-id-5 div.sk-dashed-wrapped {border: 1px dashed gray;margin: 0 0.4em 0.5em 0.4em;box-sizing: border-box;padding-bottom: 0.4em;background-color: white;}#sk-container-id-5 div.sk-label label {font-family: monospace;font-weight: bold;display: inline-block;line-height: 1.2em;}#sk-container-id-5 div.sk-label-container {text-align: center;}#sk-container-id-5 div.sk-container {/* jupyter's `normalize.less` sets `[hidden] { display: none; }` but bootstrap.min.css set `[hidden] { display: none !important; }` so we also need the `!important` here to be able to override the default hidden behavior on the sphinx rendered scikit-learn.org. See: https://github.com/scikit-learn/scikit-learn/issues/21755 */display: inline-block !important;position: relative;}#sk-container-id-5 div.sk-text-repr-fallback {display: none;}</style><div id=\"sk-container-id-5\" class=\"sk-top-container\"><div class=\"sk-text-repr-fallback\"><pre>KMeans(n_clusters=2)</pre><b>In a Jupyter environment, please rerun this cell to show the HTML representation or trust the notebook. <br />On GitHub, the HTML representation is unable to render, please try loading this page with nbviewer.org.</b></div><div class=\"sk-container\" hidden><div class=\"sk-item\"><div class=\"sk-estimator sk-toggleable\"><input class=\"sk-toggleable__control sk-hidden--visually\" id=\"sk-estimator-id-5\" type=\"checkbox\" checked><label for=\"sk-estimator-id-5\" class=\"sk-toggleable__label sk-toggleable__label-arrow\">KMeans</label><div class=\"sk-toggleable__content\"><pre>KMeans(n_clusters=2)</pre></div></div></div></div></div>"
      ],
      "text/plain": [
       "KMeans(n_clusters=2)"
      ]
     },
     "execution_count": 43,
     "metadata": {},
     "output_type": "execute_result"
    }
   ],
   "source": [
    "km = KMeans(n_clusters=2)\n",
    "km.fit(data)   # fit(data, label)"
   ]
  },
  {
   "cell_type": "code",
   "execution_count": 44,
   "metadata": {},
   "outputs": [
    {
     "data": {
      "text/plain": [
       "array([0, 0, 0, 0, 0, 0, 0, 0, 0, 0, 0, 0, 0, 0, 1, 1, 1, 1, 1, 1, 1, 1,\n",
       "       1, 1, 1, 1, 1, 1], dtype=int32)"
      ]
     },
     "execution_count": 44,
     "metadata": {},
     "output_type": "execute_result"
    }
   ],
   "source": [
    "km.labels_"
   ]
  },
  {
   "cell_type": "code",
   "execution_count": 45,
   "metadata": {},
   "outputs": [
    {
     "data": {
      "text/plain": [
       "(array([0, 1], dtype=int32), array([14, 14]))"
      ]
     },
     "execution_count": 45,
     "metadata": {},
     "output_type": "execute_result"
    }
   ],
   "source": [
    "np.unique(km.labels_, return_counts=True) "
   ]
  },
  {
   "cell_type": "code",
   "execution_count": 46,
   "metadata": {},
   "outputs": [
    {
     "data": {
      "image/png": "[encoded data removed]",
      "text/plain": [
       "<Figure size 640x480 with 1 Axes>"
      ]
     },
     "metadata": {},
     "output_type": "display_data"
    }
   ],
   "source": [
    "inertia = []\n",
    "for k in range(1, 7):\n",
    "    km = KMeans(n_clusters=k)\n",
    "    km.fit(data)\n",
    "    inertia.append(km.inertia_)\n",
    "\n",
    "plt.plot(range(1, 7), inertia)\n",
    "plt.show()"
   ]
  },
  {
   "cell_type": "code",
   "execution_count": 48,
   "metadata": {},
   "outputs": [],
   "source": [
    "lr = LinearRegression()"
   ]
  },
  {
   "cell_type": "code",
   "execution_count": 65,
   "metadata": {},
   "outputs": [],
   "source": [
    "data2 = data.copy()"
   ]
  },
  {
   "cell_type": "code",
   "execution_count": 72,
   "metadata": {},
   "outputs": [],
   "source": [
    "# 필요한 열만 선택\n",
    "X = data2[['Hole Area', 'Minimum Ozone', 'co2', ' Population', 'Thickness', '북극 해빙면적 평균(10^6km)', '남극 해빙면적 평균(10^6km)']]\n",
    "\n",
    "# K-means 클러스터링 수행\n",
    "kmeans = KMeans(n_clusters=2)\n",
    "da = kmeans.fit_predict(X)\n"
   ]
  },
  {
   "cell_type": "code",
   "execution_count": 73,
   "metadata": {},
   "outputs": [
    {
     "data": {
      "text/plain": [
       "array([0, 0, 0, 0, 0, 0, 0, 0, 0, 0, 0, 0, 0, 0, 1, 1, 1, 1, 1, 1, 1, 1,\n",
       "       1, 1, 1, 1, 1, 1], dtype=int32)"
      ]
     },
     "execution_count": 73,
     "metadata": {},
     "output_type": "execute_result"
    }
   ],
   "source": [
    "da"
   ]
  },
  {
   "cell_type": "code",
   "execution_count": 70,
   "metadata": {},
   "outputs": [
    {
     "data": {
      "text/html": [
       "<div>\n",
       "<style scoped>\n",
       "    .dataframe tbody tr th:only-of-type {\n",
       "        vertical-align: middle;\n",
       "    }\n",
       "\n",
       "    .dataframe tbody tr th {\n",
       "        vertical-align: top;\n",
       "    }\n",
       "\n",
       "    .dataframe thead th {\n",
       "        text-align: right;\n",
       "    }\n",
       "</style>\n",
       "<table border=\"1\" class=\"dataframe\">\n",
       "  <thead>\n",
       "    <tr style=\"text-align: right;\">\n",
       "      <th></th>\n",
       "      <th>Year</th>\n",
       "      <th>sealevel</th>\n",
       "      <th>Hole Area</th>\n",
       "      <th>Minimum Ozone</th>\n",
       "      <th>co2</th>\n",
       "      <th>Population</th>\n",
       "      <th>Thickness</th>\n",
       "      <th>북극 해빙면적 평균(10^6km)</th>\n",
       "      <th>남극 해빙면적 평균(10^6km)</th>\n",
       "      <th>Cluster</th>\n",
       "    </tr>\n",
       "  </thead>\n",
       "  <tbody>\n",
       "    <tr>\n",
       "      <th>0</th>\n",
       "      <td>1990</td>\n",
       "      <td>-22.847396</td>\n",
       "      <td>19.2</td>\n",
       "      <td>124.2</td>\n",
       "      <td>22849.92</td>\n",
       "      <td>5.28</td>\n",
       "      <td>2.035898</td>\n",
       "      <td>9.668333</td>\n",
       "      <td>8.662500</td>\n",
       "      <td>1</td>\n",
       "    </tr>\n",
       "    <tr>\n",
       "      <th>1</th>\n",
       "      <td>1991</td>\n",
       "      <td>-22.814062</td>\n",
       "      <td>18.8</td>\n",
       "      <td>119.0</td>\n",
       "      <td>23056.40</td>\n",
       "      <td>5.37</td>\n",
       "      <td>2.025763</td>\n",
       "      <td>9.742500</td>\n",
       "      <td>8.674167</td>\n",
       "      <td>1</td>\n",
       "    </tr>\n",
       "    <tr>\n",
       "      <th>2</th>\n",
       "      <td>1992</td>\n",
       "      <td>-20.247396</td>\n",
       "      <td>22.3</td>\n",
       "      <td>114.3</td>\n",
       "      <td>22988.29</td>\n",
       "      <td>5.45</td>\n",
       "      <td>2.024229</td>\n",
       "      <td>10.099167</td>\n",
       "      <td>8.525000</td>\n",
       "      <td>1</td>\n",
       "    </tr>\n",
       "    <tr>\n",
       "      <th>3</th>\n",
       "      <td>1993</td>\n",
       "      <td>-22.780729</td>\n",
       "      <td>24.2</td>\n",
       "      <td>112.6</td>\n",
       "      <td>23124.00</td>\n",
       "      <td>5.54</td>\n",
       "      <td>1.934320</td>\n",
       "      <td>9.810000</td>\n",
       "      <td>8.611667</td>\n",
       "      <td>1</td>\n",
       "    </tr>\n",
       "    <tr>\n",
       "      <th>4</th>\n",
       "      <td>1994</td>\n",
       "      <td>-17.980729</td>\n",
       "      <td>23.6</td>\n",
       "      <td>92.3</td>\n",
       "      <td>23260.29</td>\n",
       "      <td>5.62</td>\n",
       "      <td>1.974827</td>\n",
       "      <td>9.989167</td>\n",
       "      <td>9.030000</td>\n",
       "      <td>1</td>\n",
       "    </tr>\n",
       "    <tr>\n",
       "      <th>5</th>\n",
       "      <td>1996</td>\n",
       "      <td>-11.947396</td>\n",
       "      <td>22.8</td>\n",
       "      <td>108.8</td>\n",
       "      <td>24214.92</td>\n",
       "      <td>5.79</td>\n",
       "      <td>1.896918</td>\n",
       "      <td>9.799167</td>\n",
       "      <td>8.819167</td>\n",
       "      <td>1</td>\n",
       "    </tr>\n",
       "    <tr>\n",
       "      <th>6</th>\n",
       "      <td>1997</td>\n",
       "      <td>-2.647396</td>\n",
       "      <td>22.1</td>\n",
       "      <td>108.8</td>\n",
       "      <td>25292.92</td>\n",
       "      <td>5.87</td>\n",
       "      <td>1.935293</td>\n",
       "      <td>9.616667</td>\n",
       "      <td>8.657500</td>\n",
       "      <td>1</td>\n",
       "    </tr>\n",
       "    <tr>\n",
       "      <th>7</th>\n",
       "      <td>1998</td>\n",
       "      <td>-10.814063</td>\n",
       "      <td>25.9</td>\n",
       "      <td>98.8</td>\n",
       "      <td>24895.32</td>\n",
       "      <td>5.95</td>\n",
       "      <td>1.830868</td>\n",
       "      <td>9.626667</td>\n",
       "      <td>8.814167</td>\n",
       "      <td>1</td>\n",
       "    </tr>\n",
       "    <tr>\n",
       "      <th>8</th>\n",
       "      <td>1999</td>\n",
       "      <td>-0.247396</td>\n",
       "      <td>23.3</td>\n",
       "      <td>102.9</td>\n",
       "      <td>24957.30</td>\n",
       "      <td>6.03</td>\n",
       "      <td>1.770938</td>\n",
       "      <td>9.693333</td>\n",
       "      <td>8.829167</td>\n",
       "      <td>1</td>\n",
       "    </tr>\n",
       "    <tr>\n",
       "      <th>9</th>\n",
       "      <td>2000</td>\n",
       "      <td>2.952604</td>\n",
       "      <td>24.8</td>\n",
       "      <td>98.7</td>\n",
       "      <td>25637.87</td>\n",
       "      <td>6.11</td>\n",
       "      <td>1.750909</td>\n",
       "      <td>9.457500</td>\n",
       "      <td>8.995000</td>\n",
       "      <td>1</td>\n",
       "    </tr>\n",
       "    <tr>\n",
       "      <th>10</th>\n",
       "      <td>2001</td>\n",
       "      <td>4.719271</td>\n",
       "      <td>25.0</td>\n",
       "      <td>100.9</td>\n",
       "      <td>25726.42</td>\n",
       "      <td>6.19</td>\n",
       "      <td>1.795824</td>\n",
       "      <td>9.569167</td>\n",
       "      <td>8.724167</td>\n",
       "      <td>1</td>\n",
       "    </tr>\n",
       "    <tr>\n",
       "      <th>11</th>\n",
       "      <td>2002</td>\n",
       "      <td>2.152604</td>\n",
       "      <td>12.0</td>\n",
       "      <td>157.4</td>\n",
       "      <td>26486.63</td>\n",
       "      <td>6.27</td>\n",
       "      <td>1.752091</td>\n",
       "      <td>9.356667</td>\n",
       "      <td>8.505000</td>\n",
       "      <td>1</td>\n",
       "    </tr>\n",
       "    <tr>\n",
       "      <th>12</th>\n",
       "      <td>2003</td>\n",
       "      <td>14.619271</td>\n",
       "      <td>25.8</td>\n",
       "      <td>108.7</td>\n",
       "      <td>27308.37</td>\n",
       "      <td>6.35</td>\n",
       "      <td>1.714332</td>\n",
       "      <td>9.289167</td>\n",
       "      <td>9.066667</td>\n",
       "      <td>1</td>\n",
       "    </tr>\n",
       "    <tr>\n",
       "      <th>13</th>\n",
       "      <td>2004</td>\n",
       "      <td>13.652604</td>\n",
       "      <td>19.5</td>\n",
       "      <td>123.5</td>\n",
       "      <td>28826.48</td>\n",
       "      <td>6.43</td>\n",
       "      <td>1.688927</td>\n",
       "      <td>9.367500</td>\n",
       "      <td>9.047500</td>\n",
       "      <td>1</td>\n",
       "    </tr>\n",
       "    <tr>\n",
       "      <th>14</th>\n",
       "      <td>2005</td>\n",
       "      <td>12.119271</td>\n",
       "      <td>24.4</td>\n",
       "      <td>113.8</td>\n",
       "      <td>29663.75</td>\n",
       "      <td>6.51</td>\n",
       "      <td>1.672172</td>\n",
       "      <td>9.020833</td>\n",
       "      <td>8.752500</td>\n",
       "      <td>0</td>\n",
       "    </tr>\n",
       "    <tr>\n",
       "      <th>15</th>\n",
       "      <td>2006</td>\n",
       "      <td>9.519271</td>\n",
       "      <td>26.6</td>\n",
       "      <td>98.4</td>\n",
       "      <td>30905.93</td>\n",
       "      <td>6.59</td>\n",
       "      <td>1.620570</td>\n",
       "      <td>8.802500</td>\n",
       "      <td>8.667500</td>\n",
       "      <td>0</td>\n",
       "    </tr>\n",
       "    <tr>\n",
       "      <th>16</th>\n",
       "      <td>2007</td>\n",
       "      <td>22.785937</td>\n",
       "      <td>22.0</td>\n",
       "      <td>116.2</td>\n",
       "      <td>31608.28</td>\n",
       "      <td>6.67</td>\n",
       "      <td>1.550804</td>\n",
       "      <td>8.460000</td>\n",
       "      <td>8.946667</td>\n",
       "      <td>0</td>\n",
       "    </tr>\n",
       "    <tr>\n",
       "      <th>17</th>\n",
       "      <td>2008</td>\n",
       "      <td>30.452604</td>\n",
       "      <td>25.2</td>\n",
       "      <td>114.0</td>\n",
       "      <td>31856.76</td>\n",
       "      <td>6.76</td>\n",
       "      <td>1.543778</td>\n",
       "      <td>9.235000</td>\n",
       "      <td>9.280833</td>\n",
       "      <td>0</td>\n",
       "    </tr>\n",
       "    <tr>\n",
       "      <th>18</th>\n",
       "      <td>2009</td>\n",
       "      <td>33.652604</td>\n",
       "      <td>22.0</td>\n",
       "      <td>107.9</td>\n",
       "      <td>31769.89</td>\n",
       "      <td>6.84</td>\n",
       "      <td>1.521169</td>\n",
       "      <td>9.236667</td>\n",
       "      <td>9.155000</td>\n",
       "      <td>0</td>\n",
       "    </tr>\n",
       "    <tr>\n",
       "      <th>19</th>\n",
       "      <td>2010</td>\n",
       "      <td>33.878240</td>\n",
       "      <td>19.4</td>\n",
       "      <td>128.5</td>\n",
       "      <td>33328.38</td>\n",
       "      <td>6.92</td>\n",
       "      <td>1.378012</td>\n",
       "      <td>8.980000</td>\n",
       "      <td>9.122500</td>\n",
       "      <td>0</td>\n",
       "    </tr>\n",
       "    <tr>\n",
       "      <th>20</th>\n",
       "      <td>2011</td>\n",
       "      <td>36.718471</td>\n",
       "      <td>24.7</td>\n",
       "      <td>106.5</td>\n",
       "      <td>33226.01</td>\n",
       "      <td>7.00</td>\n",
       "      <td>1.336479</td>\n",
       "      <td>8.775833</td>\n",
       "      <td>8.691667</td>\n",
       "      <td>0</td>\n",
       "    </tr>\n",
       "    <tr>\n",
       "      <th>21</th>\n",
       "      <td>2012</td>\n",
       "      <td>47.173903</td>\n",
       "      <td>17.8</td>\n",
       "      <td>139.3</td>\n",
       "      <td>33620.34</td>\n",
       "      <td>7.09</td>\n",
       "      <td>1.335562</td>\n",
       "      <td>8.661667</td>\n",
       "      <td>9.206667</td>\n",
       "      <td>0</td>\n",
       "    </tr>\n",
       "    <tr>\n",
       "      <th>22</th>\n",
       "      <td>2013</td>\n",
       "      <td>41.337987</td>\n",
       "      <td>21.0</td>\n",
       "      <td>132.7</td>\n",
       "      <td>34217.18</td>\n",
       "      <td>7.18</td>\n",
       "      <td>1.364877</td>\n",
       "      <td>9.238333</td>\n",
       "      <td>9.658333</td>\n",
       "      <td>0</td>\n",
       "    </tr>\n",
       "    <tr>\n",
       "      <th>23</th>\n",
       "      <td>2014</td>\n",
       "      <td>53.857372</td>\n",
       "      <td>20.9</td>\n",
       "      <td>128.6</td>\n",
       "      <td>34558.59</td>\n",
       "      <td>7.26</td>\n",
       "      <td>1.503155</td>\n",
       "      <td>9.105000</td>\n",
       "      <td>9.829167</td>\n",
       "      <td>0</td>\n",
       "    </tr>\n",
       "    <tr>\n",
       "      <th>24</th>\n",
       "      <td>2015</td>\n",
       "      <td>50.461706</td>\n",
       "      <td>25.6</td>\n",
       "      <td>117.2</td>\n",
       "      <td>34521.91</td>\n",
       "      <td>7.35</td>\n",
       "      <td>1.510779</td>\n",
       "      <td>8.920833</td>\n",
       "      <td>9.388333</td>\n",
       "      <td>0</td>\n",
       "    </tr>\n",
       "    <tr>\n",
       "      <th>25</th>\n",
       "      <td>2016</td>\n",
       "      <td>54.346964</td>\n",
       "      <td>20.7</td>\n",
       "      <td>123.2</td>\n",
       "      <td>35160.60</td>\n",
       "      <td>7.43</td>\n",
       "      <td>1.383348</td>\n",
       "      <td>8.325000</td>\n",
       "      <td>8.353333</td>\n",
       "      <td>0</td>\n",
       "    </tr>\n",
       "    <tr>\n",
       "      <th>26</th>\n",
       "      <td>2017</td>\n",
       "      <td>57.355991</td>\n",
       "      <td>17.4</td>\n",
       "      <td>141.8</td>\n",
       "      <td>35588.70</td>\n",
       "      <td>7.52</td>\n",
       "      <td>1.293283</td>\n",
       "      <td>8.706667</td>\n",
       "      <td>8.083333</td>\n",
       "      <td>0</td>\n",
       "    </tr>\n",
       "    <tr>\n",
       "      <th>27</th>\n",
       "      <td>2018</td>\n",
       "      <td>53.085122</td>\n",
       "      <td>22.9</td>\n",
       "      <td>111.8</td>\n",
       "      <td>36441.55</td>\n",
       "      <td>7.60</td>\n",
       "      <td>1.380304</td>\n",
       "      <td>8.755000</td>\n",
       "      <td>8.265833</td>\n",
       "      <td>0</td>\n",
       "    </tr>\n",
       "  </tbody>\n",
       "</table>\n",
       "</div>"
      ],
      "text/plain": [
       "    Year   sealevel  Hole Area  Minimum Ozone       co2   Population  \\\n",
       "0   1990 -22.847396       19.2          124.2  22849.92         5.28   \n",
       "1   1991 -22.814062       18.8          119.0  23056.40         5.37   \n",
       "2   1992 -20.247396       22.3          114.3  22988.29         5.45   \n",
       "3   1993 -22.780729       24.2          112.6  23124.00         5.54   \n",
       "4   1994 -17.980729       23.6           92.3  23260.29         5.62   \n",
       "5   1996 -11.947396       22.8          108.8  24214.92         5.79   \n",
       "6   1997  -2.647396       22.1          108.8  25292.92         5.87   \n",
       "7   1998 -10.814063       25.9           98.8  24895.32         5.95   \n",
       "8   1999  -0.247396       23.3          102.9  24957.30         6.03   \n",
       "9   2000   2.952604       24.8           98.7  25637.87         6.11   \n",
       "10  2001   4.719271       25.0          100.9  25726.42         6.19   \n",
       "11  2002   2.152604       12.0          157.4  26486.63         6.27   \n",
       "12  2003  14.619271       25.8          108.7  27308.37         6.35   \n",
       "13  2004  13.652604       19.5          123.5  28826.48         6.43   \n",
       "14  2005  12.119271       24.4          113.8  29663.75         6.51   \n",
       "15  2006   9.519271       26.6           98.4  30905.93         6.59   \n",
       "16  2007  22.785937       22.0          116.2  31608.28         6.67   \n",
       "17  2008  30.452604       25.2          114.0  31856.76         6.76   \n",
       "18  2009  33.652604       22.0          107.9  31769.89         6.84   \n",
       "19  2010  33.878240       19.4          128.5  33328.38         6.92   \n",
       "20  2011  36.718471       24.7          106.5  33226.01         7.00   \n",
       "21  2012  47.173903       17.8          139.3  33620.34         7.09   \n",
       "22  2013  41.337987       21.0          132.7  34217.18         7.18   \n",
       "23  2014  53.857372       20.9          128.6  34558.59         7.26   \n",
       "24  2015  50.461706       25.6          117.2  34521.91         7.35   \n",
       "25  2016  54.346964       20.7          123.2  35160.60         7.43   \n",
       "26  2017  57.355991       17.4          141.8  35588.70         7.52   \n",
       "27  2018  53.085122       22.9          111.8  36441.55         7.60   \n",
       "\n",
       "    Thickness  북극 해빙면적 평균(10^6km)  남극 해빙면적 평균(10^6km)  Cluster  \n",
       "0    2.035898            9.668333            8.662500        1  \n",
       "1    2.025763            9.742500            8.674167        1  \n",
       "2    2.024229           10.099167            8.525000        1  \n",
       "3    1.934320            9.810000            8.611667        1  \n",
       "4    1.974827            9.989167            9.030000        1  \n",
       "5    1.896918            9.799167            8.819167        1  \n",
       "6    1.935293            9.616667            8.657500        1  \n",
       "7    1.830868            9.626667            8.814167        1  \n",
       "8    1.770938            9.693333            8.829167        1  \n",
       "9    1.750909            9.457500            8.995000        1  \n",
       "10   1.795824            9.569167            8.724167        1  \n",
       "11   1.752091            9.356667            8.505000        1  \n",
       "12   1.714332            9.289167            9.066667        1  \n",
       "13   1.688927            9.367500            9.047500        1  \n",
       "14   1.672172            9.020833            8.752500        0  \n",
       "15   1.620570            8.802500            8.667500        0  \n",
       "16   1.550804            8.460000            8.946667        0  \n",
       "17   1.543778            9.235000            9.280833        0  \n",
       "18   1.521169            9.236667            9.155000        0  \n",
       "19   1.378012            8.980000            9.122500        0  \n",
       "20   1.336479            8.775833            8.691667        0  \n",
       "21   1.335562            8.661667            9.206667        0  \n",
       "22   1.364877            9.238333            9.658333        0  \n",
       "23   1.503155            9.105000            9.829167        0  \n",
       "24   1.510779            8.920833            9.388333        0  \n",
       "25   1.383348            8.325000            8.353333        0  \n",
       "26   1.293283            8.706667            8.083333        0  \n",
       "27   1.380304            8.755000            8.265833        0  "
      ]
     },
     "execution_count": 70,
     "metadata": {},
     "output_type": "execute_result"
    }
   ],
   "source": [
    "data2"
   ]
  },
  {
   "cell_type": "code",
   "execution_count": 98,
   "metadata": {},
   "outputs": [
    {
     "data": {
      "text/html": [
       "<div>\n",
       "<style scoped>\n",
       "    .dataframe tbody tr th:only-of-type {\n",
       "        vertical-align: middle;\n",
       "    }\n",
       "\n",
       "    .dataframe tbody tr th {\n",
       "        vertical-align: top;\n",
       "    }\n",
       "\n",
       "    .dataframe thead th {\n",
       "        text-align: right;\n",
       "    }\n",
       "</style>\n",
       "<table border=\"1\" class=\"dataframe\">\n",
       "  <thead>\n",
       "    <tr style=\"text-align: right;\">\n",
       "      <th></th>\n",
       "      <th>Year</th>\n",
       "      <th>sealevel</th>\n",
       "      <th>Hole Area</th>\n",
       "      <th>Minimum Ozone</th>\n",
       "      <th>co2</th>\n",
       "      <th>Population</th>\n",
       "      <th>Thickness</th>\n",
       "      <th>북극 해빙면적 평균(10^6km)</th>\n",
       "      <th>남극 해빙면적 평균(10^6km)</th>\n",
       "    </tr>\n",
       "  </thead>\n",
       "  <tbody>\n",
       "    <tr>\n",
       "      <th>Year</th>\n",
       "      <td>1.000000</td>\n",
       "      <td>0.986431</td>\n",
       "      <td>-0.072629</td>\n",
       "      <td>0.358755</td>\n",
       "      <td>0.984559</td>\n",
       "      <td>0.999935</td>\n",
       "      <td>-0.963088</td>\n",
       "      <td>-0.862561</td>\n",
       "      <td>0.188518</td>\n",
       "    </tr>\n",
       "    <tr>\n",
       "      <th>sealevel</th>\n",
       "      <td>0.986431</td>\n",
       "      <td>1.000000</td>\n",
       "      <td>-0.109872</td>\n",
       "      <td>0.390406</td>\n",
       "      <td>0.976665</td>\n",
       "      <td>0.986437</td>\n",
       "      <td>-0.952230</td>\n",
       "      <td>-0.840105</td>\n",
       "      <td>0.239248</td>\n",
       "    </tr>\n",
       "    <tr>\n",
       "      <th>Hole Area</th>\n",
       "      <td>-0.072629</td>\n",
       "      <td>-0.109872</td>\n",
       "      <td>1.000000</td>\n",
       "      <td>-0.865891</td>\n",
       "      <td>-0.088726</td>\n",
       "      <td>-0.072830</td>\n",
       "      <td>0.109422</td>\n",
       "      <td>0.101324</td>\n",
       "      <td>0.162971</td>\n",
       "    </tr>\n",
       "    <tr>\n",
       "      <th>Minimum Ozone</th>\n",
       "      <td>0.358755</td>\n",
       "      <td>0.390406</td>\n",
       "      <td>-0.865891</td>\n",
       "      <td>1.000000</td>\n",
       "      <td>0.376802</td>\n",
       "      <td>0.358689</td>\n",
       "      <td>-0.378251</td>\n",
       "      <td>-0.337224</td>\n",
       "      <td>0.008884</td>\n",
       "    </tr>\n",
       "    <tr>\n",
       "      <th>co2</th>\n",
       "      <td>0.984559</td>\n",
       "      <td>0.976665</td>\n",
       "      <td>-0.088726</td>\n",
       "      <td>0.376802</td>\n",
       "      <td>1.000000</td>\n",
       "      <td>0.983657</td>\n",
       "      <td>-0.962415</td>\n",
       "      <td>-0.881419</td>\n",
       "      <td>0.205937</td>\n",
       "    </tr>\n",
       "    <tr>\n",
       "      <th>Population</th>\n",
       "      <td>0.999935</td>\n",
       "      <td>0.986437</td>\n",
       "      <td>-0.072830</td>\n",
       "      <td>0.358689</td>\n",
       "      <td>0.983657</td>\n",
       "      <td>1.000000</td>\n",
       "      <td>-0.961607</td>\n",
       "      <td>-0.859808</td>\n",
       "      <td>0.185538</td>\n",
       "    </tr>\n",
       "    <tr>\n",
       "      <th>Thickness</th>\n",
       "      <td>-0.963088</td>\n",
       "      <td>-0.952230</td>\n",
       "      <td>0.109422</td>\n",
       "      <td>-0.378251</td>\n",
       "      <td>-0.962415</td>\n",
       "      <td>-0.961607</td>\n",
       "      <td>1.000000</td>\n",
       "      <td>0.868445</td>\n",
       "      <td>-0.188103</td>\n",
       "    </tr>\n",
       "    <tr>\n",
       "      <th>북극 해빙면적 평균(10^6km)</th>\n",
       "      <td>-0.862561</td>\n",
       "      <td>-0.840105</td>\n",
       "      <td>0.101324</td>\n",
       "      <td>-0.337224</td>\n",
       "      <td>-0.881419</td>\n",
       "      <td>-0.859808</td>\n",
       "      <td>0.868445</td>\n",
       "      <td>1.000000</td>\n",
       "      <td>0.014463</td>\n",
       "    </tr>\n",
       "    <tr>\n",
       "      <th>남극 해빙면적 평균(10^6km)</th>\n",
       "      <td>0.188518</td>\n",
       "      <td>0.239248</td>\n",
       "      <td>0.162971</td>\n",
       "      <td>0.008884</td>\n",
       "      <td>0.205937</td>\n",
       "      <td>0.185538</td>\n",
       "      <td>-0.188103</td>\n",
       "      <td>0.014463</td>\n",
       "      <td>1.000000</td>\n",
       "    </tr>\n",
       "  </tbody>\n",
       "</table>\n",
       "</div>"
      ],
      "text/plain": [
       "                        Year  sealevel  Hole Area  Minimum Ozone       co2  \\\n",
       "Year                1.000000  0.986431  -0.072629       0.358755  0.984559   \n",
       "sealevel            0.986431  1.000000  -0.109872       0.390406  0.976665   \n",
       "Hole Area          -0.072629 -0.109872   1.000000      -0.865891 -0.088726   \n",
       "Minimum Ozone       0.358755  0.390406  -0.865891       1.000000  0.376802   \n",
       "co2                 0.984559  0.976665  -0.088726       0.376802  1.000000   \n",
       " Population         0.999935  0.986437  -0.072830       0.358689  0.983657   \n",
       "Thickness          -0.963088 -0.952230   0.109422      -0.378251 -0.962415   \n",
       "북극 해빙면적 평균(10^6km) -0.862561 -0.840105   0.101324      -0.337224 -0.881419   \n",
       "남극 해빙면적 평균(10^6km)  0.188518  0.239248   0.162971       0.008884  0.205937   \n",
       "\n",
       "                     Population  Thickness  북극 해빙면적 평균(10^6km)  \\\n",
       "Year                   0.999935  -0.963088           -0.862561   \n",
       "sealevel               0.986437  -0.952230           -0.840105   \n",
       "Hole Area             -0.072830   0.109422            0.101324   \n",
       "Minimum Ozone          0.358689  -0.378251           -0.337224   \n",
       "co2                    0.983657  -0.962415           -0.881419   \n",
       " Population            1.000000  -0.961607           -0.859808   \n",
       "Thickness             -0.961607   1.000000            0.868445   \n",
       "북극 해빙면적 평균(10^6km)    -0.859808   0.868445            1.000000   \n",
       "남극 해빙면적 평균(10^6km)     0.185538  -0.188103            0.014463   \n",
       "\n",
       "                    남극 해빙면적 평균(10^6km)  \n",
       "Year                          0.188518  \n",
       "sealevel                      0.239248  \n",
       "Hole Area                     0.162971  \n",
       "Minimum Ozone                 0.008884  \n",
       "co2                           0.205937  \n",
       " Population                   0.185538  \n",
       "Thickness                    -0.188103  \n",
       "북극 해빙면적 평균(10^6km)            0.014463  \n",
       "남극 해빙면적 평균(10^6km)            1.000000  "
      ]
     },
     "execution_count": 98,
     "metadata": {},
     "output_type": "execute_result"
    }
   ],
   "source": [
    "data.corr()"
   ]
  },
  {
   "cell_type": "code",
   "execution_count": 81,
   "metadata": {},
   "outputs": [],
   "source": [
    "seal = np.array(data['sealevel'])\n",
    "nambing = np.array(data['남극 해빙면적 평균(10^6km)'])"
   ]
  },
  {
   "cell_type": "code",
   "execution_count": 87,
   "metadata": {},
   "outputs": [],
   "source": [
    "seal = seal.reshape(-1,1)"
   ]
  },
  {
   "cell_type": "code",
   "execution_count": 88,
   "metadata": {},
   "outputs": [
    {
     "data": {
      "text/plain": [
       "(28, 1)"
      ]
     },
     "execution_count": 88,
     "metadata": {},
     "output_type": "execute_result"
    }
   ],
   "source": [
    "seal.shape"
   ]
  },
  {
   "cell_type": "code",
   "execution_count": 89,
   "metadata": {},
   "outputs": [],
   "source": [
    "nambing = nambing.reshape(-1,1)"
   ]
  },
  {
   "cell_type": "code",
   "execution_count": 90,
   "metadata": {},
   "outputs": [
    {
     "data": {
      "text/plain": [
       "(28, 1)"
      ]
     },
     "execution_count": 90,
     "metadata": {},
     "output_type": "execute_result"
    }
   ],
   "source": [
    "nambing.shape"
   ]
  },
  {
   "cell_type": "code",
   "execution_count": 91,
   "metadata": {},
   "outputs": [
    {
     "data": {
      "text/html": [
       "<style>#sk-container-id-6 {color: black;background-color: white;}#sk-container-id-6 pre{padding: 0;}#sk-container-id-6 div.sk-toggleable {background-color: white;}#sk-container-id-6 label.sk-toggleable__label {cursor: pointer;display: block;width: 100%;margin-bottom: 0;padding: 0.3em;box-sizing: border-box;text-align: center;}#sk-container-id-6 label.sk-toggleable__label-arrow:before {content: \"▸\";float: left;margin-right: 0.25em;color: #696969;}#sk-container-id-6 label.sk-toggleable__label-arrow:hover:before {color: black;}#sk-container-id-6 div.sk-estimator:hover label.sk-toggleable__label-arrow:before {color: black;}#sk-container-id-6 div.sk-toggleable__content {max-height: 0;max-width: 0;overflow: hidden;text-align: left;background-color: #f0f8ff;}#sk-container-id-6 div.sk-toggleable__content pre {margin: 0.2em;color: black;border-radius: 0.25em;background-color: #f0f8ff;}#sk-container-id-6 input.sk-toggleable__control:checked~div.sk-toggleable__content {max-height: 200px;max-width: 100%;overflow: auto;}#sk-container-id-6 input.sk-toggleable__control:checked~label.sk-toggleable__label-arrow:before {content: \"▾\";}#sk-container-id-6 div.sk-estimator input.sk-toggleable__control:checked~label.sk-toggleable__label {background-color: #d4ebff;}#sk-container-id-6 div.sk-label input.sk-toggleable__control:checked~label.sk-toggleable__label {background-color: #d4ebff;}#sk-container-id-6 input.sk-hidden--visually {border: 0;clip: rect(1px 1px 1px 1px);clip: rect(1px, 1px, 1px, 1px);height: 1px;margin: -1px;overflow: hidden;padding: 0;position: absolute;width: 1px;}#sk-container-id-6 div.sk-estimator {font-family: monospace;background-color: #f0f8ff;border: 1px dotted black;border-radius: 0.25em;box-sizing: border-box;margin-bottom: 0.5em;}#sk-container-id-6 div.sk-estimator:hover {background-color: #d4ebff;}#sk-container-id-6 div.sk-parallel-item::after {content: \"\";width: 100%;border-bottom: 1px solid gray;flex-grow: 1;}#sk-container-id-6 div.sk-label:hover label.sk-toggleable__label {background-color: #d4ebff;}#sk-container-id-6 div.sk-serial::before {content: \"\";position: absolute;border-left: 1px solid gray;box-sizing: border-box;top: 0;bottom: 0;left: 50%;z-index: 0;}#sk-container-id-6 div.sk-serial {display: flex;flex-direction: column;align-items: center;background-color: white;padding-right: 0.2em;padding-left: 0.2em;position: relative;}#sk-container-id-6 div.sk-item {position: relative;z-index: 1;}#sk-container-id-6 div.sk-parallel {display: flex;align-items: stretch;justify-content: center;background-color: white;position: relative;}#sk-container-id-6 div.sk-item::before, #sk-container-id-6 div.sk-parallel-item::before {content: \"\";position: absolute;border-left: 1px solid gray;box-sizing: border-box;top: 0;bottom: 0;left: 50%;z-index: -1;}#sk-container-id-6 div.sk-parallel-item {display: flex;flex-direction: column;z-index: 1;position: relative;background-color: white;}#sk-container-id-6 div.sk-parallel-item:first-child::after {align-self: flex-end;width: 50%;}#sk-container-id-6 div.sk-parallel-item:last-child::after {align-self: flex-start;width: 50%;}#sk-container-id-6 div.sk-parallel-item:only-child::after {width: 0;}#sk-container-id-6 div.sk-dashed-wrapped {border: 1px dashed gray;margin: 0 0.4em 0.5em 0.4em;box-sizing: border-box;padding-bottom: 0.4em;background-color: white;}#sk-container-id-6 div.sk-label label {font-family: monospace;font-weight: bold;display: inline-block;line-height: 1.2em;}#sk-container-id-6 div.sk-label-container {text-align: center;}#sk-container-id-6 div.sk-container {/* jupyter's `normalize.less` sets `[hidden] { display: none; }` but bootstrap.min.css set `[hidden] { display: none !important; }` so we also need the `!important` here to be able to override the default hidden behavior on the sphinx rendered scikit-learn.org. See: https://github.com/scikit-learn/scikit-learn/issues/21755 */display: inline-block !important;position: relative;}#sk-container-id-6 div.sk-text-repr-fallback {display: none;}</style><div id=\"sk-container-id-6\" class=\"sk-top-container\"><div class=\"sk-text-repr-fallback\"><pre>LinearRegression()</pre><b>In a Jupyter environment, please rerun this cell to show the HTML representation or trust the notebook. <br />On GitHub, the HTML representation is unable to render, please try loading this page with nbviewer.org.</b></div><div class=\"sk-container\" hidden><div class=\"sk-item\"><div class=\"sk-estimator sk-toggleable\"><input class=\"sk-toggleable__control sk-hidden--visually\" id=\"sk-estimator-id-6\" type=\"checkbox\" checked><label for=\"sk-estimator-id-6\" class=\"sk-toggleable__label sk-toggleable__label-arrow\">LinearRegression</label><div class=\"sk-toggleable__content\"><pre>LinearRegression()</pre></div></div></div></div></div>"
      ],
      "text/plain": [
       "LinearRegression()"
      ]
     },
     "execution_count": 91,
     "metadata": {},
     "output_type": "execute_result"
    }
   ],
   "source": [
    "t = LinearRegression()\n",
    "t.fit(nambing,seal)"
   ]
  },
  {
   "cell_type": "code",
   "execution_count": 141,
   "metadata": {},
   "outputs": [
    {
     "data": {
      "text/plain": [
       "array([[4.76302279]])"
      ]
     },
     "execution_count": 141,
     "metadata": {},
     "output_type": "execute_result"
    }
   ],
   "source": [
    "t.predict([[8.2]])"
   ]
  },
  {
   "cell_type": "code",
   "execution_count": 94,
   "metadata": {},
   "outputs": [
    {
     "name": "stdout",
     "output_type": "stream",
     "text": [
      "[[16.47631532]] [-130.34276281]\n"
     ]
    }
   ],
   "source": [
    "print(t.coef_,t.intercept_)"
   ]
  },
  {
   "cell_type": "code",
   "execution_count": 95,
   "metadata": {},
   "outputs": [
    {
     "data": {
      "text/plain": [
       "4.7630228139999815"
      ]
     },
     "execution_count": 95,
     "metadata": {},
     "output_type": "execute_result"
    }
   ],
   "source": [
    "16.47631532 * 8.2 -130.34276281"
   ]
  },
  {
   "cell_type": "code",
   "execution_count": 119,
   "metadata": {},
   "outputs": [],
   "source": [
    "from sklearn.decomposition import PCA\n",
    "pca = PCA(n_components=2) # 주성분을 몇개로 할지 결정\n",
    "printcipalComponents = pca.fit_transform(train_scaled)\n",
    "principalDf = pd.DataFrame(data=printcipalComponents, columns = ['principal component1', 'principal component2'])\n",
    "# 주성분으로 이루어진 데이터 프레임 구성"
   ]
  },
  {
   "cell_type": "code",
   "execution_count": 120,
   "metadata": {},
   "outputs": [
    {
     "data": {
      "text/html": [
       "<div>\n",
       "<style scoped>\n",
       "    .dataframe tbody tr th:only-of-type {\n",
       "        vertical-align: middle;\n",
       "    }\n",
       "\n",
       "    .dataframe tbody tr th {\n",
       "        vertical-align: top;\n",
       "    }\n",
       "\n",
       "    .dataframe thead th {\n",
       "        text-align: right;\n",
       "    }\n",
       "</style>\n",
       "<table border=\"1\" class=\"dataframe\">\n",
       "  <thead>\n",
       "    <tr style=\"text-align: right;\">\n",
       "      <th></th>\n",
       "      <th>principal component1</th>\n",
       "      <th>principal component2</th>\n",
       "    </tr>\n",
       "  </thead>\n",
       "  <tbody>\n",
       "    <tr>\n",
       "      <th>0</th>\n",
       "      <td>-6.167503</td>\n",
       "      <td>5.441584</td>\n",
       "    </tr>\n",
       "    <tr>\n",
       "      <th>1</th>\n",
       "      <td>7.887364</td>\n",
       "      <td>2.606162</td>\n",
       "    </tr>\n",
       "    <tr>\n",
       "      <th>2</th>\n",
       "      <td>3.943643</td>\n",
       "      <td>1.074088</td>\n",
       "    </tr>\n",
       "    <tr>\n",
       "      <th>3</th>\n",
       "      <td>-6.534240</td>\n",
       "      <td>1.503159</td>\n",
       "    </tr>\n",
       "    <tr>\n",
       "      <th>4</th>\n",
       "      <td>-6.152718</td>\n",
       "      <td>4.951674</td>\n",
       "    </tr>\n",
       "    <tr>\n",
       "      <th>5</th>\n",
       "      <td>0.791072</td>\n",
       "      <td>4.079809</td>\n",
       "    </tr>\n",
       "    <tr>\n",
       "      <th>6</th>\n",
       "      <td>7.308429</td>\n",
       "      <td>7.290722</td>\n",
       "    </tr>\n",
       "    <tr>\n",
       "      <th>7</th>\n",
       "      <td>-5.418122</td>\n",
       "      <td>-0.220742</td>\n",
       "    </tr>\n",
       "    <tr>\n",
       "      <th>8</th>\n",
       "      <td>-4.434238</td>\n",
       "      <td>0.082479</td>\n",
       "    </tr>\n",
       "    <tr>\n",
       "      <th>9</th>\n",
       "      <td>-2.440182</td>\n",
       "      <td>-2.979231</td>\n",
       "    </tr>\n",
       "    <tr>\n",
       "      <th>10</th>\n",
       "      <td>-3.908689</td>\n",
       "      <td>0.526943</td>\n",
       "    </tr>\n",
       "    <tr>\n",
       "      <th>11</th>\n",
       "      <td>2.188959</td>\n",
       "      <td>-4.844088</td>\n",
       "    </tr>\n",
       "    <tr>\n",
       "      <th>12</th>\n",
       "      <td>-3.532934</td>\n",
       "      <td>-3.770757</td>\n",
       "    </tr>\n",
       "    <tr>\n",
       "      <th>13</th>\n",
       "      <td>-2.280245</td>\n",
       "      <td>-3.022608</td>\n",
       "    </tr>\n",
       "    <tr>\n",
       "      <th>14</th>\n",
       "      <td>3.384725</td>\n",
       "      <td>-0.303671</td>\n",
       "    </tr>\n",
       "    <tr>\n",
       "      <th>15</th>\n",
       "      <td>1.576925</td>\n",
       "      <td>-1.109217</td>\n",
       "    </tr>\n",
       "    <tr>\n",
       "      <th>16</th>\n",
       "      <td>-6.343828</td>\n",
       "      <td>-2.658170</td>\n",
       "    </tr>\n",
       "    <tr>\n",
       "      <th>17</th>\n",
       "      <td>-0.258885</td>\n",
       "      <td>-2.809125</td>\n",
       "    </tr>\n",
       "    <tr>\n",
       "      <th>18</th>\n",
       "      <td>7.959486</td>\n",
       "      <td>-0.873021</td>\n",
       "    </tr>\n",
       "    <tr>\n",
       "      <th>19</th>\n",
       "      <td>5.708833</td>\n",
       "      <td>-2.381422</td>\n",
       "    </tr>\n",
       "    <tr>\n",
       "      <th>20</th>\n",
       "      <td>6.722148</td>\n",
       "      <td>-2.584569</td>\n",
       "    </tr>\n",
       "  </tbody>\n",
       "</table>\n",
       "</div>"
      ],
      "text/plain": [
       "    principal component1  principal component2\n",
       "0              -6.167503              5.441584\n",
       "1               7.887364              2.606162\n",
       "2               3.943643              1.074088\n",
       "3              -6.534240              1.503159\n",
       "4              -6.152718              4.951674\n",
       "5               0.791072              4.079809\n",
       "6               7.308429              7.290722\n",
       "7              -5.418122             -0.220742\n",
       "8              -4.434238              0.082479\n",
       "9              -2.440182             -2.979231\n",
       "10             -3.908689              0.526943\n",
       "11              2.188959             -4.844088\n",
       "12             -3.532934             -3.770757\n",
       "13             -2.280245             -3.022608\n",
       "14              3.384725             -0.303671\n",
       "15              1.576925             -1.109217\n",
       "16             -6.343828             -2.658170\n",
       "17             -0.258885             -2.809125\n",
       "18              7.959486             -0.873021\n",
       "19              5.708833             -2.381422\n",
       "20              6.722148             -2.584569"
      ]
     },
     "execution_count": 120,
     "metadata": {},
     "output_type": "execute_result"
    }
   ],
   "source": [
    "principalDf"
   ]
  },
  {
   "cell_type": "code",
   "execution_count": 122,
   "metadata": {},
   "outputs": [
    {
     "data": {
      "text/plain": [
       "0.8204089424945508"
      ]
     },
     "execution_count": 122,
     "metadata": {},
     "output_type": "execute_result"
    }
   ],
   "source": [
    "sum(pca.explained_variance_ratio_)"
   ]
  },
  {
   "cell_type": "code",
   "execution_count": 124,
   "metadata": {},
   "outputs": [
    {
     "data": {
      "text/html": [
       "<div>\n",
       "<style scoped>\n",
       "    .dataframe tbody tr th:only-of-type {\n",
       "        vertical-align: middle;\n",
       "    }\n",
       "\n",
       "    .dataframe tbody tr th {\n",
       "        vertical-align: top;\n",
       "    }\n",
       "\n",
       "    .dataframe thead th {\n",
       "        text-align: right;\n",
       "    }\n",
       "</style>\n",
       "<table border=\"1\" class=\"dataframe\">\n",
       "  <thead>\n",
       "    <tr style=\"text-align: right;\">\n",
       "      <th></th>\n",
       "      <th>Year</th>\n",
       "      <th>sealevel</th>\n",
       "      <th>Hole Area</th>\n",
       "      <th>Minimum Ozone</th>\n",
       "      <th>co2</th>\n",
       "      <th>Population</th>\n",
       "      <th>Thickness</th>\n",
       "      <th>북극 해빙면적 평균(10^6km)</th>\n",
       "      <th>남극 해빙면적 평균(10^6km)</th>\n",
       "    </tr>\n",
       "  </thead>\n",
       "  <tbody>\n",
       "    <tr>\n",
       "      <th>Year</th>\n",
       "      <td>1.000000</td>\n",
       "      <td>0.986431</td>\n",
       "      <td>-0.072629</td>\n",
       "      <td>0.358755</td>\n",
       "      <td>0.984559</td>\n",
       "      <td>0.999935</td>\n",
       "      <td>-0.963088</td>\n",
       "      <td>-0.862561</td>\n",
       "      <td>0.188518</td>\n",
       "    </tr>\n",
       "    <tr>\n",
       "      <th>sealevel</th>\n",
       "      <td>0.986431</td>\n",
       "      <td>1.000000</td>\n",
       "      <td>-0.109872</td>\n",
       "      <td>0.390406</td>\n",
       "      <td>0.976665</td>\n",
       "      <td>0.986437</td>\n",
       "      <td>-0.952230</td>\n",
       "      <td>-0.840105</td>\n",
       "      <td>0.239248</td>\n",
       "    </tr>\n",
       "    <tr>\n",
       "      <th>Hole Area</th>\n",
       "      <td>-0.072629</td>\n",
       "      <td>-0.109872</td>\n",
       "      <td>1.000000</td>\n",
       "      <td>-0.865891</td>\n",
       "      <td>-0.088726</td>\n",
       "      <td>-0.072830</td>\n",
       "      <td>0.109422</td>\n",
       "      <td>0.101324</td>\n",
       "      <td>0.162971</td>\n",
       "    </tr>\n",
       "    <tr>\n",
       "      <th>Minimum Ozone</th>\n",
       "      <td>0.358755</td>\n",
       "      <td>0.390406</td>\n",
       "      <td>-0.865891</td>\n",
       "      <td>1.000000</td>\n",
       "      <td>0.376802</td>\n",
       "      <td>0.358689</td>\n",
       "      <td>-0.378251</td>\n",
       "      <td>-0.337224</td>\n",
       "      <td>0.008884</td>\n",
       "    </tr>\n",
       "    <tr>\n",
       "      <th>co2</th>\n",
       "      <td>0.984559</td>\n",
       "      <td>0.976665</td>\n",
       "      <td>-0.088726</td>\n",
       "      <td>0.376802</td>\n",
       "      <td>1.000000</td>\n",
       "      <td>0.983657</td>\n",
       "      <td>-0.962415</td>\n",
       "      <td>-0.881419</td>\n",
       "      <td>0.205937</td>\n",
       "    </tr>\n",
       "    <tr>\n",
       "      <th>Population</th>\n",
       "      <td>0.999935</td>\n",
       "      <td>0.986437</td>\n",
       "      <td>-0.072830</td>\n",
       "      <td>0.358689</td>\n",
       "      <td>0.983657</td>\n",
       "      <td>1.000000</td>\n",
       "      <td>-0.961607</td>\n",
       "      <td>-0.859808</td>\n",
       "      <td>0.185538</td>\n",
       "    </tr>\n",
       "    <tr>\n",
       "      <th>Thickness</th>\n",
       "      <td>-0.963088</td>\n",
       "      <td>-0.952230</td>\n",
       "      <td>0.109422</td>\n",
       "      <td>-0.378251</td>\n",
       "      <td>-0.962415</td>\n",
       "      <td>-0.961607</td>\n",
       "      <td>1.000000</td>\n",
       "      <td>0.868445</td>\n",
       "      <td>-0.188103</td>\n",
       "    </tr>\n",
       "    <tr>\n",
       "      <th>북극 해빙면적 평균(10^6km)</th>\n",
       "      <td>-0.862561</td>\n",
       "      <td>-0.840105</td>\n",
       "      <td>0.101324</td>\n",
       "      <td>-0.337224</td>\n",
       "      <td>-0.881419</td>\n",
       "      <td>-0.859808</td>\n",
       "      <td>0.868445</td>\n",
       "      <td>1.000000</td>\n",
       "      <td>0.014463</td>\n",
       "    </tr>\n",
       "    <tr>\n",
       "      <th>남극 해빙면적 평균(10^6km)</th>\n",
       "      <td>0.188518</td>\n",
       "      <td>0.239248</td>\n",
       "      <td>0.162971</td>\n",
       "      <td>0.008884</td>\n",
       "      <td>0.205937</td>\n",
       "      <td>0.185538</td>\n",
       "      <td>-0.188103</td>\n",
       "      <td>0.014463</td>\n",
       "      <td>1.000000</td>\n",
       "    </tr>\n",
       "  </tbody>\n",
       "</table>\n",
       "</div>"
      ],
      "text/plain": [
       "                        Year  sealevel  Hole Area  Minimum Ozone       co2  \\\n",
       "Year                1.000000  0.986431  -0.072629       0.358755  0.984559   \n",
       "sealevel            0.986431  1.000000  -0.109872       0.390406  0.976665   \n",
       "Hole Area          -0.072629 -0.109872   1.000000      -0.865891 -0.088726   \n",
       "Minimum Ozone       0.358755  0.390406  -0.865891       1.000000  0.376802   \n",
       "co2                 0.984559  0.976665  -0.088726       0.376802  1.000000   \n",
       " Population         0.999935  0.986437  -0.072830       0.358689  0.983657   \n",
       "Thickness          -0.963088 -0.952230   0.109422      -0.378251 -0.962415   \n",
       "북극 해빙면적 평균(10^6km) -0.862561 -0.840105   0.101324      -0.337224 -0.881419   \n",
       "남극 해빙면적 평균(10^6km)  0.188518  0.239248   0.162971       0.008884  0.205937   \n",
       "\n",
       "                     Population  Thickness  북극 해빙면적 평균(10^6km)  \\\n",
       "Year                   0.999935  -0.963088           -0.862561   \n",
       "sealevel               0.986437  -0.952230           -0.840105   \n",
       "Hole Area             -0.072830   0.109422            0.101324   \n",
       "Minimum Ozone          0.358689  -0.378251           -0.337224   \n",
       "co2                    0.983657  -0.962415           -0.881419   \n",
       " Population            1.000000  -0.961607           -0.859808   \n",
       "Thickness             -0.961607   1.000000            0.868445   \n",
       "북극 해빙면적 평균(10^6km)    -0.859808   0.868445            1.000000   \n",
       "남극 해빙면적 평균(10^6km)     0.185538  -0.188103            0.014463   \n",
       "\n",
       "                    남극 해빙면적 평균(10^6km)  \n",
       "Year                          0.188518  \n",
       "sealevel                      0.239248  \n",
       "Hole Area                     0.162971  \n",
       "Minimum Ozone                 0.008884  \n",
       "co2                           0.205937  \n",
       " Population                   0.185538  \n",
       "Thickness                    -0.188103  \n",
       "북극 해빙면적 평균(10^6km)            0.014463  \n",
       "남극 해빙면적 평균(10^6km)            1.000000  "
      ]
     },
     "execution_count": 124,
     "metadata": {},
     "output_type": "execute_result"
    }
   ],
   "source": [
    "data.corr()"
   ]
  },
  {
   "cell_type": "code",
   "execution_count": 125,
   "metadata": {},
   "outputs": [
    {
     "data": {
      "image/png": "[encoded data removed]",
      "text/plain": [
       "<Figure size 640x480 with 1 Axes>"
      ]
     },
     "metadata": {},
     "output_type": "display_data"
    }
   ],
   "source": [
    "\n",
    "plt.scatter(data[' Population'],data['sealevel'])\n",
    "plt.title('인구대비 해수면 상승')\n",
    "plt.show()"
   ]
  },
  {
   "cell_type": "code",
   "execution_count": 127,
   "metadata": {},
   "outputs": [
    {
     "data": {
      "image/png": "[encoded data removed]",
      "text/plain": [
       "<Figure size 640x480 with 1 Axes>"
      ]
     },
     "metadata": {},
     "output_type": "display_data"
    }
   ],
   "source": [
    "plt.scatter(data['Minimum Ozone'],data['sealevel'])\n",
    "plt.title('오존부피대비 해수면 상승')\n",
    "plt.show()"
   ]
  },
  {
   "cell_type": "code",
   "execution_count": 129,
   "metadata": {},
   "outputs": [
    {
     "data": {
      "image/png": "[encoded data removed]",
      "text/plain": [
       "<Figure size 640x480 with 1 Axes>"
      ]
     },
     "metadata": {},
     "output_type": "display_data"
    }
   ],
   "source": [
    "plt.scatter(data['co2'],data['sealevel'])\n",
    "plt.title('탄소배출량대비 해수면 상승')\n",
    "plt.show()"
   ]
  },
  {
   "cell_type": "code",
   "execution_count": 131,
   "metadata": {},
   "outputs": [
    {
     "data": {
      "image/png": "[encoded data removed]",
      "text/plain": [
       "<Figure size 640x480 with 1 Axes>"
      ]
     },
     "metadata": {},
     "output_type": "display_data"
    }
   ],
   "source": [
    "plt.scatter(data['Year'],data['sealevel'])\n",
    "plt.title('년도대비 해수면 상승')\n",
    "plt.show()"
   ]
  },
  {
   "cell_type": "code",
   "execution_count": 133,
   "metadata": {},
   "outputs": [
    {
     "data": {
      "image/png": "[encoded data removed]",
      "text/plain": [
       "<Figure size 640x480 with 1 Axes>"
      ]
     },
     "metadata": {},
     "output_type": "display_data"
    }
   ],
   "source": [
    "plt.scatter(data['Thickness'],data['sealevel'])\n",
    "plt.title('북극해빙두께대비 해수면 상승')\n",
    "plt.show()"
   ]
  },
  {
   "cell_type": "code",
   "execution_count": 135,
   "metadata": {},
   "outputs": [
    {
     "data": {
      "image/png": "[encoded data removed]",
      "text/plain": [
       "<Figure size 640x480 with 1 Axes>"
      ]
     },
     "metadata": {},
     "output_type": "display_data"
    }
   ],
   "source": [
    "plt.scatter(data['남극 해빙면적 평균(10^6km)'],data['sealevel'])\n",
    "plt.title('남극 해빙면적대비 해수면 상승')\n",
    "plt.show()"
   ]
  },
  {
   "cell_type": "code",
   "execution_count": 137,
   "metadata": {},
   "outputs": [
    {
     "data": {
      "image/png": "[encoded data removed]",
      "text/plain": [
       "<Figure size 640x480 with 1 Axes>"
      ]
     },
     "metadata": {},
     "output_type": "display_data"
    }
   ],
   "source": [
    "plt.scatter(data['북극 해빙면적 평균(10^6km)'],data['sealevel'])\n",
    "plt.title('북극 해빙면적대비 해수면 상승')\n",
    "plt.show()"
   ]
  },
  {
   "cell_type": "code",
   "execution_count": 139,
   "metadata": {},
   "outputs": [
    {
     "data": {
      "image/png": "[encoded data removed]",
      "text/plain": [
       "<Figure size 640x480 with 1 Axes>"
      ]
     },
     "metadata": {},
     "output_type": "display_data"
    }
   ],
   "source": [
    "plt.scatter(data['Hole Area'],data['sealevel'])\n",
    "plt.title('오존 구멍크기대비 해수면 상승')\n",
    "plt.show()"
   ]
  },
  {
   "cell_type": "code",
   "execution_count": 147,
   "metadata": {},
   "outputs": [],
   "source": [
    "data3 = data2.drop(data2[['남극 해빙면적 평균(10^6km)','Hole Area','Minimum Ozone','Cluster']],axis=1)"
   ]
  },
  {
   "cell_type": "code",
   "execution_count": 150,
   "metadata": {},
   "outputs": [],
   "source": [
    "data3.to_csv('../file/data_ver3.csv',index=False)"
   ]
  },
  {
   "cell_type": "code",
   "execution_count": 152,
   "metadata": {},
   "outputs": [
    {
     "data": {
      "text/html": [
       "<div>\n",
       "<style scoped>\n",
       "    .dataframe tbody tr th:only-of-type {\n",
       "        vertical-align: middle;\n",
       "    }\n",
       "\n",
       "    .dataframe tbody tr th {\n",
       "        vertical-align: top;\n",
       "    }\n",
       "\n",
       "    .dataframe thead th {\n",
       "        text-align: right;\n",
       "    }\n",
       "</style>\n",
       "<table border=\"1\" class=\"dataframe\">\n",
       "  <thead>\n",
       "    <tr style=\"text-align: right;\">\n",
       "      <th></th>\n",
       "      <th>Year</th>\n",
       "      <th>sealevel</th>\n",
       "      <th>co2</th>\n",
       "      <th>Population</th>\n",
       "      <th>Thickness</th>\n",
       "      <th>북극 해빙면적 평균(10^6km)</th>\n",
       "    </tr>\n",
       "  </thead>\n",
       "  <tbody>\n",
       "    <tr>\n",
       "      <th>0</th>\n",
       "      <td>1990</td>\n",
       "      <td>-22.847396</td>\n",
       "      <td>22849.92</td>\n",
       "      <td>5.28</td>\n",
       "      <td>2.035898</td>\n",
       "      <td>9.668333</td>\n",
       "    </tr>\n",
       "    <tr>\n",
       "      <th>1</th>\n",
       "      <td>1991</td>\n",
       "      <td>-22.814062</td>\n",
       "      <td>23056.40</td>\n",
       "      <td>5.37</td>\n",
       "      <td>2.025763</td>\n",
       "      <td>9.742500</td>\n",
       "    </tr>\n",
       "    <tr>\n",
       "      <th>2</th>\n",
       "      <td>1992</td>\n",
       "      <td>-20.247396</td>\n",
       "      <td>22988.29</td>\n",
       "      <td>5.45</td>\n",
       "      <td>2.024229</td>\n",
       "      <td>10.099167</td>\n",
       "    </tr>\n",
       "    <tr>\n",
       "      <th>3</th>\n",
       "      <td>1993</td>\n",
       "      <td>-22.780729</td>\n",
       "      <td>23124.00</td>\n",
       "      <td>5.54</td>\n",
       "      <td>1.934320</td>\n",
       "      <td>9.810000</td>\n",
       "    </tr>\n",
       "    <tr>\n",
       "      <th>4</th>\n",
       "      <td>1994</td>\n",
       "      <td>-17.980729</td>\n",
       "      <td>23260.29</td>\n",
       "      <td>5.62</td>\n",
       "      <td>1.974827</td>\n",
       "      <td>9.989167</td>\n",
       "    </tr>\n",
       "    <tr>\n",
       "      <th>5</th>\n",
       "      <td>1996</td>\n",
       "      <td>-11.947396</td>\n",
       "      <td>24214.92</td>\n",
       "      <td>5.79</td>\n",
       "      <td>1.896918</td>\n",
       "      <td>9.799167</td>\n",
       "    </tr>\n",
       "    <tr>\n",
       "      <th>6</th>\n",
       "      <td>1997</td>\n",
       "      <td>-2.647396</td>\n",
       "      <td>25292.92</td>\n",
       "      <td>5.87</td>\n",
       "      <td>1.935293</td>\n",
       "      <td>9.616667</td>\n",
       "    </tr>\n",
       "    <tr>\n",
       "      <th>7</th>\n",
       "      <td>1998</td>\n",
       "      <td>-10.814063</td>\n",
       "      <td>24895.32</td>\n",
       "      <td>5.95</td>\n",
       "      <td>1.830868</td>\n",
       "      <td>9.626667</td>\n",
       "    </tr>\n",
       "    <tr>\n",
       "      <th>8</th>\n",
       "      <td>1999</td>\n",
       "      <td>-0.247396</td>\n",
       "      <td>24957.30</td>\n",
       "      <td>6.03</td>\n",
       "      <td>1.770938</td>\n",
       "      <td>9.693333</td>\n",
       "    </tr>\n",
       "    <tr>\n",
       "      <th>9</th>\n",
       "      <td>2000</td>\n",
       "      <td>2.952604</td>\n",
       "      <td>25637.87</td>\n",
       "      <td>6.11</td>\n",
       "      <td>1.750909</td>\n",
       "      <td>9.457500</td>\n",
       "    </tr>\n",
       "    <tr>\n",
       "      <th>10</th>\n",
       "      <td>2001</td>\n",
       "      <td>4.719271</td>\n",
       "      <td>25726.42</td>\n",
       "      <td>6.19</td>\n",
       "      <td>1.795824</td>\n",
       "      <td>9.569167</td>\n",
       "    </tr>\n",
       "    <tr>\n",
       "      <th>11</th>\n",
       "      <td>2002</td>\n",
       "      <td>2.152604</td>\n",
       "      <td>26486.63</td>\n",
       "      <td>6.27</td>\n",
       "      <td>1.752091</td>\n",
       "      <td>9.356667</td>\n",
       "    </tr>\n",
       "    <tr>\n",
       "      <th>12</th>\n",
       "      <td>2003</td>\n",
       "      <td>14.619271</td>\n",
       "      <td>27308.37</td>\n",
       "      <td>6.35</td>\n",
       "      <td>1.714332</td>\n",
       "      <td>9.289167</td>\n",
       "    </tr>\n",
       "    <tr>\n",
       "      <th>13</th>\n",
       "      <td>2004</td>\n",
       "      <td>13.652604</td>\n",
       "      <td>28826.48</td>\n",
       "      <td>6.43</td>\n",
       "      <td>1.688927</td>\n",
       "      <td>9.367500</td>\n",
       "    </tr>\n",
       "    <tr>\n",
       "      <th>14</th>\n",
       "      <td>2005</td>\n",
       "      <td>12.119271</td>\n",
       "      <td>29663.75</td>\n",
       "      <td>6.51</td>\n",
       "      <td>1.672172</td>\n",
       "      <td>9.020833</td>\n",
       "    </tr>\n",
       "    <tr>\n",
       "      <th>15</th>\n",
       "      <td>2006</td>\n",
       "      <td>9.519271</td>\n",
       "      <td>30905.93</td>\n",
       "      <td>6.59</td>\n",
       "      <td>1.620570</td>\n",
       "      <td>8.802500</td>\n",
       "    </tr>\n",
       "    <tr>\n",
       "      <th>16</th>\n",
       "      <td>2007</td>\n",
       "      <td>22.785937</td>\n",
       "      <td>31608.28</td>\n",
       "      <td>6.67</td>\n",
       "      <td>1.550804</td>\n",
       "      <td>8.460000</td>\n",
       "    </tr>\n",
       "    <tr>\n",
       "      <th>17</th>\n",
       "      <td>2008</td>\n",
       "      <td>30.452604</td>\n",
       "      <td>31856.76</td>\n",
       "      <td>6.76</td>\n",
       "      <td>1.543778</td>\n",
       "      <td>9.235000</td>\n",
       "    </tr>\n",
       "    <tr>\n",
       "      <th>18</th>\n",
       "      <td>2009</td>\n",
       "      <td>33.652604</td>\n",
       "      <td>31769.89</td>\n",
       "      <td>6.84</td>\n",
       "      <td>1.521169</td>\n",
       "      <td>9.236667</td>\n",
       "    </tr>\n",
       "    <tr>\n",
       "      <th>19</th>\n",
       "      <td>2010</td>\n",
       "      <td>33.878240</td>\n",
       "      <td>33328.38</td>\n",
       "      <td>6.92</td>\n",
       "      <td>1.378012</td>\n",
       "      <td>8.980000</td>\n",
       "    </tr>\n",
       "    <tr>\n",
       "      <th>20</th>\n",
       "      <td>2011</td>\n",
       "      <td>36.718471</td>\n",
       "      <td>33226.01</td>\n",
       "      <td>7.00</td>\n",
       "      <td>1.336479</td>\n",
       "      <td>8.775833</td>\n",
       "    </tr>\n",
       "    <tr>\n",
       "      <th>21</th>\n",
       "      <td>2012</td>\n",
       "      <td>47.173903</td>\n",
       "      <td>33620.34</td>\n",
       "      <td>7.09</td>\n",
       "      <td>1.335562</td>\n",
       "      <td>8.661667</td>\n",
       "    </tr>\n",
       "    <tr>\n",
       "      <th>22</th>\n",
       "      <td>2013</td>\n",
       "      <td>41.337987</td>\n",
       "      <td>34217.18</td>\n",
       "      <td>7.18</td>\n",
       "      <td>1.364877</td>\n",
       "      <td>9.238333</td>\n",
       "    </tr>\n",
       "    <tr>\n",
       "      <th>23</th>\n",
       "      <td>2014</td>\n",
       "      <td>53.857372</td>\n",
       "      <td>34558.59</td>\n",
       "      <td>7.26</td>\n",
       "      <td>1.503155</td>\n",
       "      <td>9.105000</td>\n",
       "    </tr>\n",
       "    <tr>\n",
       "      <th>24</th>\n",
       "      <td>2015</td>\n",
       "      <td>50.461706</td>\n",
       "      <td>34521.91</td>\n",
       "      <td>7.35</td>\n",
       "      <td>1.510779</td>\n",
       "      <td>8.920833</td>\n",
       "    </tr>\n",
       "    <tr>\n",
       "      <th>25</th>\n",
       "      <td>2016</td>\n",
       "      <td>54.346964</td>\n",
       "      <td>35160.60</td>\n",
       "      <td>7.43</td>\n",
       "      <td>1.383348</td>\n",
       "      <td>8.325000</td>\n",
       "    </tr>\n",
       "    <tr>\n",
       "      <th>26</th>\n",
       "      <td>2017</td>\n",
       "      <td>57.355991</td>\n",
       "      <td>35588.70</td>\n",
       "      <td>7.52</td>\n",
       "      <td>1.293283</td>\n",
       "      <td>8.706667</td>\n",
       "    </tr>\n",
       "    <tr>\n",
       "      <th>27</th>\n",
       "      <td>2018</td>\n",
       "      <td>53.085122</td>\n",
       "      <td>36441.55</td>\n",
       "      <td>7.60</td>\n",
       "      <td>1.380304</td>\n",
       "      <td>8.755000</td>\n",
       "    </tr>\n",
       "  </tbody>\n",
       "</table>\n",
       "</div>"
      ],
      "text/plain": [
       "    Year   sealevel       co2   Population  Thickness  북극 해빙면적 평균(10^6km)\n",
       "0   1990 -22.847396  22849.92         5.28   2.035898            9.668333\n",
       "1   1991 -22.814062  23056.40         5.37   2.025763            9.742500\n",
       "2   1992 -20.247396  22988.29         5.45   2.024229           10.099167\n",
       "3   1993 -22.780729  23124.00         5.54   1.934320            9.810000\n",
       "4   1994 -17.980729  23260.29         5.62   1.974827            9.989167\n",
       "5   1996 -11.947396  24214.92         5.79   1.896918            9.799167\n",
       "6   1997  -2.647396  25292.92         5.87   1.935293            9.616667\n",
       "7   1998 -10.814063  24895.32         5.95   1.830868            9.626667\n",
       "8   1999  -0.247396  24957.30         6.03   1.770938            9.693333\n",
       "9   2000   2.952604  25637.87         6.11   1.750909            9.457500\n",
       "10  2001   4.719271  25726.42         6.19   1.795824            9.569167\n",
       "11  2002   2.152604  26486.63         6.27   1.752091            9.356667\n",
       "12  2003  14.619271  27308.37         6.35   1.714332            9.289167\n",
       "13  2004  13.652604  28826.48         6.43   1.688927            9.367500\n",
       "14  2005  12.119271  29663.75         6.51   1.672172            9.020833\n",
       "15  2006   9.519271  30905.93         6.59   1.620570            8.802500\n",
       "16  2007  22.785937  31608.28         6.67   1.550804            8.460000\n",
       "17  2008  30.452604  31856.76         6.76   1.543778            9.235000\n",
       "18  2009  33.652604  31769.89         6.84   1.521169            9.236667\n",
       "19  2010  33.878240  33328.38         6.92   1.378012            8.980000\n",
       "20  2011  36.718471  33226.01         7.00   1.336479            8.775833\n",
       "21  2012  47.173903  33620.34         7.09   1.335562            8.661667\n",
       "22  2013  41.337987  34217.18         7.18   1.364877            9.238333\n",
       "23  2014  53.857372  34558.59         7.26   1.503155            9.105000\n",
       "24  2015  50.461706  34521.91         7.35   1.510779            8.920833\n",
       "25  2016  54.346964  35160.60         7.43   1.383348            8.325000\n",
       "26  2017  57.355991  35588.70         7.52   1.293283            8.706667\n",
       "27  2018  53.085122  36441.55         7.60   1.380304            8.755000"
      ]
     },
     "execution_count": 152,
     "metadata": {},
     "output_type": "execute_result"
    }
   ],
   "source": [
    "data3"
   ]
  },
  {
   "cell_type": "code",
   "execution_count": null,
   "metadata": {},
   "outputs": [],
   "source": []
  }
 ],
 "metadata": {
  "kernelspec": {
   "display_name": "base",
   "language": "python",
   "name": "python3"
  },
  "language_info": {
   "codemirror_mode": {
    "name": "ipython",
    "version": 3
   },
   "file_extension": ".py",
   "mimetype": "text/x-python",
   "name": "python",
   "nbconvert_exporter": "python",
   "pygments_lexer": "ipython3",
   "version": "3.11.7"
  }
 },
 "nbformat": 4,
 "nbformat_minor": 2
}
