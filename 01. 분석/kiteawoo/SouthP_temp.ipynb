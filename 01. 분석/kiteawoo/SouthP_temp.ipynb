{
 "cells": [
  {
   "cell_type": "code",
   "execution_count": 37,
   "metadata": {},
   "outputs": [],
   "source": [
    "import pandas as pd"
   ]
  },
  {
   "cell_type": "markdown",
   "metadata": {},
   "source": [
    "> https://data.giss.nasa.gov/gistemp/    \n",
    "1. 표면 온도   \n",
    "GISS Surface Temperature Analysis (GISTEMP)   \n"
   ]
  },
  {
   "cell_type": "code",
   "execution_count": 102,
   "metadata": {},
   "outputs": [
    {
     "name": "stdout",
     "output_type": "stream",
     "text": [
      "   Year   Jan   Feb   Mar   Apr   May   Jun   Jul   Aug   Sep   Oct   Nov  \\\n",
      "0  1880 -0.18 -0.24 -0.09 -0.16  -.10  -.21  -.18  -.10  -.14  -.23  -.22   \n",
      "1  1881 -0.20 -0.14  0.03  0.05   .06  -.19   .00  -.04  -.15  -.22  -.19   \n",
      "2  1882  0.16  0.14  0.05 -0.17  -.15  -.24  -.17  -.08  -.14  -.24  -.16   \n",
      "3  1883 -0.29 -0.37 -0.12 -0.18  -.18  -.08  -.07  -.14  -.21  -.11  -.23   \n",
      "4  1884 -0.13 -0.07 -0.36 -0.40  -.34  -.36  -.30  -.28  -.27  -.25  -.34   \n",
      "\n",
      "    Dec   J-D   D-N   DJF   MAM   JJA   SON  \n",
      "0  -.17  -.17   ***   ***  -.11  -.16  -.20  \n",
      "1  -.07  -.09  -.10  -.17   .05  -.08  -.19  \n",
      "2  -.36  -.11  -.09   .08  -.09  -.16  -.18  \n",
      "3  -.11  -.17  -.20  -.34  -.16  -.10  -.19  \n",
      "4  -.31  -.29  -.27  -.10  -.37  -.32  -.29  \n"
     ]
    }
   ],
   "source": [
    "# Global Mean Estimates based on Land and Ocean Data\n",
    "# CSV 파일을 pandas 데이터프레임으로 읽기\n",
    "url = 'https://data.giss.nasa.gov/gistemp/tabledata_v4/GLB.Ts+dSST.csv'\n",
    "data = pd.read_csv(url, skiprows=1)\n",
    "\n",
    "# 데이터 확인\n",
    "print(data.head())\n",
    "\n"
   ]
  },
  {
   "cell_type": "code",
   "execution_count": 103,
   "metadata": {},
   "outputs": [
    {
     "data": {
      "text/html": [
       "<div>\n",
       "<style scoped>\n",
       "    .dataframe tbody tr th:only-of-type {\n",
       "        vertical-align: middle;\n",
       "    }\n",
       "\n",
       "    .dataframe tbody tr th {\n",
       "        vertical-align: top;\n",
       "    }\n",
       "\n",
       "    .dataframe thead th {\n",
       "        text-align: right;\n",
       "    }\n",
       "</style>\n",
       "<table border=\"1\" class=\"dataframe\">\n",
       "  <thead>\n",
       "    <tr style=\"text-align: right;\">\n",
       "      <th></th>\n",
       "      <th>Year</th>\n",
       "      <th>Jan</th>\n",
       "      <th>Feb</th>\n",
       "      <th>Mar</th>\n",
       "      <th>Apr</th>\n",
       "      <th>May</th>\n",
       "      <th>Jun</th>\n",
       "      <th>Jul</th>\n",
       "      <th>Aug</th>\n",
       "      <th>Sep</th>\n",
       "      <th>Oct</th>\n",
       "      <th>Nov</th>\n",
       "      <th>Dec</th>\n",
       "      <th>J-D</th>\n",
       "      <th>D-N</th>\n",
       "      <th>DJF</th>\n",
       "      <th>MAM</th>\n",
       "      <th>JJA</th>\n",
       "      <th>SON</th>\n",
       "    </tr>\n",
       "  </thead>\n",
       "  <tbody>\n",
       "    <tr>\n",
       "      <th>140</th>\n",
       "      <td>2020</td>\n",
       "      <td>1.17</td>\n",
       "      <td>1.25</td>\n",
       "      <td>1.17</td>\n",
       "      <td>1.13</td>\n",
       "      <td>1.02</td>\n",
       "      <td>.92</td>\n",
       "      <td>.90</td>\n",
       "      <td>.87</td>\n",
       "      <td>.98</td>\n",
       "      <td>.88</td>\n",
       "      <td>1.11</td>\n",
       "      <td>.80</td>\n",
       "      <td>1.02</td>\n",
       "      <td>1.04</td>\n",
       "      <td>1.17</td>\n",
       "      <td>1.11</td>\n",
       "      <td>.90</td>\n",
       "      <td>.99</td>\n",
       "    </tr>\n",
       "    <tr>\n",
       "      <th>141</th>\n",
       "      <td>2021</td>\n",
       "      <td>0.81</td>\n",
       "      <td>0.65</td>\n",
       "      <td>0.89</td>\n",
       "      <td>0.76</td>\n",
       "      <td>.79</td>\n",
       "      <td>.85</td>\n",
       "      <td>.92</td>\n",
       "      <td>.82</td>\n",
       "      <td>.93</td>\n",
       "      <td>1.00</td>\n",
       "      <td>.94</td>\n",
       "      <td>.87</td>\n",
       "      <td>.85</td>\n",
       "      <td>.85</td>\n",
       "      <td>.76</td>\n",
       "      <td>.81</td>\n",
       "      <td>.86</td>\n",
       "      <td>.95</td>\n",
       "    </tr>\n",
       "    <tr>\n",
       "      <th>142</th>\n",
       "      <td>2022</td>\n",
       "      <td>0.91</td>\n",
       "      <td>0.90</td>\n",
       "      <td>1.05</td>\n",
       "      <td>0.84</td>\n",
       "      <td>.84</td>\n",
       "      <td>.93</td>\n",
       "      <td>.94</td>\n",
       "      <td>.95</td>\n",
       "      <td>.89</td>\n",
       "      <td>.97</td>\n",
       "      <td>.73</td>\n",
       "      <td>.81</td>\n",
       "      <td>.90</td>\n",
       "      <td>.90</td>\n",
       "      <td>.89</td>\n",
       "      <td>.91</td>\n",
       "      <td>.94</td>\n",
       "      <td>.86</td>\n",
       "    </tr>\n",
       "    <tr>\n",
       "      <th>143</th>\n",
       "      <td>2023</td>\n",
       "      <td>0.88</td>\n",
       "      <td>0.98</td>\n",
       "      <td>1.22</td>\n",
       "      <td>0.99</td>\n",
       "      <td>.94</td>\n",
       "      <td>1.08</td>\n",
       "      <td>1.19</td>\n",
       "      <td>1.20</td>\n",
       "      <td>1.48</td>\n",
       "      <td>1.34</td>\n",
       "      <td>1.43</td>\n",
       "      <td>1.36</td>\n",
       "      <td>1.17</td>\n",
       "      <td>1.13</td>\n",
       "      <td>.89</td>\n",
       "      <td>1.05</td>\n",
       "      <td>1.16</td>\n",
       "      <td>1.42</td>\n",
       "    </tr>\n",
       "    <tr>\n",
       "      <th>144</th>\n",
       "      <td>2024</td>\n",
       "      <td>1.22</td>\n",
       "      <td>1.44</td>\n",
       "      <td>1.39</td>\n",
       "      <td>1.32</td>\n",
       "      <td>***</td>\n",
       "      <td>***</td>\n",
       "      <td>***</td>\n",
       "      <td>***</td>\n",
       "      <td>***</td>\n",
       "      <td>***</td>\n",
       "      <td>***</td>\n",
       "      <td>***</td>\n",
       "      <td>***</td>\n",
       "      <td>***</td>\n",
       "      <td>1.34</td>\n",
       "      <td>***</td>\n",
       "      <td>***</td>\n",
       "      <td>***</td>\n",
       "    </tr>\n",
       "  </tbody>\n",
       "</table>\n",
       "</div>"
      ],
      "text/plain": [
       "     Year   Jan   Feb   Mar   Apr   May   Jun   Jul   Aug   Sep   Oct   Nov  \\\n",
       "140  2020  1.17  1.25  1.17  1.13  1.02   .92   .90   .87   .98   .88  1.11   \n",
       "141  2021  0.81  0.65  0.89  0.76   .79   .85   .92   .82   .93  1.00   .94   \n",
       "142  2022  0.91  0.90  1.05  0.84   .84   .93   .94   .95   .89   .97   .73   \n",
       "143  2023  0.88  0.98  1.22  0.99   .94  1.08  1.19  1.20  1.48  1.34  1.43   \n",
       "144  2024  1.22  1.44  1.39  1.32   ***   ***   ***   ***   ***   ***   ***   \n",
       "\n",
       "      Dec   J-D   D-N   DJF   MAM   JJA   SON  \n",
       "140   .80  1.02  1.04  1.17  1.11   .90   .99  \n",
       "141   .87   .85   .85   .76   .81   .86   .95  \n",
       "142   .81   .90   .90   .89   .91   .94   .86  \n",
       "143  1.36  1.17  1.13   .89  1.05  1.16  1.42  \n",
       "144   ***   ***   ***  1.34   ***   ***   ***  "
      ]
     },
     "execution_count": 103,
     "metadata": {},
     "output_type": "execute_result"
    }
   ],
   "source": [
    "data.tail()"
   ]
  },
  {
   "cell_type": "code",
   "execution_count": 104,
   "metadata": {},
   "outputs": [
    {
     "name": "stdout",
     "output_type": "stream",
     "text": [
      "<class 'pandas.core.frame.DataFrame'>\n",
      "RangeIndex: 145 entries, 0 to 144\n",
      "Data columns (total 19 columns):\n",
      " #   Column  Non-Null Count  Dtype  \n",
      "---  ------  --------------  -----  \n",
      " 0   Year    145 non-null    int64  \n",
      " 1   Jan     145 non-null    float64\n",
      " 2   Feb     145 non-null    float64\n",
      " 3   Mar     145 non-null    float64\n",
      " 4   Apr     145 non-null    float64\n",
      " 5   May     145 non-null    object \n",
      " 6   Jun     145 non-null    object \n",
      " 7   Jul     145 non-null    object \n",
      " 8   Aug     145 non-null    object \n",
      " 9   Sep     145 non-null    object \n",
      " 10  Oct     145 non-null    object \n",
      " 11  Nov     145 non-null    object \n",
      " 12  Dec     145 non-null    object \n",
      " 13  J-D     145 non-null    object \n",
      " 14  D-N     145 non-null    object \n",
      " 15  DJF     145 non-null    object \n",
      " 16  MAM     145 non-null    object \n",
      " 17  JJA     145 non-null    object \n",
      " 18  SON     145 non-null    object \n",
      "dtypes: float64(4), int64(1), object(14)\n",
      "memory usage: 21.7+ KB\n"
     ]
    }
   ],
   "source": [
    "data.info()"
   ]
  },
  {
   "cell_type": "code",
   "execution_count": 105,
   "metadata": {},
   "outputs": [
    {
     "name": "stdout",
     "output_type": "stream",
     "text": [
      "     Year   Jan   Feb   Mar   Apr   May   Jun   Jul   Aug   Sep   Oct   Nov  \\\n",
      "140  2020  1.17  1.25  1.17  1.13  1.02   .92   .90   .87   .98   .88  1.11   \n",
      "141  2021  0.81  0.65  0.89  0.76   .79   .85   .92   .82   .93  1.00   .94   \n",
      "142  2022  0.91  0.90  1.05  0.84   .84   .93   .94   .95   .89   .97   .73   \n",
      "143  2023  0.88  0.98  1.22  0.99   .94  1.08  1.19  1.20  1.48  1.34  1.43   \n",
      "144  2024  1.22  1.44  1.39  1.32   ***   ***   ***   ***   ***   ***   ***   \n",
      "\n",
      "      Dec   J-D   D-N   DJF   MAM   JJA   SON  \n",
      "140   .80  1.02  1.04  1.17  1.11   .90   .99  \n",
      "141   .87   .85   .85   .76   .81   .86   .95  \n",
      "142   .81   .90   .90   .89   .91   .94   .86  \n",
      "143  1.36  1.17  1.13   .89  1.05  1.16  1.42  \n",
      "144   ***   ***   ***  1.34   ***   ***   ***  \n"
     ]
    }
   ],
   "source": [
    "print(data.tail())"
   ]
  },
  {
   "cell_type": "code",
   "execution_count": 112,
   "metadata": {},
   "outputs": [
    {
     "name": "stdout",
     "output_type": "stream",
     "text": [
      "   Year   Jan   Feb   Mar   Apr   May   Jun   Jul   Aug   Sep   Oct   Nov  \\\n",
      "0  1880 -0.18 -0.24 -0.09 -0.16  -.10  -.21  -.18  -.10  -.14  -.23  -.22   \n",
      "1  1881 -0.20 -0.14  0.03  0.05   .06  -.19   .00  -.04  -.15  -.22  -.19   \n",
      "2  1882  0.16  0.14  0.05 -0.17  -.15  -.24  -.17  -.08  -.14  -.24  -.16   \n",
      "3  1883 -0.29 -0.37 -0.12 -0.18  -.18  -.08  -.07  -.14  -.21  -.11  -.23   \n",
      "4  1884 -0.13 -0.07 -0.36 -0.40  -.34  -.36  -.30  -.28  -.27  -.25  -.34   \n",
      "\n",
      "    Dec   J-D   D-N   DJF   MAM   JJA   SON  \n",
      "0  -.17  -.17   ***   ***  -.11  -.16  -.20  \n",
      "1  -.07  -.09  -.10  -.17   .05  -.08  -.19  \n",
      "2  -.36  -.11  -.09   .08  -.09  -.16  -.18  \n",
      "3  -.11  -.17  -.20  -.34  -.16  -.10  -.19  \n",
      "4  -.31  -.29  -.27  -.10  -.37  -.32  -.29  \n"
     ]
    },
    {
     "data": {
      "image/png": "[encoded data removed]",
      "text/plain": [
       "<Figure size 1000x600 with 1 Axes>"
      ]
     },
     "metadata": {},
     "output_type": "display_data"
    }
   ],
   "source": [
    "#1 온도 데이터\n",
    "import matplotlib.pyplot as plt\n",
    "\n",
    "# NASA GISS 온도 편차 데이터 읽기\n",
    "\n",
    "# 데이터 다운로드 URL\n",
    "url = 'https://data.giss.nasa.gov/gistemp/tabledata_v4/GLB.Ts+dSST.csv'\n",
    "\n",
    "# 데이터 다운로드 및 읽기\n",
    "df = pd.read_csv(url, skiprows=1)\n",
    "\n",
    "# 데이터프레임 출력\n",
    "print(df.head())\n",
    "\n",
    "# 연도 및 기온 데이터만 추출\n",
    "df = df.rename(columns={'Year': 'Year', 'J-D': 'Annual_Mean'})  # 연도 및 연평균 온도 열 이름 설정\n",
    "df = df[['Year', 'Annual_Mean']]\n",
    "\n",
    "# 데이터 전처리: 온도 값이 숫자가 아닌 경우 제거\n",
    "df['Annual_Mean'] = pd.to_numeric(df['Annual_Mean'], errors='coerce')\n",
    "df = df.dropna()\n",
    "\n",
    "# 연도별 평균 온도 그래프 그리기\n",
    "plt.figure(figsize=(10, 6))\n",
    "plt.plot(df['Year'], df['Annual_Mean'],label='Annual Mean Temperature', marker='o', linestyle='-')\n",
    "plt.xlabel('Year')\n",
    "plt.ylabel('Temperature (°C)')\n",
    "plt.title('Annual Average Global Temperature')\n",
    "plt.grid(True)\n",
    "plt.show()\n"
   ]
  },
  {
   "cell_type": "code",
   "execution_count": 113,
   "metadata": {},
   "outputs": [],
   "source": [
    "# 연도 및 기온 데이터만 추출\n",
    "df1 = df.rename(columns={'Year': 'Year', 'J-D': 'Annual_Mean'})  # 연도 및 연평균 온도 열 이름 설정\n",
    "df1 = df[['Year', 'Annual_Mean']]"
   ]
  },
  {
   "cell_type": "code",
   "execution_count": 114,
   "metadata": {},
   "outputs": [],
   "source": [
    "# csv 형식으로 저장하기\n",
    "df1.to_csv(\"../data/temperature_rev1.csv\", index=False, header=True)"
   ]
  },
  {
   "cell_type": "code",
   "execution_count": 115,
   "metadata": {},
   "outputs": [
    {
     "name": "stdout",
     "output_type": "stream",
     "text": [
      "<class 'pandas.core.frame.DataFrame'>\n",
      "Index: 144 entries, 0 to 143\n",
      "Data columns (total 2 columns):\n",
      " #   Column       Non-Null Count  Dtype  \n",
      "---  ------       --------------  -----  \n",
      " 0   Year         144 non-null    int64  \n",
      " 1   Annual_Mean  144 non-null    float64\n",
      "dtypes: float64(1), int64(1)\n",
      "memory usage: 3.4 KB\n"
     ]
    }
   ],
   "source": [
    "df1.info()"
   ]
  },
  {
   "cell_type": "code",
   "execution_count": 50,
   "metadata": {},
   "outputs": [],
   "source": [
    "#pip install requests\n"
   ]
  },
  {
   "cell_type": "markdown",
   "metadata": {},
   "source": [
    "> 해수면 온도 데이터    \n",
    "Nasa 출처:    \n",
    "https://sealevel.nasa.gov/understanding-sea-level/key-indicators/global-mean-sea-level/\n"
   ]
  },
  {
   "cell_type": "code",
   "execution_count": 116,
   "metadata": {},
   "outputs": [
    {
     "name": "stdout",
     "output_type": "stream",
     "text": [
      "   altimeter_type  merged_file_cycle  year_fraction  number_of_observations  \\\n",
      "0               0                 11    1993.011526                  466881   \n",
      "1               0                 12    1993.038692                  459563   \n",
      "2               0                 13    1993.065858                  402996   \n",
      "3               0                 14    1993.093025                  462894   \n",
      "4               0                 15    1993.120191                  460498   \n",
      "\n",
      "   number_of_weighted_observations  GMSL_no_GIA  stddev_GMSL_no_GIA  \\\n",
      "0                        338409.69       -37.91               89.01   \n",
      "1                        333609.59       -40.95               89.95   \n",
      "2                        292736.50       -41.09               86.90   \n",
      "3                        336670.31       -43.38               88.73   \n",
      "4                        332486.09       -38.66               89.87   \n",
      "\n",
      "   smoothed_GMSL_no_GIA  GMSL_with_GIA  stddev_GMSL_with_GIA  \\\n",
      "0                -37.67         -37.90                 89.01   \n",
      "1                -39.07         -40.94                 89.95   \n",
      "2                -39.11         -41.07                 86.90   \n",
      "3                -39.40         -43.36                 88.73   \n",
      "4                -38.51         -38.63                 89.87   \n",
      "\n",
      "   smoothed_GMSL_with_GIA  smoothed_GMSL_with_GIA_no_signal  \\\n",
      "0                  -37.66                            -37.64   \n",
      "1                  -39.06                            -38.53   \n",
      "2                  -39.09                            -38.16   \n",
      "3                  -39.38                            -38.12   \n",
      "4                  -38.48                            -36.96   \n",
      "\n",
      "   smoothed_GMSL_no_GIA_no_signal  \n",
      "0                          -37.66  \n",
      "1                          -38.55  \n",
      "2                          -38.19  \n",
      "3                          -38.16  \n",
      "4                          -37.00  \n"
     ]
    }
   ],
   "source": [
    "import requests\n",
    "import pandas as pd\n",
    "from io import StringIO\n",
    "\n",
    "# URL에서 데이터 가져오기\n",
    "url = \"https://deotb6e7tfubr.cloudfront.net/s3-edaf5da92e0ce48fb61175c28b67e95d/podaac-ops-cumulus-protected.s3.us-west-2.amazonaws.com/MERGED_TP_J1_OSTM_OST_GMSL_ASCII_V51/GMSL_TPJAOS_5.1.txt?A-userid=tim89&Expires=1717478029&Signature=pgXIomN3uS1DarbD8NbmFOexVfPHizdbPcFZ9R8UBRODojbOD1qndinopYhGkoJbyG6rltghha9S-LUYevC6kdSQCjOys-ut-HYzNeBynuCd9nWAdSlykQUnq7HEZBJvrA5K61Gp4ph6pPTdRuffiBfmBd8vmBe3r2RNFMYqs59cqJGtfxhPoLWF0wazVkLZVjmdKeyhKHkuuPArWXJQggHsoQ6IqgYBO0kHuzaCYMQlAQpbnrolkukMDmuW~-To7LSuk~Imhnk~VTiP3HqJrTsb-6YBE5j12QbTNI-GZre~3CdnmINBR0XphanYgqkBy1PXn7QINfw~uJZdmfU8Hg__&Key-Pair-Id=K1M35K4VSQWD79\"\n",
    "response = requests.get(url)\n",
    "\n",
    "# 데이터 로드\n",
    "data = response.text\n",
    "\n",
    "# 불필요한 헤더 제거\n",
    "data_start_idx = data.find(\"Header_End---------------------------------------\") + len(\"Header_End---------------------------------------\")\n",
    "cleaned_data = data[data_start_idx:]\n",
    "\n",
    "# pandas DataFrame으로 변환\n",
    "df = pd.read_csv(StringIO(cleaned_data), delim_whitespace=True, header=None)\n",
    "\n",
    "# 컬럼 이름 추가\n",
    "columns = [\n",
    "    \"altimeter_type\", \"merged_file_cycle\", \"year_fraction\", \"number_of_observations\", \n",
    "    \"number_of_weighted_observations\", \"GMSL_no_GIA\", \"stddev_GMSL_no_GIA\", \n",
    "    \"smoothed_GMSL_no_GIA\", \"GMSL_with_GIA\", \"stddev_GMSL_with_GIA\", \n",
    "    \"smoothed_GMSL_with_GIA\", \"smoothed_GMSL_with_GIA_no_signal\", \n",
    "    \"smoothed_GMSL_no_GIA_no_signal\"\n",
    "]\n",
    "df.columns = columns\n",
    "\n",
    "print(df.head())\n"
   ]
  },
  {
   "cell_type": "code",
   "execution_count": 117,
   "metadata": {},
   "outputs": [
    {
     "data": {
      "image/png": "[encoded data removed]",
      "text/plain": [
       "<Figure size 1200x600 with 1 Axes>"
      ]
     },
     "metadata": {},
     "output_type": "display_data"
    }
   ],
   "source": [
    "# 연도와 연평균 온도 편차 데이터 추출\n",
    "years = df['year_fraction']\n",
    "seelevels = df['smoothed_GMSL_with_GIA_no_signal']\n",
    "\n",
    "# 그래프 생성\n",
    "plt.figure(figsize=(12, 6))\n",
    "plt.plot(years, seelevels, marker='o', linestyle='-', color='b', label='Sea Level')\n",
    "plt.axhline(0, color='grey', linewidth=0.5)\n",
    "plt.xlabel('Year')\n",
    "plt.ylabel('Sea Height Variation (mm)')\n",
    "plt.title('Nasa Gobal Mean Sea Height Variation (1993-2024)')\n",
    "plt.legend()\n",
    "plt.grid(True)\n",
    "plt.show()"
   ]
  },
  {
   "cell_type": "code",
   "execution_count": 118,
   "metadata": {},
   "outputs": [],
   "source": [
    "df2 = df[['year_fraction','smoothed_GMSL_with_GIA_no_signal']]\n"
   ]
  },
  {
   "cell_type": "code",
   "execution_count": 119,
   "metadata": {},
   "outputs": [
    {
     "name": "stdout",
     "output_type": "stream",
     "text": [
      "<class 'pandas.core.frame.DataFrame'>\n",
      "RangeIndex: 1146 entries, 0 to 1145\n",
      "Data columns (total 2 columns):\n",
      " #   Column                            Non-Null Count  Dtype  \n",
      "---  ------                            --------------  -----  \n",
      " 0   year_fraction                     1146 non-null   float64\n",
      " 1   smoothed_GMSL_with_GIA_no_signal  1146 non-null   float64\n",
      "dtypes: float64(2)\n",
      "memory usage: 18.0 KB\n"
     ]
    }
   ],
   "source": [
    "df2.info()"
   ]
  },
  {
   "cell_type": "code",
   "execution_count": null,
   "metadata": {},
   "outputs": [],
   "source": [
    "# 월별 평균 상승률로 계산"
   ]
  },
  {
   "cell_type": "code",
   "execution_count": 122,
   "metadata": {},
   "outputs": [
    {
     "data": {
      "text/html": [
       "<div>\n",
       "<style scoped>\n",
       "    .dataframe tbody tr th:only-of-type {\n",
       "        vertical-align: middle;\n",
       "    }\n",
       "\n",
       "    .dataframe tbody tr th {\n",
       "        vertical-align: top;\n",
       "    }\n",
       "\n",
       "    .dataframe thead th {\n",
       "        text-align: right;\n",
       "    }\n",
       "</style>\n",
       "<table border=\"1\" class=\"dataframe\">\n",
       "  <thead>\n",
       "    <tr style=\"text-align: right;\">\n",
       "      <th></th>\n",
       "      <th>year_fraction</th>\n",
       "      <th>smoothed_GMSL_with_GIA_no_signal</th>\n",
       "    </tr>\n",
       "  </thead>\n",
       "  <tbody>\n",
       "    <tr>\n",
       "      <th>1141</th>\n",
       "      <td>2024.016050</td>\n",
       "      <td>73.09</td>\n",
       "    </tr>\n",
       "    <tr>\n",
       "      <th>1142</th>\n",
       "      <td>2024.043142</td>\n",
       "      <td>73.21</td>\n",
       "    </tr>\n",
       "    <tr>\n",
       "      <th>1143</th>\n",
       "      <td>2024.070234</td>\n",
       "      <td>73.36</td>\n",
       "    </tr>\n",
       "    <tr>\n",
       "      <th>1144</th>\n",
       "      <td>2024.097326</td>\n",
       "      <td>73.52</td>\n",
       "    </tr>\n",
       "    <tr>\n",
       "      <th>1145</th>\n",
       "      <td>2024.124418</td>\n",
       "      <td>73.69</td>\n",
       "    </tr>\n",
       "  </tbody>\n",
       "</table>\n",
       "</div>"
      ],
      "text/plain": [
       "      year_fraction  smoothed_GMSL_with_GIA_no_signal\n",
       "1141    2024.016050                             73.09\n",
       "1142    2024.043142                             73.21\n",
       "1143    2024.070234                             73.36\n",
       "1144    2024.097326                             73.52\n",
       "1145    2024.124418                             73.69"
      ]
     },
     "execution_count": 122,
     "metadata": {},
     "output_type": "execute_result"
    }
   ],
   "source": [
    "df2.tail()"
   ]
  },
  {
   "cell_type": "code",
   "execution_count": 123,
   "metadata": {},
   "outputs": [],
   "source": [
    "# csv 형식으로 저장하기\n",
    "df2.to_csv(\"../data/sealevel_rev1.csv\", index=False, header=True)"
   ]
  },
  {
   "cell_type": "code",
   "execution_count": 82,
   "metadata": {},
   "outputs": [
    {
     "name": "stdout",
     "output_type": "stream",
     "text": [
      "<class 'pandas.core.frame.DataFrame'>\n",
      "RangeIndex: 1146 entries, 0 to 1145\n",
      "Data columns (total 13 columns):\n",
      " #   Column                            Non-Null Count  Dtype  \n",
      "---  ------                            --------------  -----  \n",
      " 0   altimeter_type                    1146 non-null   int64  \n",
      " 1   merged_file_cycle                 1146 non-null   int64  \n",
      " 2   year_fraction                     1146 non-null   float64\n",
      " 3   number_of_observations            1146 non-null   int64  \n",
      " 4   number_of_weighted_observations   1146 non-null   float64\n",
      " 5   GMSL_no_GIA                       1146 non-null   float64\n",
      " 6   stddev_GMSL_no_GIA                1146 non-null   float64\n",
      " 7   smoothed_GMSL_no_GIA              1146 non-null   float64\n",
      " 8   GMSL_with_GIA                     1146 non-null   float64\n",
      " 9   stddev_GMSL_with_GIA              1146 non-null   float64\n",
      " 10  smoothed_GMSL_with_GIA            1146 non-null   float64\n",
      " 11  smoothed_GMSL_with_GIA_no_signal  1146 non-null   float64\n",
      " 12  smoothed_GMSL_no_GIA_no_signal    1146 non-null   float64\n",
      "dtypes: float64(10), int64(3)\n",
      "memory usage: 116.5 KB\n"
     ]
    }
   ],
   "source": [
    "df.info()"
   ]
  },
  {
   "cell_type": "markdown",
   "metadata": {},
   "source": [
    "> 온실가스 연간 데이터   \n",
    "출처: https://explore.globalcarbonbudgetdata.org/timeseries.html\n",
    "1850 - 2022   \n",
    "Please cite: The Global Carbon Budget 2023 (Friedlingstein et al., 2023b, ESSD) for all data."
   ]
  },
  {
   "cell_type": "code",
   "execution_count": 124,
   "metadata": {},
   "outputs": [
    {
     "data": {
      "text/html": [
       "<div>\n",
       "<style scoped>\n",
       "    .dataframe tbody tr th:only-of-type {\n",
       "        vertical-align: middle;\n",
       "    }\n",
       "\n",
       "    .dataframe tbody tr th {\n",
       "        vertical-align: top;\n",
       "    }\n",
       "\n",
       "    .dataframe thead th {\n",
       "        text-align: right;\n",
       "    }\n",
       "</style>\n",
       "<table border=\"1\" class=\"dataframe\">\n",
       "  <thead>\n",
       "    <tr style=\"text-align: right;\">\n",
       "      <th></th>\n",
       "      <th>Year</th>\n",
       "      <th>Country</th>\n",
       "      <th>Fuels_Coal</th>\n",
       "      <th>Fuels_Oil</th>\n",
       "      <th>Fuels_Gas</th>\n",
       "      <th>Fuels_Cement</th>\n",
       "      <th>Fuels_Flaring</th>\n",
       "      <th>Fuels_Bunkers</th>\n",
       "      <th>Fuels_Total</th>\n",
       "    </tr>\n",
       "  </thead>\n",
       "  <tbody>\n",
       "    <tr>\n",
       "      <th>0</th>\n",
       "      <td>1850</td>\n",
       "      <td>World</td>\n",
       "      <td>53.698681</td>\n",
       "      <td>0.0</td>\n",
       "      <td>0.0</td>\n",
       "      <td>0.0</td>\n",
       "      <td>0.0</td>\n",
       "      <td>0.0</td>\n",
       "      <td>53.698681</td>\n",
       "    </tr>\n",
       "    <tr>\n",
       "      <th>1</th>\n",
       "      <td>1851</td>\n",
       "      <td>World</td>\n",
       "      <td>54.221643</td>\n",
       "      <td>0.0</td>\n",
       "      <td>0.0</td>\n",
       "      <td>0.0</td>\n",
       "      <td>0.0</td>\n",
       "      <td>0.0</td>\n",
       "      <td>54.221643</td>\n",
       "    </tr>\n",
       "    <tr>\n",
       "      <th>2</th>\n",
       "      <td>1852</td>\n",
       "      <td>World</td>\n",
       "      <td>56.608683</td>\n",
       "      <td>0.0</td>\n",
       "      <td>0.0</td>\n",
       "      <td>0.0</td>\n",
       "      <td>0.0</td>\n",
       "      <td>0.0</td>\n",
       "      <td>56.608683</td>\n",
       "    </tr>\n",
       "    <tr>\n",
       "      <th>3</th>\n",
       "      <td>1853</td>\n",
       "      <td>World</td>\n",
       "      <td>59.257762</td>\n",
       "      <td>0.0</td>\n",
       "      <td>0.0</td>\n",
       "      <td>0.0</td>\n",
       "      <td>0.0</td>\n",
       "      <td>0.0</td>\n",
       "      <td>59.257762</td>\n",
       "    </tr>\n",
       "    <tr>\n",
       "      <th>4</th>\n",
       "      <td>1854</td>\n",
       "      <td>World</td>\n",
       "      <td>69.605122</td>\n",
       "      <td>0.0</td>\n",
       "      <td>0.0</td>\n",
       "      <td>0.0</td>\n",
       "      <td>0.0</td>\n",
       "      <td>0.0</td>\n",
       "      <td>69.605122</td>\n",
       "    </tr>\n",
       "  </tbody>\n",
       "</table>\n",
       "</div>"
      ],
      "text/plain": [
       "   Year Country  Fuels_Coal  Fuels_Oil  Fuels_Gas  Fuels_Cement  \\\n",
       "0  1850   World   53.698681        0.0        0.0           0.0   \n",
       "1  1851   World   54.221643        0.0        0.0           0.0   \n",
       "2  1852   World   56.608683        0.0        0.0           0.0   \n",
       "3  1853   World   59.257762        0.0        0.0           0.0   \n",
       "4  1854   World   69.605122        0.0        0.0           0.0   \n",
       "\n",
       "   Fuels_Flaring  Fuels_Bunkers  Fuels_Total  \n",
       "0            0.0            0.0    53.698681  \n",
       "1            0.0            0.0    54.221643  \n",
       "2            0.0            0.0    56.608683  \n",
       "3            0.0            0.0    59.257762  \n",
       "4            0.0            0.0    69.605122  "
      ]
     },
     "execution_count": 124,
     "metadata": {},
     "output_type": "execute_result"
    }
   ],
   "source": [
    "ygs = pd.read_csv(\"../Data/GC_1850_2022_data.csv\")\n",
    "ygs.head()"
   ]
  },
  {
   "cell_type": "code",
   "execution_count": 125,
   "metadata": {},
   "outputs": [],
   "source": [
    "df3 = ygs[0:173]"
   ]
  },
  {
   "cell_type": "code",
   "execution_count": 126,
   "metadata": {},
   "outputs": [
    {
     "data": {
      "text/html": [
       "<div>\n",
       "<style scoped>\n",
       "    .dataframe tbody tr th:only-of-type {\n",
       "        vertical-align: middle;\n",
       "    }\n",
       "\n",
       "    .dataframe tbody tr th {\n",
       "        vertical-align: top;\n",
       "    }\n",
       "\n",
       "    .dataframe thead th {\n",
       "        text-align: right;\n",
       "    }\n",
       "</style>\n",
       "<table border=\"1\" class=\"dataframe\">\n",
       "  <thead>\n",
       "    <tr style=\"text-align: right;\">\n",
       "      <th></th>\n",
       "      <th>Year</th>\n",
       "      <th>Country</th>\n",
       "      <th>Fuels_Coal</th>\n",
       "      <th>Fuels_Oil</th>\n",
       "      <th>Fuels_Gas</th>\n",
       "      <th>Fuels_Cement</th>\n",
       "      <th>Fuels_Flaring</th>\n",
       "      <th>Fuels_Bunkers</th>\n",
       "      <th>Fuels_Total</th>\n",
       "    </tr>\n",
       "  </thead>\n",
       "  <tbody>\n",
       "    <tr>\n",
       "      <th>168</th>\n",
       "      <td>2018</td>\n",
       "      <td>World</td>\n",
       "      <td>4018.898673</td>\n",
       "      <td>3348.099796</td>\n",
       "      <td>2046.403150</td>\n",
       "      <td>427.347861</td>\n",
       "      <td>111.160988</td>\n",
       "      <td>344.274354</td>\n",
       "      <td>10296.184823</td>\n",
       "    </tr>\n",
       "    <tr>\n",
       "      <th>169</th>\n",
       "      <td>2019</td>\n",
       "      <td>World</td>\n",
       "      <td>4007.727329</td>\n",
       "      <td>3378.261292</td>\n",
       "      <td>2080.083808</td>\n",
       "      <td>440.986929</td>\n",
       "      <td>118.839384</td>\n",
       "      <td>345.030166</td>\n",
       "      <td>10370.928907</td>\n",
       "    </tr>\n",
       "    <tr>\n",
       "      <th>170</th>\n",
       "      <td>2020</td>\n",
       "      <td>World</td>\n",
       "      <td>3882.618770</td>\n",
       "      <td>2985.532889</td>\n",
       "      <td>2062.025830</td>\n",
       "      <td>445.700507</td>\n",
       "      <td>108.766185</td>\n",
       "      <td>245.038764</td>\n",
       "      <td>9729.682946</td>\n",
       "    </tr>\n",
       "    <tr>\n",
       "      <th>171</th>\n",
       "      <td>2021</td>\n",
       "      <td>World</td>\n",
       "      <td>4089.114892</td>\n",
       "      <td>3153.926567</td>\n",
       "      <td>2162.148311</td>\n",
       "      <td>461.900587</td>\n",
       "      <td>110.106159</td>\n",
       "      <td>247.820161</td>\n",
       "      <td>10225.016676</td>\n",
       "    </tr>\n",
       "    <tr>\n",
       "      <th>172</th>\n",
       "      <td>2022</td>\n",
       "      <td>World</td>\n",
       "      <td>4153.740016</td>\n",
       "      <td>3253.393146</td>\n",
       "      <td>2114.786188</td>\n",
       "      <td>438.175248</td>\n",
       "      <td>108.474835</td>\n",
       "      <td>286.392329</td>\n",
       "      <td>10354.961763</td>\n",
       "    </tr>\n",
       "  </tbody>\n",
       "</table>\n",
       "</div>"
      ],
      "text/plain": [
       "     Year Country   Fuels_Coal    Fuels_Oil    Fuels_Gas  Fuels_Cement  \\\n",
       "168  2018   World  4018.898673  3348.099796  2046.403150    427.347861   \n",
       "169  2019   World  4007.727329  3378.261292  2080.083808    440.986929   \n",
       "170  2020   World  3882.618770  2985.532889  2062.025830    445.700507   \n",
       "171  2021   World  4089.114892  3153.926567  2162.148311    461.900587   \n",
       "172  2022   World  4153.740016  3253.393146  2114.786188    438.175248   \n",
       "\n",
       "     Fuels_Flaring  Fuels_Bunkers   Fuels_Total  \n",
       "168     111.160988     344.274354  10296.184823  \n",
       "169     118.839384     345.030166  10370.928907  \n",
       "170     108.766185     245.038764   9729.682946  \n",
       "171     110.106159     247.820161  10225.016676  \n",
       "172     108.474835     286.392329  10354.961763  "
      ]
     },
     "execution_count": 126,
     "metadata": {},
     "output_type": "execute_result"
    }
   ],
   "source": [
    "df3.tail()"
   ]
  },
  {
   "cell_type": "code",
   "execution_count": 127,
   "metadata": {},
   "outputs": [
    {
     "name": "stdout",
     "output_type": "stream",
     "text": [
      "<class 'pandas.core.frame.DataFrame'>\n",
      "RangeIndex: 173 entries, 0 to 172\n",
      "Data columns (total 9 columns):\n",
      " #   Column         Non-Null Count  Dtype  \n",
      "---  ------         --------------  -----  \n",
      " 0   Year           173 non-null    int64  \n",
      " 1   Country        173 non-null    object \n",
      " 2   Fuels_Coal     173 non-null    float64\n",
      " 3   Fuels_Oil      173 non-null    float64\n",
      " 4   Fuels_Gas      173 non-null    float64\n",
      " 5   Fuels_Cement   173 non-null    float64\n",
      " 6   Fuels_Flaring  173 non-null    float64\n",
      " 7   Fuels_Bunkers  173 non-null    float64\n",
      " 8   Fuels_Total    173 non-null    float64\n",
      "dtypes: float64(7), int64(1), object(1)\n",
      "memory usage: 12.3+ KB\n"
     ]
    }
   ],
   "source": [
    "df3.info()"
   ]
  },
  {
   "cell_type": "code",
   "execution_count": 128,
   "metadata": {},
   "outputs": [
    {
     "data": {
      "image/png": "[encoded data removed]",
      "text/plain": [
       "<Figure size 1200x600 with 1 Axes>"
      ]
     },
     "metadata": {},
     "output_type": "display_data"
    }
   ],
   "source": [
    "# 온실가스 데이터\n",
    "years = df3['Year']\n",
    "emissions = df3['Fuels_Total']\n",
    "\n",
    "# 그래프 생성\n",
    "plt.figure(figsize=(12, 6))\n",
    "plt.plot(years, emissions, marker='o', linestyle='-', color='b', label='CO2 Level')\n",
    "plt.axhline(0, color='grey', linewidth=0.5)\n",
    "plt.xlabel('Year')\n",
    "plt.ylabel('Mt C/Year')\n",
    "plt.title('Annual fossil fuel emissions (1850-2022)')\n",
    "plt.legend()\n",
    "plt.grid(True)\n",
    "plt.show()"
   ]
  },
  {
   "cell_type": "code",
   "execution_count": 129,
   "metadata": {},
   "outputs": [],
   "source": [
    "data3 = df3[['Year','Fuels_Total']]"
   ]
  },
  {
   "cell_type": "code",
   "execution_count": 147,
   "metadata": {},
   "outputs": [
    {
     "data": {
      "text/html": [
       "<div>\n",
       "<style scoped>\n",
       "    .dataframe tbody tr th:only-of-type {\n",
       "        vertical-align: middle;\n",
       "    }\n",
       "\n",
       "    .dataframe tbody tr th {\n",
       "        vertical-align: top;\n",
       "    }\n",
       "\n",
       "    .dataframe thead th {\n",
       "        text-align: right;\n",
       "    }\n",
       "</style>\n",
       "<table border=\"1\" class=\"dataframe\">\n",
       "  <thead>\n",
       "    <tr style=\"text-align: right;\">\n",
       "      <th></th>\n",
       "      <th>Year</th>\n",
       "      <th>Fuels_Total</th>\n",
       "    </tr>\n",
       "  </thead>\n",
       "  <tbody>\n",
       "    <tr>\n",
       "      <th>0</th>\n",
       "      <td>1850</td>\n",
       "      <td>53.698681</td>\n",
       "    </tr>\n",
       "    <tr>\n",
       "      <th>1</th>\n",
       "      <td>1851</td>\n",
       "      <td>54.221643</td>\n",
       "    </tr>\n",
       "    <tr>\n",
       "      <th>2</th>\n",
       "      <td>1852</td>\n",
       "      <td>56.608683</td>\n",
       "    </tr>\n",
       "    <tr>\n",
       "      <th>3</th>\n",
       "      <td>1853</td>\n",
       "      <td>59.257762</td>\n",
       "    </tr>\n",
       "    <tr>\n",
       "      <th>4</th>\n",
       "      <td>1854</td>\n",
       "      <td>69.605122</td>\n",
       "    </tr>\n",
       "  </tbody>\n",
       "</table>\n",
       "</div>"
      ],
      "text/plain": [
       "   Year  Fuels_Total\n",
       "0  1850    53.698681\n",
       "1  1851    54.221643\n",
       "2  1852    56.608683\n",
       "3  1853    59.257762\n",
       "4  1854    69.605122"
      ]
     },
     "execution_count": 147,
     "metadata": {},
     "output_type": "execute_result"
    }
   ],
   "source": [
    "data3.head()"
   ]
  },
  {
   "cell_type": "code",
   "execution_count": 131,
   "metadata": {},
   "outputs": [
    {
     "data": {
      "text/html": [
       "<div>\n",
       "<style scoped>\n",
       "    .dataframe tbody tr th:only-of-type {\n",
       "        vertical-align: middle;\n",
       "    }\n",
       "\n",
       "    .dataframe tbody tr th {\n",
       "        vertical-align: top;\n",
       "    }\n",
       "\n",
       "    .dataframe thead th {\n",
       "        text-align: right;\n",
       "    }\n",
       "</style>\n",
       "<table border=\"1\" class=\"dataframe\">\n",
       "  <thead>\n",
       "    <tr style=\"text-align: right;\">\n",
       "      <th></th>\n",
       "      <th>Year</th>\n",
       "      <th>Fuels_Total</th>\n",
       "    </tr>\n",
       "  </thead>\n",
       "  <tbody>\n",
       "    <tr>\n",
       "      <th>168</th>\n",
       "      <td>2018</td>\n",
       "      <td>10296.184823</td>\n",
       "    </tr>\n",
       "    <tr>\n",
       "      <th>169</th>\n",
       "      <td>2019</td>\n",
       "      <td>10370.928907</td>\n",
       "    </tr>\n",
       "    <tr>\n",
       "      <th>170</th>\n",
       "      <td>2020</td>\n",
       "      <td>9729.682946</td>\n",
       "    </tr>\n",
       "    <tr>\n",
       "      <th>171</th>\n",
       "      <td>2021</td>\n",
       "      <td>10225.016676</td>\n",
       "    </tr>\n",
       "    <tr>\n",
       "      <th>172</th>\n",
       "      <td>2022</td>\n",
       "      <td>10354.961763</td>\n",
       "    </tr>\n",
       "  </tbody>\n",
       "</table>\n",
       "</div>"
      ],
      "text/plain": [
       "     Year   Fuels_Total\n",
       "168  2018  10296.184823\n",
       "169  2019  10370.928907\n",
       "170  2020   9729.682946\n",
       "171  2021  10225.016676\n",
       "172  2022  10354.961763"
      ]
     },
     "execution_count": 131,
     "metadata": {},
     "output_type": "execute_result"
    }
   ],
   "source": [
    "data3.tail()"
   ]
  },
  {
   "cell_type": "code",
   "execution_count": 133,
   "metadata": {},
   "outputs": [
    {
     "name": "stdout",
     "output_type": "stream",
     "text": [
      "<class 'pandas.core.frame.DataFrame'>\n",
      "RangeIndex: 173 entries, 0 to 172\n",
      "Data columns (total 2 columns):\n",
      " #   Column       Non-Null Count  Dtype  \n",
      "---  ------       --------------  -----  \n",
      " 0   Year         173 non-null    int64  \n",
      " 1   Fuels_Total  173 non-null    float64\n",
      "dtypes: float64(1), int64(1)\n",
      "memory usage: 2.8 KB\n"
     ]
    }
   ],
   "source": [
    "data3.info()"
   ]
  },
  {
   "cell_type": "code",
   "execution_count": 132,
   "metadata": {},
   "outputs": [],
   "source": [
    "# csv 형식으로 저장하기\n",
    "data3.to_csv(\"../data/co2level_rev1.csv\", index=False, header=True)"
   ]
  },
  {
   "cell_type": "markdown",
   "metadata": {},
   "source": [
    "# global_sea_level\n"
   ]
  },
  {
   "cell_type": "code",
   "execution_count": 134,
   "metadata": {},
   "outputs": [
    {
     "data": {
      "text/html": [
       "<div>\n",
       "<style scoped>\n",
       "    .dataframe tbody tr th:only-of-type {\n",
       "        vertical-align: middle;\n",
       "    }\n",
       "\n",
       "    .dataframe tbody tr th {\n",
       "        vertical-align: top;\n",
       "    }\n",
       "\n",
       "    .dataframe thead th {\n",
       "        text-align: right;\n",
       "    }\n",
       "</style>\n",
       "<table border=\"1\" class=\"dataframe\">\n",
       "  <thead>\n",
       "    <tr style=\"text-align: right;\">\n",
       "      <th></th>\n",
       "      <th>year</th>\n",
       "      <th>date</th>\n",
       "      <th>mmfrom1993-2008average</th>\n",
       "    </tr>\n",
       "  </thead>\n",
       "  <tbody>\n",
       "    <tr>\n",
       "      <th>0</th>\n",
       "      <td>1880</td>\n",
       "      <td>07/15/1880</td>\n",
       "      <td>-183.247396</td>\n",
       "    </tr>\n",
       "    <tr>\n",
       "      <th>1</th>\n",
       "      <td>1881</td>\n",
       "      <td>07/15/1881</td>\n",
       "      <td>-174.014062</td>\n",
       "    </tr>\n",
       "    <tr>\n",
       "      <th>2</th>\n",
       "      <td>1882</td>\n",
       "      <td>07/15/1882</td>\n",
       "      <td>-190.080729</td>\n",
       "    </tr>\n",
       "    <tr>\n",
       "      <th>3</th>\n",
       "      <td>1883</td>\n",
       "      <td>07/15/1883</td>\n",
       "      <td>-185.147396</td>\n",
       "    </tr>\n",
       "    <tr>\n",
       "      <th>4</th>\n",
       "      <td>1884</td>\n",
       "      <td>07/15/1884</td>\n",
       "      <td>-166.280729</td>\n",
       "    </tr>\n",
       "  </tbody>\n",
       "</table>\n",
       "</div>"
      ],
      "text/plain": [
       "   year        date  mmfrom1993-2008average\n",
       "0  1880  07/15/1880             -183.247396\n",
       "1  1881  07/15/1881             -174.014062\n",
       "2  1882  07/15/1882             -190.080729\n",
       "3  1883  07/15/1883             -185.147396\n",
       "4  1884  07/15/1884             -166.280729"
      ]
     },
     "execution_count": 134,
     "metadata": {},
     "output_type": "execute_result"
    }
   ],
   "source": [
    "gsea = pd.read_csv(\"../data/Global_sea_level_rise.csv\")\n",
    "gsea.head()"
   ]
  },
  {
   "cell_type": "code",
   "execution_count": 136,
   "metadata": {},
   "outputs": [
    {
     "data": {
      "text/html": [
       "<div>\n",
       "<style scoped>\n",
       "    .dataframe tbody tr th:only-of-type {\n",
       "        vertical-align: middle;\n",
       "    }\n",
       "\n",
       "    .dataframe tbody tr th {\n",
       "        vertical-align: top;\n",
       "    }\n",
       "\n",
       "    .dataframe thead th {\n",
       "        text-align: right;\n",
       "    }\n",
       "</style>\n",
       "<table border=\"1\" class=\"dataframe\">\n",
       "  <thead>\n",
       "    <tr style=\"text-align: right;\">\n",
       "      <th></th>\n",
       "      <th>year</th>\n",
       "      <th>date</th>\n",
       "      <th>mmfrom1993-2008average</th>\n",
       "    </tr>\n",
       "  </thead>\n",
       "  <tbody>\n",
       "    <tr>\n",
       "      <th>138</th>\n",
       "      <td>2018</td>\n",
       "      <td>7/15/2018</td>\n",
       "      <td>53.085122</td>\n",
       "    </tr>\n",
       "    <tr>\n",
       "      <th>139</th>\n",
       "      <td>2019</td>\n",
       "      <td>7/15/2019</td>\n",
       "      <td>61.393713</td>\n",
       "    </tr>\n",
       "    <tr>\n",
       "      <th>140</th>\n",
       "      <td>2020</td>\n",
       "      <td>7/15/2020</td>\n",
       "      <td>66.704325</td>\n",
       "    </tr>\n",
       "    <tr>\n",
       "      <th>141</th>\n",
       "      <td>2021</td>\n",
       "      <td>7/15/2021</td>\n",
       "      <td>63.290000</td>\n",
       "    </tr>\n",
       "    <tr>\n",
       "      <th>142</th>\n",
       "      <td>2022</td>\n",
       "      <td>7/15/2022</td>\n",
       "      <td>69.660000</td>\n",
       "    </tr>\n",
       "  </tbody>\n",
       "</table>\n",
       "</div>"
      ],
      "text/plain": [
       "     year       date  mmfrom1993-2008average\n",
       "138  2018  7/15/2018               53.085122\n",
       "139  2019  7/15/2019               61.393713\n",
       "140  2020  7/15/2020               66.704325\n",
       "141  2021  7/15/2021               63.290000\n",
       "142  2022  7/15/2022               69.660000"
      ]
     },
     "execution_count": 136,
     "metadata": {},
     "output_type": "execute_result"
    }
   ],
   "source": [
    "gsea.tail()"
   ]
  },
  {
   "cell_type": "code",
   "execution_count": 135,
   "metadata": {},
   "outputs": [
    {
     "name": "stdout",
     "output_type": "stream",
     "text": [
      "<class 'pandas.core.frame.DataFrame'>\n",
      "RangeIndex: 143 entries, 0 to 142\n",
      "Data columns (total 3 columns):\n",
      " #   Column                  Non-Null Count  Dtype  \n",
      "---  ------                  --------------  -----  \n",
      " 0   year                    143 non-null    int64  \n",
      " 1   date                    143 non-null    object \n",
      " 2   mmfrom1993-2008average  143 non-null    float64\n",
      "dtypes: float64(1), int64(1), object(1)\n",
      "memory usage: 3.5+ KB\n"
     ]
    }
   ],
   "source": [
    "gsea.info()"
   ]
  },
  {
   "cell_type": "markdown",
   "metadata": {},
   "source": [
    "> 출처 : kaggle data"
   ]
  },
  {
   "cell_type": "code",
   "execution_count": 138,
   "metadata": {},
   "outputs": [
    {
     "data": {
      "image/png": "[encoded data removed]",
      "text/plain": [
       "<Figure size 1200x600 with 1 Axes>"
      ]
     },
     "metadata": {},
     "output_type": "display_data"
    }
   ],
   "source": [
    "# 연도와 연평균 온도 편차 데이터 추출\n",
    "years = gsea['year']\n",
    "seelevels = gsea['mmfrom1993-2008average']\n",
    "\n",
    "# 그래프 생성\n",
    "plt.figure(figsize=(12, 6))\n",
    "plt.plot(years, seelevels, marker='o', linestyle='-', color='b', label='Sea Level')\n",
    "plt.axhline(0, color='grey', linewidth=0.5)\n",
    "plt.xlabel('Year')\n",
    "plt.ylabel('Sea Height Variation (mm)')\n",
    "plt.title('Gobal Sea Level (1880-2022)')\n",
    "plt.legend()\n",
    "plt.grid(True)\n",
    "plt.show()"
   ]
  },
  {
   "cell_type": "markdown",
   "metadata": {},
   "source": [
    "> 연도 별 데이터 합치기"
   ]
  },
  {
   "cell_type": "code",
   "execution_count": 309,
   "metadata": {},
   "outputs": [
    {
     "data": {
      "text/html": [
       "<div>\n",
       "<style scoped>\n",
       "    .dataframe tbody tr th:only-of-type {\n",
       "        vertical-align: middle;\n",
       "    }\n",
       "\n",
       "    .dataframe tbody tr th {\n",
       "        vertical-align: top;\n",
       "    }\n",
       "\n",
       "    .dataframe thead th {\n",
       "        text-align: right;\n",
       "    }\n",
       "</style>\n",
       "<table border=\"1\" class=\"dataframe\">\n",
       "  <thead>\n",
       "    <tr style=\"text-align: right;\">\n",
       "      <th></th>\n",
       "      <th>Year</th>\n",
       "      <th>Fuels_Total</th>\n",
       "    </tr>\n",
       "  </thead>\n",
       "  <tbody>\n",
       "    <tr>\n",
       "      <th>0</th>\n",
       "      <td>1850</td>\n",
       "      <td>53.698681</td>\n",
       "    </tr>\n",
       "    <tr>\n",
       "      <th>1</th>\n",
       "      <td>1851</td>\n",
       "      <td>54.221643</td>\n",
       "    </tr>\n",
       "    <tr>\n",
       "      <th>2</th>\n",
       "      <td>1852</td>\n",
       "      <td>56.608683</td>\n",
       "    </tr>\n",
       "    <tr>\n",
       "      <th>3</th>\n",
       "      <td>1853</td>\n",
       "      <td>59.257762</td>\n",
       "    </tr>\n",
       "    <tr>\n",
       "      <th>4</th>\n",
       "      <td>1854</td>\n",
       "      <td>69.605122</td>\n",
       "    </tr>\n",
       "  </tbody>\n",
       "</table>\n",
       "</div>"
      ],
      "text/plain": [
       "   Year  Fuels_Total\n",
       "0  1850    53.698681\n",
       "1  1851    54.221643\n",
       "2  1852    56.608683\n",
       "3  1853    59.257762\n",
       "4  1854    69.605122"
      ]
     },
     "execution_count": 309,
     "metadata": {},
     "output_type": "execute_result"
    }
   ],
   "source": [
    "gco2 = pd.read_csv(\"../data/co2level_rev1.csv\")\n",
    "gco2.head()\n"
   ]
  },
  {
   "cell_type": "code",
   "execution_count": 310,
   "metadata": {},
   "outputs": [
    {
     "name": "stdout",
     "output_type": "stream",
     "text": [
      "<class 'pandas.core.frame.DataFrame'>\n",
      "RangeIndex: 173 entries, 0 to 172\n",
      "Data columns (total 2 columns):\n",
      " #   Column       Non-Null Count  Dtype  \n",
      "---  ------       --------------  -----  \n",
      " 0   Year         173 non-null    int64  \n",
      " 1   Fuels_Total  173 non-null    float64\n",
      "dtypes: float64(1), int64(1)\n",
      "memory usage: 2.8 KB\n"
     ]
    }
   ],
   "source": [
    "gco2.info()"
   ]
  },
  {
   "cell_type": "code",
   "execution_count": 311,
   "metadata": {},
   "outputs": [
    {
     "data": {
      "text/html": [
       "<div>\n",
       "<style scoped>\n",
       "    .dataframe tbody tr th:only-of-type {\n",
       "        vertical-align: middle;\n",
       "    }\n",
       "\n",
       "    .dataframe tbody tr th {\n",
       "        vertical-align: top;\n",
       "    }\n",
       "\n",
       "    .dataframe thead th {\n",
       "        text-align: right;\n",
       "    }\n",
       "</style>\n",
       "<table border=\"1\" class=\"dataframe\">\n",
       "  <thead>\n",
       "    <tr style=\"text-align: right;\">\n",
       "      <th></th>\n",
       "      <th>Year</th>\n",
       "      <th>Fuels_Total</th>\n",
       "    </tr>\n",
       "  </thead>\n",
       "  <tbody>\n",
       "    <tr>\n",
       "      <th>168</th>\n",
       "      <td>2018</td>\n",
       "      <td>10296.184823</td>\n",
       "    </tr>\n",
       "    <tr>\n",
       "      <th>169</th>\n",
       "      <td>2019</td>\n",
       "      <td>10370.928907</td>\n",
       "    </tr>\n",
       "    <tr>\n",
       "      <th>170</th>\n",
       "      <td>2020</td>\n",
       "      <td>9729.682946</td>\n",
       "    </tr>\n",
       "    <tr>\n",
       "      <th>171</th>\n",
       "      <td>2021</td>\n",
       "      <td>10225.016676</td>\n",
       "    </tr>\n",
       "    <tr>\n",
       "      <th>172</th>\n",
       "      <td>2022</td>\n",
       "      <td>10354.961763</td>\n",
       "    </tr>\n",
       "  </tbody>\n",
       "</table>\n",
       "</div>"
      ],
      "text/plain": [
       "     Year   Fuels_Total\n",
       "168  2018  10296.184823\n",
       "169  2019  10370.928907\n",
       "170  2020   9729.682946\n",
       "171  2021  10225.016676\n",
       "172  2022  10354.961763"
      ]
     },
     "execution_count": 311,
     "metadata": {},
     "output_type": "execute_result"
    }
   ],
   "source": [
    "gco2.tail()"
   ]
  },
  {
   "cell_type": "code",
   "execution_count": 312,
   "metadata": {},
   "outputs": [],
   "source": [
    "gco2_30 = gco2[29:]"
   ]
  },
  {
   "cell_type": "code",
   "execution_count": 313,
   "metadata": {},
   "outputs": [
    {
     "data": {
      "text/html": [
       "<div>\n",
       "<style scoped>\n",
       "    .dataframe tbody tr th:only-of-type {\n",
       "        vertical-align: middle;\n",
       "    }\n",
       "\n",
       "    .dataframe tbody tr th {\n",
       "        vertical-align: top;\n",
       "    }\n",
       "\n",
       "    .dataframe thead th {\n",
       "        text-align: right;\n",
       "    }\n",
       "</style>\n",
       "<table border=\"1\" class=\"dataframe\">\n",
       "  <thead>\n",
       "    <tr style=\"text-align: right;\">\n",
       "      <th></th>\n",
       "      <th>Year</th>\n",
       "      <th>Fuels_Total</th>\n",
       "    </tr>\n",
       "  </thead>\n",
       "  <tbody>\n",
       "    <tr>\n",
       "      <th>29</th>\n",
       "      <td>1879</td>\n",
       "      <td>206.329280</td>\n",
       "    </tr>\n",
       "    <tr>\n",
       "      <th>30</th>\n",
       "      <td>1880</td>\n",
       "      <td>233.055789</td>\n",
       "    </tr>\n",
       "    <tr>\n",
       "      <th>31</th>\n",
       "      <td>1881</td>\n",
       "      <td>241.141938</td>\n",
       "    </tr>\n",
       "    <tr>\n",
       "      <th>32</th>\n",
       "      <td>1882</td>\n",
       "      <td>254.738028</td>\n",
       "    </tr>\n",
       "    <tr>\n",
       "      <th>33</th>\n",
       "      <td>1883</td>\n",
       "      <td>270.948036</td>\n",
       "    </tr>\n",
       "  </tbody>\n",
       "</table>\n",
       "</div>"
      ],
      "text/plain": [
       "    Year  Fuels_Total\n",
       "29  1879   206.329280\n",
       "30  1880   233.055789\n",
       "31  1881   241.141938\n",
       "32  1882   254.738028\n",
       "33  1883   270.948036"
      ]
     },
     "execution_count": 313,
     "metadata": {},
     "output_type": "execute_result"
    }
   ],
   "source": [
    "gco2_30.head()"
   ]
  },
  {
   "cell_type": "code",
   "execution_count": 314,
   "metadata": {},
   "outputs": [],
   "source": [
    "new_gco2 = gco2_30['Fuels_Total']"
   ]
  },
  {
   "cell_type": "code",
   "execution_count": 315,
   "metadata": {},
   "outputs": [
    {
     "name": "stdout",
     "output_type": "stream",
     "text": [
      "0        206.329280\n",
      "1        233.055789\n",
      "2        241.141938\n",
      "3        254.738028\n",
      "4        270.948036\n",
      "           ...     \n",
      "139    10296.184823\n",
      "140    10370.928907\n",
      "141     9729.682946\n",
      "142    10225.016676\n",
      "143    10354.961763\n",
      "Name: Fuels_Total, Length: 144, dtype: float64\n"
     ]
    }
   ],
   "source": [
    "# 인덱스 설정\n",
    "new_gco2.index = range(len(new_gco2))\n",
    "\n",
    "print(new_gco2)"
   ]
  },
  {
   "cell_type": "code",
   "execution_count": 316,
   "metadata": {},
   "outputs": [
    {
     "data": {
      "text/html": [
       "<div>\n",
       "<style scoped>\n",
       "    .dataframe tbody tr th:only-of-type {\n",
       "        vertical-align: middle;\n",
       "    }\n",
       "\n",
       "    .dataframe tbody tr th {\n",
       "        vertical-align: top;\n",
       "    }\n",
       "\n",
       "    .dataframe thead th {\n",
       "        text-align: right;\n",
       "    }\n",
       "</style>\n",
       "<table border=\"1\" class=\"dataframe\">\n",
       "  <thead>\n",
       "    <tr style=\"text-align: right;\">\n",
       "      <th></th>\n",
       "      <th>Year</th>\n",
       "      <th>Annual_Mean</th>\n",
       "    </tr>\n",
       "  </thead>\n",
       "  <tbody>\n",
       "    <tr>\n",
       "      <th>0</th>\n",
       "      <td>1880</td>\n",
       "      <td>-0.17</td>\n",
       "    </tr>\n",
       "    <tr>\n",
       "      <th>1</th>\n",
       "      <td>1881</td>\n",
       "      <td>-0.09</td>\n",
       "    </tr>\n",
       "    <tr>\n",
       "      <th>2</th>\n",
       "      <td>1882</td>\n",
       "      <td>-0.11</td>\n",
       "    </tr>\n",
       "    <tr>\n",
       "      <th>3</th>\n",
       "      <td>1883</td>\n",
       "      <td>-0.17</td>\n",
       "    </tr>\n",
       "    <tr>\n",
       "      <th>4</th>\n",
       "      <td>1884</td>\n",
       "      <td>-0.29</td>\n",
       "    </tr>\n",
       "  </tbody>\n",
       "</table>\n",
       "</div>"
      ],
      "text/plain": [
       "   Year  Annual_Mean\n",
       "0  1880        -0.17\n",
       "1  1881        -0.09\n",
       "2  1882        -0.11\n",
       "3  1883        -0.17\n",
       "4  1884        -0.29"
      ]
     },
     "execution_count": 316,
     "metadata": {},
     "output_type": "execute_result"
    }
   ],
   "source": [
    "# 온도 데이터\n",
    "gtemp = pd.read_csv(\"../data/temperature_rev1.csv\")\n",
    "gtemp.head()"
   ]
  },
  {
   "cell_type": "code",
   "execution_count": 317,
   "metadata": {},
   "outputs": [
    {
     "data": {
      "text/html": [
       "<div>\n",
       "<style scoped>\n",
       "    .dataframe tbody tr th:only-of-type {\n",
       "        vertical-align: middle;\n",
       "    }\n",
       "\n",
       "    .dataframe tbody tr th {\n",
       "        vertical-align: top;\n",
       "    }\n",
       "\n",
       "    .dataframe thead th {\n",
       "        text-align: right;\n",
       "    }\n",
       "</style>\n",
       "<table border=\"1\" class=\"dataframe\">\n",
       "  <thead>\n",
       "    <tr style=\"text-align: right;\">\n",
       "      <th></th>\n",
       "      <th>Year</th>\n",
       "      <th>Annual_Mean</th>\n",
       "    </tr>\n",
       "  </thead>\n",
       "  <tbody>\n",
       "    <tr>\n",
       "      <th>139</th>\n",
       "      <td>2019</td>\n",
       "      <td>0.98</td>\n",
       "    </tr>\n",
       "    <tr>\n",
       "      <th>140</th>\n",
       "      <td>2020</td>\n",
       "      <td>1.02</td>\n",
       "    </tr>\n",
       "    <tr>\n",
       "      <th>141</th>\n",
       "      <td>2021</td>\n",
       "      <td>0.85</td>\n",
       "    </tr>\n",
       "    <tr>\n",
       "      <th>142</th>\n",
       "      <td>2022</td>\n",
       "      <td>0.90</td>\n",
       "    </tr>\n",
       "    <tr>\n",
       "      <th>143</th>\n",
       "      <td>2023</td>\n",
       "      <td>1.17</td>\n",
       "    </tr>\n",
       "  </tbody>\n",
       "</table>\n",
       "</div>"
      ],
      "text/plain": [
       "     Year  Annual_Mean\n",
       "139  2019         0.98\n",
       "140  2020         1.02\n",
       "141  2021         0.85\n",
       "142  2022         0.90\n",
       "143  2023         1.17"
      ]
     },
     "execution_count": 317,
     "metadata": {},
     "output_type": "execute_result"
    }
   ],
   "source": [
    "gtemp.tail()"
   ]
  },
  {
   "cell_type": "code",
   "execution_count": 318,
   "metadata": {},
   "outputs": [],
   "source": [
    "seaPro = gtemp"
   ]
  },
  {
   "cell_type": "code",
   "execution_count": 319,
   "metadata": {},
   "outputs": [
    {
     "data": {
      "text/html": [
       "<div>\n",
       "<style scoped>\n",
       "    .dataframe tbody tr th:only-of-type {\n",
       "        vertical-align: middle;\n",
       "    }\n",
       "\n",
       "    .dataframe tbody tr th {\n",
       "        vertical-align: top;\n",
       "    }\n",
       "\n",
       "    .dataframe thead th {\n",
       "        text-align: right;\n",
       "    }\n",
       "</style>\n",
       "<table border=\"1\" class=\"dataframe\">\n",
       "  <thead>\n",
       "    <tr style=\"text-align: right;\">\n",
       "      <th></th>\n",
       "      <th>Year</th>\n",
       "      <th>Annual_Mean</th>\n",
       "    </tr>\n",
       "  </thead>\n",
       "  <tbody>\n",
       "    <tr>\n",
       "      <th>0</th>\n",
       "      <td>1880</td>\n",
       "      <td>-0.17</td>\n",
       "    </tr>\n",
       "    <tr>\n",
       "      <th>1</th>\n",
       "      <td>1881</td>\n",
       "      <td>-0.09</td>\n",
       "    </tr>\n",
       "    <tr>\n",
       "      <th>2</th>\n",
       "      <td>1882</td>\n",
       "      <td>-0.11</td>\n",
       "    </tr>\n",
       "    <tr>\n",
       "      <th>3</th>\n",
       "      <td>1883</td>\n",
       "      <td>-0.17</td>\n",
       "    </tr>\n",
       "    <tr>\n",
       "      <th>4</th>\n",
       "      <td>1884</td>\n",
       "      <td>-0.29</td>\n",
       "    </tr>\n",
       "  </tbody>\n",
       "</table>\n",
       "</div>"
      ],
      "text/plain": [
       "   Year  Annual_Mean\n",
       "0  1880        -0.17\n",
       "1  1881        -0.09\n",
       "2  1882        -0.11\n",
       "3  1883        -0.17\n",
       "4  1884        -0.29"
      ]
     },
     "execution_count": 319,
     "metadata": {},
     "output_type": "execute_result"
    }
   ],
   "source": [
    "seaPro.head()"
   ]
  },
  {
   "cell_type": "code",
   "execution_count": 320,
   "metadata": {},
   "outputs": [],
   "source": [
    "seaPro['Fuels'] = new_gco2"
   ]
  },
  {
   "cell_type": "code",
   "execution_count": 323,
   "metadata": {},
   "outputs": [
    {
     "data": {
      "text/html": [
       "<div>\n",
       "<style scoped>\n",
       "    .dataframe tbody tr th:only-of-type {\n",
       "        vertical-align: middle;\n",
       "    }\n",
       "\n",
       "    .dataframe tbody tr th {\n",
       "        vertical-align: top;\n",
       "    }\n",
       "\n",
       "    .dataframe thead th {\n",
       "        text-align: right;\n",
       "    }\n",
       "</style>\n",
       "<table border=\"1\" class=\"dataframe\">\n",
       "  <thead>\n",
       "    <tr style=\"text-align: right;\">\n",
       "      <th></th>\n",
       "      <th>Year</th>\n",
       "      <th>Annual_Mean</th>\n",
       "      <th>Fuels</th>\n",
       "    </tr>\n",
       "  </thead>\n",
       "  <tbody>\n",
       "    <tr>\n",
       "      <th>0</th>\n",
       "      <td>1880</td>\n",
       "      <td>-0.17</td>\n",
       "      <td>206.329280</td>\n",
       "    </tr>\n",
       "    <tr>\n",
       "      <th>1</th>\n",
       "      <td>1881</td>\n",
       "      <td>-0.09</td>\n",
       "      <td>233.055789</td>\n",
       "    </tr>\n",
       "    <tr>\n",
       "      <th>2</th>\n",
       "      <td>1882</td>\n",
       "      <td>-0.11</td>\n",
       "      <td>241.141938</td>\n",
       "    </tr>\n",
       "    <tr>\n",
       "      <th>3</th>\n",
       "      <td>1883</td>\n",
       "      <td>-0.17</td>\n",
       "      <td>254.738028</td>\n",
       "    </tr>\n",
       "    <tr>\n",
       "      <th>4</th>\n",
       "      <td>1884</td>\n",
       "      <td>-0.29</td>\n",
       "      <td>270.948036</td>\n",
       "    </tr>\n",
       "  </tbody>\n",
       "</table>\n",
       "</div>"
      ],
      "text/plain": [
       "   Year  Annual_Mean       Fuels\n",
       "0  1880        -0.17  206.329280\n",
       "1  1881        -0.09  233.055789\n",
       "2  1882        -0.11  241.141938\n",
       "3  1883        -0.17  254.738028\n",
       "4  1884        -0.29  270.948036"
      ]
     },
     "execution_count": 323,
     "metadata": {},
     "output_type": "execute_result"
    }
   ],
   "source": [
    "seaPro.head()"
   ]
  },
  {
   "cell_type": "code",
   "execution_count": 324,
   "metadata": {},
   "outputs": [
    {
     "data": {
      "text/html": [
       "<div>\n",
       "<style scoped>\n",
       "    .dataframe tbody tr th:only-of-type {\n",
       "        vertical-align: middle;\n",
       "    }\n",
       "\n",
       "    .dataframe tbody tr th {\n",
       "        vertical-align: top;\n",
       "    }\n",
       "\n",
       "    .dataframe thead th {\n",
       "        text-align: right;\n",
       "    }\n",
       "</style>\n",
       "<table border=\"1\" class=\"dataframe\">\n",
       "  <thead>\n",
       "    <tr style=\"text-align: right;\">\n",
       "      <th></th>\n",
       "      <th>Year</th>\n",
       "      <th>Annual_Mean</th>\n",
       "      <th>Fuels</th>\n",
       "    </tr>\n",
       "  </thead>\n",
       "  <tbody>\n",
       "    <tr>\n",
       "      <th>139</th>\n",
       "      <td>2019</td>\n",
       "      <td>0.98</td>\n",
       "      <td>10296.184823</td>\n",
       "    </tr>\n",
       "    <tr>\n",
       "      <th>140</th>\n",
       "      <td>2020</td>\n",
       "      <td>1.02</td>\n",
       "      <td>10370.928907</td>\n",
       "    </tr>\n",
       "    <tr>\n",
       "      <th>141</th>\n",
       "      <td>2021</td>\n",
       "      <td>0.85</td>\n",
       "      <td>9729.682946</td>\n",
       "    </tr>\n",
       "    <tr>\n",
       "      <th>142</th>\n",
       "      <td>2022</td>\n",
       "      <td>0.90</td>\n",
       "      <td>10225.016676</td>\n",
       "    </tr>\n",
       "    <tr>\n",
       "      <th>143</th>\n",
       "      <td>2023</td>\n",
       "      <td>1.17</td>\n",
       "      <td>10354.961763</td>\n",
       "    </tr>\n",
       "  </tbody>\n",
       "</table>\n",
       "</div>"
      ],
      "text/plain": [
       "     Year  Annual_Mean         Fuels\n",
       "139  2019         0.98  10296.184823\n",
       "140  2020         1.02  10370.928907\n",
       "141  2021         0.85   9729.682946\n",
       "142  2022         0.90  10225.016676\n",
       "143  2023         1.17  10354.961763"
      ]
     },
     "execution_count": 324,
     "metadata": {},
     "output_type": "execute_result"
    }
   ],
   "source": [
    "seaPro.tail()"
   ]
  },
  {
   "cell_type": "code",
   "execution_count": 325,
   "metadata": {},
   "outputs": [
    {
     "name": "stdout",
     "output_type": "stream",
     "text": [
      "<class 'pandas.core.frame.DataFrame'>\n",
      "RangeIndex: 144 entries, 0 to 143\n",
      "Data columns (total 3 columns):\n",
      " #   Column       Non-Null Count  Dtype  \n",
      "---  ------       --------------  -----  \n",
      " 0   Year         144 non-null    int64  \n",
      " 1   Annual_Mean  144 non-null    float64\n",
      " 2   Fuels        144 non-null    float64\n",
      "dtypes: float64(2), int64(1)\n",
      "memory usage: 3.5 KB\n"
     ]
    }
   ],
   "source": [
    "seaPro.info()"
   ]
  },
  {
   "cell_type": "code",
   "execution_count": 326,
   "metadata": {},
   "outputs": [
    {
     "data": {
      "text/html": [
       "<div>\n",
       "<style scoped>\n",
       "    .dataframe tbody tr th:only-of-type {\n",
       "        vertical-align: middle;\n",
       "    }\n",
       "\n",
       "    .dataframe tbody tr th {\n",
       "        vertical-align: top;\n",
       "    }\n",
       "\n",
       "    .dataframe thead th {\n",
       "        text-align: right;\n",
       "    }\n",
       "</style>\n",
       "<table border=\"1\" class=\"dataframe\">\n",
       "  <thead>\n",
       "    <tr style=\"text-align: right;\">\n",
       "      <th></th>\n",
       "      <th>year</th>\n",
       "      <th>date</th>\n",
       "      <th>mmfrom1993-2008average</th>\n",
       "    </tr>\n",
       "  </thead>\n",
       "  <tbody>\n",
       "    <tr>\n",
       "      <th>0</th>\n",
       "      <td>1880</td>\n",
       "      <td>07/15/1880</td>\n",
       "      <td>-183.247396</td>\n",
       "    </tr>\n",
       "    <tr>\n",
       "      <th>1</th>\n",
       "      <td>1881</td>\n",
       "      <td>07/15/1881</td>\n",
       "      <td>-174.014062</td>\n",
       "    </tr>\n",
       "    <tr>\n",
       "      <th>2</th>\n",
       "      <td>1882</td>\n",
       "      <td>07/15/1882</td>\n",
       "      <td>-190.080729</td>\n",
       "    </tr>\n",
       "    <tr>\n",
       "      <th>3</th>\n",
       "      <td>1883</td>\n",
       "      <td>07/15/1883</td>\n",
       "      <td>-185.147396</td>\n",
       "    </tr>\n",
       "    <tr>\n",
       "      <th>4</th>\n",
       "      <td>1884</td>\n",
       "      <td>07/15/1884</td>\n",
       "      <td>-166.280729</td>\n",
       "    </tr>\n",
       "  </tbody>\n",
       "</table>\n",
       "</div>"
      ],
      "text/plain": [
       "   year        date  mmfrom1993-2008average\n",
       "0  1880  07/15/1880             -183.247396\n",
       "1  1881  07/15/1881             -174.014062\n",
       "2  1882  07/15/1882             -190.080729\n",
       "3  1883  07/15/1883             -185.147396\n",
       "4  1884  07/15/1884             -166.280729"
      ]
     },
     "execution_count": 326,
     "metadata": {},
     "output_type": "execute_result"
    }
   ],
   "source": [
    "# SeaLevel\n",
    "\n",
    "seaL3 = pd.read_csv(\"../data/Global_sea_level_rise.csv\")\n",
    "seaL3.head()\n"
   ]
  },
  {
   "cell_type": "code",
   "execution_count": 327,
   "metadata": {},
   "outputs": [
    {
     "data": {
      "text/html": [
       "<div>\n",
       "<style scoped>\n",
       "    .dataframe tbody tr th:only-of-type {\n",
       "        vertical-align: middle;\n",
       "    }\n",
       "\n",
       "    .dataframe tbody tr th {\n",
       "        vertical-align: top;\n",
       "    }\n",
       "\n",
       "    .dataframe thead th {\n",
       "        text-align: right;\n",
       "    }\n",
       "</style>\n",
       "<table border=\"1\" class=\"dataframe\">\n",
       "  <thead>\n",
       "    <tr style=\"text-align: right;\">\n",
       "      <th></th>\n",
       "      <th>year</th>\n",
       "      <th>date</th>\n",
       "      <th>mmfrom1993-2008average</th>\n",
       "    </tr>\n",
       "  </thead>\n",
       "  <tbody>\n",
       "    <tr>\n",
       "      <th>138</th>\n",
       "      <td>2018</td>\n",
       "      <td>7/15/2018</td>\n",
       "      <td>53.085122</td>\n",
       "    </tr>\n",
       "    <tr>\n",
       "      <th>139</th>\n",
       "      <td>2019</td>\n",
       "      <td>7/15/2019</td>\n",
       "      <td>61.393713</td>\n",
       "    </tr>\n",
       "    <tr>\n",
       "      <th>140</th>\n",
       "      <td>2020</td>\n",
       "      <td>7/15/2020</td>\n",
       "      <td>66.704325</td>\n",
       "    </tr>\n",
       "    <tr>\n",
       "      <th>141</th>\n",
       "      <td>2021</td>\n",
       "      <td>7/15/2021</td>\n",
       "      <td>63.290000</td>\n",
       "    </tr>\n",
       "    <tr>\n",
       "      <th>142</th>\n",
       "      <td>2022</td>\n",
       "      <td>7/15/2022</td>\n",
       "      <td>69.660000</td>\n",
       "    </tr>\n",
       "  </tbody>\n",
       "</table>\n",
       "</div>"
      ],
      "text/plain": [
       "     year       date  mmfrom1993-2008average\n",
       "138  2018  7/15/2018               53.085122\n",
       "139  2019  7/15/2019               61.393713\n",
       "140  2020  7/15/2020               66.704325\n",
       "141  2021  7/15/2021               63.290000\n",
       "142  2022  7/15/2022               69.660000"
      ]
     },
     "execution_count": 327,
     "metadata": {},
     "output_type": "execute_result"
    }
   ],
   "source": [
    "seaL3.tail()"
   ]
  },
  {
   "cell_type": "code",
   "execution_count": 329,
   "metadata": {},
   "outputs": [
    {
     "name": "stdout",
     "output_type": "stream",
     "text": [
      "<class 'pandas.core.frame.DataFrame'>\n",
      "RangeIndex: 143 entries, 0 to 142\n",
      "Data columns (total 3 columns):\n",
      " #   Column                  Non-Null Count  Dtype  \n",
      "---  ------                  --------------  -----  \n",
      " 0   year                    143 non-null    int64  \n",
      " 1   date                    143 non-null    object \n",
      " 2   mmfrom1993-2008average  143 non-null    float64\n",
      "dtypes: float64(1), int64(1), object(1)\n",
      "memory usage: 3.5+ KB\n"
     ]
    }
   ],
   "source": [
    "seaL3.info()"
   ]
  },
  {
   "cell_type": "code",
   "execution_count": 331,
   "metadata": {},
   "outputs": [],
   "source": [
    "seaPro['Sealevel'] = seaL3['mmfrom1993-2008average']"
   ]
  },
  {
   "cell_type": "code",
   "execution_count": 332,
   "metadata": {},
   "outputs": [
    {
     "data": {
      "text/html": [
       "<div>\n",
       "<style scoped>\n",
       "    .dataframe tbody tr th:only-of-type {\n",
       "        vertical-align: middle;\n",
       "    }\n",
       "\n",
       "    .dataframe tbody tr th {\n",
       "        vertical-align: top;\n",
       "    }\n",
       "\n",
       "    .dataframe thead th {\n",
       "        text-align: right;\n",
       "    }\n",
       "</style>\n",
       "<table border=\"1\" class=\"dataframe\">\n",
       "  <thead>\n",
       "    <tr style=\"text-align: right;\">\n",
       "      <th></th>\n",
       "      <th>Year</th>\n",
       "      <th>Annual_Mean</th>\n",
       "      <th>Fuels</th>\n",
       "      <th>Sealevel</th>\n",
       "    </tr>\n",
       "  </thead>\n",
       "  <tbody>\n",
       "    <tr>\n",
       "      <th>0</th>\n",
       "      <td>1880</td>\n",
       "      <td>-0.17</td>\n",
       "      <td>206.329280</td>\n",
       "      <td>-183.247396</td>\n",
       "    </tr>\n",
       "    <tr>\n",
       "      <th>1</th>\n",
       "      <td>1881</td>\n",
       "      <td>-0.09</td>\n",
       "      <td>233.055789</td>\n",
       "      <td>-174.014062</td>\n",
       "    </tr>\n",
       "    <tr>\n",
       "      <th>2</th>\n",
       "      <td>1882</td>\n",
       "      <td>-0.11</td>\n",
       "      <td>241.141938</td>\n",
       "      <td>-190.080729</td>\n",
       "    </tr>\n",
       "    <tr>\n",
       "      <th>3</th>\n",
       "      <td>1883</td>\n",
       "      <td>-0.17</td>\n",
       "      <td>254.738028</td>\n",
       "      <td>-185.147396</td>\n",
       "    </tr>\n",
       "    <tr>\n",
       "      <th>4</th>\n",
       "      <td>1884</td>\n",
       "      <td>-0.29</td>\n",
       "      <td>270.948036</td>\n",
       "      <td>-166.280729</td>\n",
       "    </tr>\n",
       "  </tbody>\n",
       "</table>\n",
       "</div>"
      ],
      "text/plain": [
       "   Year  Annual_Mean       Fuels    Sealevel\n",
       "0  1880        -0.17  206.329280 -183.247396\n",
       "1  1881        -0.09  233.055789 -174.014062\n",
       "2  1882        -0.11  241.141938 -190.080729\n",
       "3  1883        -0.17  254.738028 -185.147396\n",
       "4  1884        -0.29  270.948036 -166.280729"
      ]
     },
     "execution_count": 332,
     "metadata": {},
     "output_type": "execute_result"
    }
   ],
   "source": [
    "seaPro.head()"
   ]
  },
  {
   "cell_type": "code",
   "execution_count": 333,
   "metadata": {},
   "outputs": [
    {
     "data": {
      "text/html": [
       "<div>\n",
       "<style scoped>\n",
       "    .dataframe tbody tr th:only-of-type {\n",
       "        vertical-align: middle;\n",
       "    }\n",
       "\n",
       "    .dataframe tbody tr th {\n",
       "        vertical-align: top;\n",
       "    }\n",
       "\n",
       "    .dataframe thead th {\n",
       "        text-align: right;\n",
       "    }\n",
       "</style>\n",
       "<table border=\"1\" class=\"dataframe\">\n",
       "  <thead>\n",
       "    <tr style=\"text-align: right;\">\n",
       "      <th></th>\n",
       "      <th>Year</th>\n",
       "      <th>Annual_Mean</th>\n",
       "      <th>Fuels</th>\n",
       "      <th>Sealevel</th>\n",
       "    </tr>\n",
       "  </thead>\n",
       "  <tbody>\n",
       "    <tr>\n",
       "      <th>139</th>\n",
       "      <td>2019</td>\n",
       "      <td>0.98</td>\n",
       "      <td>10296.184823</td>\n",
       "      <td>61.393713</td>\n",
       "    </tr>\n",
       "    <tr>\n",
       "      <th>140</th>\n",
       "      <td>2020</td>\n",
       "      <td>1.02</td>\n",
       "      <td>10370.928907</td>\n",
       "      <td>66.704325</td>\n",
       "    </tr>\n",
       "    <tr>\n",
       "      <th>141</th>\n",
       "      <td>2021</td>\n",
       "      <td>0.85</td>\n",
       "      <td>9729.682946</td>\n",
       "      <td>63.290000</td>\n",
       "    </tr>\n",
       "    <tr>\n",
       "      <th>142</th>\n",
       "      <td>2022</td>\n",
       "      <td>0.90</td>\n",
       "      <td>10225.016676</td>\n",
       "      <td>69.660000</td>\n",
       "    </tr>\n",
       "    <tr>\n",
       "      <th>143</th>\n",
       "      <td>2023</td>\n",
       "      <td>1.17</td>\n",
       "      <td>10354.961763</td>\n",
       "      <td>NaN</td>\n",
       "    </tr>\n",
       "  </tbody>\n",
       "</table>\n",
       "</div>"
      ],
      "text/plain": [
       "     Year  Annual_Mean         Fuels   Sealevel\n",
       "139  2019         0.98  10296.184823  61.393713\n",
       "140  2020         1.02  10370.928907  66.704325\n",
       "141  2021         0.85   9729.682946  63.290000\n",
       "142  2022         0.90  10225.016676  69.660000\n",
       "143  2023         1.17  10354.961763        NaN"
      ]
     },
     "execution_count": 333,
     "metadata": {},
     "output_type": "execute_result"
    }
   ],
   "source": [
    "seaPro.tail()"
   ]
  },
  {
   "cell_type": "code",
   "execution_count": 334,
   "metadata": {},
   "outputs": [
    {
     "name": "stderr",
     "output_type": "stream",
     "text": [
      "/var/folders/bd/wnl67tc977gbyph9dp_355vr0000gn/T/ipykernel_4937/1616384513.py:3: FutureWarning: Setting an item of incompatible dtype is deprecated and will raise in a future error of pandas. Value '73.06' has dtype incompatible with float64, please explicitly cast to a compatible dtype first.\n",
      "  seaPro.Sealevel.fillna('73.06', inplace=True)\n"
     ]
    }
   ],
   "source": [
    "seaPro['Sealevel']\n",
    "\n",
    "seaPro.Sealevel.fillna('73.06', inplace=True)"
   ]
  },
  {
   "cell_type": "code",
   "execution_count": 426,
   "metadata": {},
   "outputs": [
    {
     "data": {
      "text/html": [
       "<div>\n",
       "<style scoped>\n",
       "    .dataframe tbody tr th:only-of-type {\n",
       "        vertical-align: middle;\n",
       "    }\n",
       "\n",
       "    .dataframe tbody tr th {\n",
       "        vertical-align: top;\n",
       "    }\n",
       "\n",
       "    .dataframe thead th {\n",
       "        text-align: right;\n",
       "    }\n",
       "</style>\n",
       "<table border=\"1\" class=\"dataframe\">\n",
       "  <thead>\n",
       "    <tr style=\"text-align: right;\">\n",
       "      <th></th>\n",
       "      <th>Year</th>\n",
       "      <th>Temp</th>\n",
       "      <th>CO2</th>\n",
       "      <th>SeaLevel</th>\n",
       "    </tr>\n",
       "  </thead>\n",
       "  <tbody>\n",
       "    <tr>\n",
       "      <th>0</th>\n",
       "      <td>1880</td>\n",
       "      <td>-0.17</td>\n",
       "      <td>206.329280</td>\n",
       "      <td>-183.247396</td>\n",
       "    </tr>\n",
       "    <tr>\n",
       "      <th>1</th>\n",
       "      <td>1881</td>\n",
       "      <td>-0.09</td>\n",
       "      <td>233.055789</td>\n",
       "      <td>-174.014062</td>\n",
       "    </tr>\n",
       "    <tr>\n",
       "      <th>2</th>\n",
       "      <td>1882</td>\n",
       "      <td>-0.11</td>\n",
       "      <td>241.141938</td>\n",
       "      <td>-190.080729</td>\n",
       "    </tr>\n",
       "    <tr>\n",
       "      <th>3</th>\n",
       "      <td>1883</td>\n",
       "      <td>-0.17</td>\n",
       "      <td>254.738028</td>\n",
       "      <td>-185.147396</td>\n",
       "    </tr>\n",
       "    <tr>\n",
       "      <th>4</th>\n",
       "      <td>1884</td>\n",
       "      <td>-0.29</td>\n",
       "      <td>270.948036</td>\n",
       "      <td>-166.280729</td>\n",
       "    </tr>\n",
       "  </tbody>\n",
       "</table>\n",
       "</div>"
      ],
      "text/plain": [
       "   Year  Temp         CO2    SeaLevel\n",
       "0  1880 -0.17  206.329280 -183.247396\n",
       "1  1881 -0.09  233.055789 -174.014062\n",
       "2  1882 -0.11  241.141938 -190.080729\n",
       "3  1883 -0.17  254.738028 -185.147396\n",
       "4  1884 -0.29  270.948036 -166.280729"
      ]
     },
     "execution_count": 426,
     "metadata": {},
     "output_type": "execute_result"
    }
   ],
   "source": [
    "seaPro.head()"
   ]
  },
  {
   "cell_type": "code",
   "execution_count": 336,
   "metadata": {},
   "outputs": [],
   "source": [
    "# project_data.csv 로 저정하기\n",
    "\n",
    "seaPro.to_csv(\"../data/project_data.csv\")"
   ]
  },
  {
   "cell_type": "code",
   "execution_count": 359,
   "metadata": {},
   "outputs": [
    {
     "name": "stdout",
     "output_type": "stream",
     "text": [
      "<class 'pandas.core.frame.DataFrame'>\n",
      "RangeIndex: 144 entries, 0 to 143\n",
      "Data columns (total 4 columns):\n",
      " #   Column       Non-Null Count  Dtype  \n",
      "---  ------       --------------  -----  \n",
      " 0   Year         144 non-null    int64  \n",
      " 1   Annual_Mean  144 non-null    float64\n",
      " 2   Fuels        144 non-null    float64\n",
      " 3   Sealevel     144 non-null    object \n",
      "dtypes: float64(2), int64(1), object(1)\n",
      "memory usage: 4.6+ KB\n"
     ]
    }
   ],
   "source": [
    "seaPro.info()"
   ]
  },
  {
   "cell_type": "code",
   "execution_count": 360,
   "metadata": {},
   "outputs": [
    {
     "name": "stdout",
     "output_type": "stream",
     "text": [
      "<class 'pandas.core.frame.DataFrame'>\n",
      "RangeIndex: 144 entries, 0 to 143\n",
      "Data columns (total 4 columns):\n",
      " #   Column       Non-Null Count  Dtype  \n",
      "---  ------       --------------  -----  \n",
      " 0   Year         144 non-null    int64  \n",
      " 1   Annual_Mean  144 non-null    float64\n",
      " 2   Fuels        144 non-null    float64\n",
      " 3   Sealevel     144 non-null    float64\n",
      "dtypes: float64(3), int64(1)\n",
      "memory usage: 4.6 KB\n"
     ]
    }
   ],
   "source": [
    "# 문자형을 실수형으로 변환\n",
    "seaPro.Sealevel = seaPro.Sealevel.astype('float')\n",
    "seaPro.info()"
   ]
  },
  {
   "cell_type": "code",
   "execution_count": 361,
   "metadata": {},
   "outputs": [
    {
     "data": {
      "text/html": [
       "<div>\n",
       "<style scoped>\n",
       "    .dataframe tbody tr th:only-of-type {\n",
       "        vertical-align: middle;\n",
       "    }\n",
       "\n",
       "    .dataframe tbody tr th {\n",
       "        vertical-align: top;\n",
       "    }\n",
       "\n",
       "    .dataframe thead th {\n",
       "        text-align: right;\n",
       "    }\n",
       "</style>\n",
       "<table border=\"1\" class=\"dataframe\">\n",
       "  <thead>\n",
       "    <tr style=\"text-align: right;\">\n",
       "      <th></th>\n",
       "      <th>Year</th>\n",
       "      <th>Annual_Mean</th>\n",
       "      <th>Fuels</th>\n",
       "      <th>Sealevel</th>\n",
       "    </tr>\n",
       "  </thead>\n",
       "  <tbody>\n",
       "    <tr>\n",
       "      <th>count</th>\n",
       "      <td>144.000000</td>\n",
       "      <td>144.000000</td>\n",
       "      <td>144.000000</td>\n",
       "      <td>144.000000</td>\n",
       "    </tr>\n",
       "    <tr>\n",
       "      <th>mean</th>\n",
       "      <td>1951.500000</td>\n",
       "      <td>0.067847</td>\n",
       "      <td>3392.444251</td>\n",
       "      <td>-78.668780</td>\n",
       "    </tr>\n",
       "    <tr>\n",
       "      <th>std</th>\n",
       "      <td>41.713307</td>\n",
       "      <td>0.380111</td>\n",
       "      <td>3201.389319</td>\n",
       "      <td>70.811543</td>\n",
       "    </tr>\n",
       "    <tr>\n",
       "      <th>min</th>\n",
       "      <td>1880.000000</td>\n",
       "      <td>-0.480000</td>\n",
       "      <td>206.329280</td>\n",
       "      <td>-190.080729</td>\n",
       "    </tr>\n",
       "    <tr>\n",
       "      <th>25%</th>\n",
       "      <td>1915.750000</td>\n",
       "      <td>-0.200000</td>\n",
       "      <td>863.052781</td>\n",
       "      <td>-138.372396</td>\n",
       "    </tr>\n",
       "    <tr>\n",
       "      <th>50%</th>\n",
       "      <td>1951.500000</td>\n",
       "      <td>-0.045000</td>\n",
       "      <td>1716.952714</td>\n",
       "      <td>-87.080729</td>\n",
       "    </tr>\n",
       "    <tr>\n",
       "      <th>75%</th>\n",
       "      <td>1987.250000</td>\n",
       "      <td>0.280000</td>\n",
       "      <td>5767.043979</td>\n",
       "      <td>-24.572396</td>\n",
       "    </tr>\n",
       "    <tr>\n",
       "      <th>max</th>\n",
       "      <td>2023.000000</td>\n",
       "      <td>1.170000</td>\n",
       "      <td>10370.928907</td>\n",
       "      <td>73.060000</td>\n",
       "    </tr>\n",
       "  </tbody>\n",
       "</table>\n",
       "</div>"
      ],
      "text/plain": [
       "              Year  Annual_Mean         Fuels    Sealevel\n",
       "count   144.000000   144.000000    144.000000  144.000000\n",
       "mean   1951.500000     0.067847   3392.444251  -78.668780\n",
       "std      41.713307     0.380111   3201.389319   70.811543\n",
       "min    1880.000000    -0.480000    206.329280 -190.080729\n",
       "25%    1915.750000    -0.200000    863.052781 -138.372396\n",
       "50%    1951.500000    -0.045000   1716.952714  -87.080729\n",
       "75%    1987.250000     0.280000   5767.043979  -24.572396\n",
       "max    2023.000000     1.170000  10370.928907   73.060000"
      ]
     },
     "execution_count": 361,
     "metadata": {},
     "output_type": "execute_result"
    }
   ],
   "source": [
    "seaPro.describe()"
   ]
  },
  {
   "cell_type": "code",
   "execution_count": 362,
   "metadata": {},
   "outputs": [
    {
     "data": {
      "text/html": [
       "<div>\n",
       "<style scoped>\n",
       "    .dataframe tbody tr th:only-of-type {\n",
       "        vertical-align: middle;\n",
       "    }\n",
       "\n",
       "    .dataframe tbody tr th {\n",
       "        vertical-align: top;\n",
       "    }\n",
       "\n",
       "    .dataframe thead th {\n",
       "        text-align: right;\n",
       "    }\n",
       "</style>\n",
       "<table border=\"1\" class=\"dataframe\">\n",
       "  <thead>\n",
       "    <tr style=\"text-align: right;\">\n",
       "      <th></th>\n",
       "      <th>Year</th>\n",
       "      <th>Annual_Mean</th>\n",
       "      <th>Fuels</th>\n",
       "      <th>Sealevel</th>\n",
       "    </tr>\n",
       "  </thead>\n",
       "  <tbody>\n",
       "    <tr>\n",
       "      <th>Year</th>\n",
       "      <td>1.000000</td>\n",
       "      <td>0.874296</td>\n",
       "      <td>0.933667</td>\n",
       "      <td>0.982055</td>\n",
       "    </tr>\n",
       "    <tr>\n",
       "      <th>Annual_Mean</th>\n",
       "      <td>0.874296</td>\n",
       "      <td>1.000000</td>\n",
       "      <td>0.934856</td>\n",
       "      <td>0.919867</td>\n",
       "    </tr>\n",
       "    <tr>\n",
       "      <th>Fuels</th>\n",
       "      <td>0.933667</td>\n",
       "      <td>0.934856</td>\n",
       "      <td>1.000000</td>\n",
       "      <td>0.972961</td>\n",
       "    </tr>\n",
       "    <tr>\n",
       "      <th>Sealevel</th>\n",
       "      <td>0.982055</td>\n",
       "      <td>0.919867</td>\n",
       "      <td>0.972961</td>\n",
       "      <td>1.000000</td>\n",
       "    </tr>\n",
       "  </tbody>\n",
       "</table>\n",
       "</div>"
      ],
      "text/plain": [
       "                 Year  Annual_Mean     Fuels  Sealevel\n",
       "Year         1.000000     0.874296  0.933667  0.982055\n",
       "Annual_Mean  0.874296     1.000000  0.934856  0.919867\n",
       "Fuels        0.933667     0.934856  1.000000  0.972961\n",
       "Sealevel     0.982055     0.919867  0.972961  1.000000"
      ]
     },
     "execution_count": 362,
     "metadata": {},
     "output_type": "execute_result"
    }
   ],
   "source": [
    "seaPro.corr()"
   ]
  },
  {
   "cell_type": "code",
   "execution_count": 363,
   "metadata": {},
   "outputs": [],
   "source": [
    "seaPro.rename(\n",
    "    columns={'Year':'Year','Annual_Mean':'Temp','Fuels':'CO2','Sealevel':'SeaLevel'},\n",
    "    inplace=True\n",
    ")"
   ]
  },
  {
   "cell_type": "code",
   "execution_count": 364,
   "metadata": {},
   "outputs": [
    {
     "data": {
      "text/html": [
       "<div>\n",
       "<style scoped>\n",
       "    .dataframe tbody tr th:only-of-type {\n",
       "        vertical-align: middle;\n",
       "    }\n",
       "\n",
       "    .dataframe tbody tr th {\n",
       "        vertical-align: top;\n",
       "    }\n",
       "\n",
       "    .dataframe thead th {\n",
       "        text-align: right;\n",
       "    }\n",
       "</style>\n",
       "<table border=\"1\" class=\"dataframe\">\n",
       "  <thead>\n",
       "    <tr style=\"text-align: right;\">\n",
       "      <th></th>\n",
       "      <th>Year</th>\n",
       "      <th>Temp</th>\n",
       "      <th>CO2</th>\n",
       "      <th>SeaLevel</th>\n",
       "    </tr>\n",
       "  </thead>\n",
       "  <tbody>\n",
       "    <tr>\n",
       "      <th>0</th>\n",
       "      <td>1880</td>\n",
       "      <td>-0.17</td>\n",
       "      <td>206.329280</td>\n",
       "      <td>-183.247396</td>\n",
       "    </tr>\n",
       "    <tr>\n",
       "      <th>1</th>\n",
       "      <td>1881</td>\n",
       "      <td>-0.09</td>\n",
       "      <td>233.055789</td>\n",
       "      <td>-174.014062</td>\n",
       "    </tr>\n",
       "    <tr>\n",
       "      <th>2</th>\n",
       "      <td>1882</td>\n",
       "      <td>-0.11</td>\n",
       "      <td>241.141938</td>\n",
       "      <td>-190.080729</td>\n",
       "    </tr>\n",
       "    <tr>\n",
       "      <th>3</th>\n",
       "      <td>1883</td>\n",
       "      <td>-0.17</td>\n",
       "      <td>254.738028</td>\n",
       "      <td>-185.147396</td>\n",
       "    </tr>\n",
       "    <tr>\n",
       "      <th>4</th>\n",
       "      <td>1884</td>\n",
       "      <td>-0.29</td>\n",
       "      <td>270.948036</td>\n",
       "      <td>-166.280729</td>\n",
       "    </tr>\n",
       "  </tbody>\n",
       "</table>\n",
       "</div>"
      ],
      "text/plain": [
       "   Year  Temp         CO2    SeaLevel\n",
       "0  1880 -0.17  206.329280 -183.247396\n",
       "1  1881 -0.09  233.055789 -174.014062\n",
       "2  1882 -0.11  241.141938 -190.080729\n",
       "3  1883 -0.17  254.738028 -185.147396\n",
       "4  1884 -0.29  270.948036 -166.280729"
      ]
     },
     "execution_count": 364,
     "metadata": {},
     "output_type": "execute_result"
    }
   ],
   "source": [
    "seaPro.head()"
   ]
  },
  {
   "cell_type": "code",
   "execution_count": 429,
   "metadata": {},
   "outputs": [],
   "source": [
    "# 한글 폰트 문제 해결 \n",
    "# matplotlib은 한글 폰트를 지원하지 않음\n",
    "# os정보\n",
    "import platform\n",
    "\n",
    "# font_manager : 폰트 관리 모듈\n",
    "# rc : 폰트 변경 모듈\n",
    "from matplotlib import font_manager, rc\n",
    "\n",
    "# 시각화 도구\n",
    "# import matplotlib.pyplot as plt\n",
    "# unicode 설정\n",
    "plt.rcParams['axes.unicode_minus'] = False\n",
    "\n",
    "if platform.system() == 'Darwin':\n",
    "    rc('font', family='AppleGothic') # os가 macos\n",
    "elif platform.system() == 'Windows':\n",
    "    path = 'c:/Windows/Fonts/malgun.ttf' # os가 windows\n",
    "    font_name = font_manager.FontProperties(fname=path).get_name()\n",
    "    rc('font', family=font_name)\n",
    "else:\n",
    "    print(\"Unknown System\")"
   ]
  },
  {
   "cell_type": "markdown",
   "metadata": {},
   "source": [
    "> KNN regration   \n",
    "이산화 탄소를 바탕으로 해수면 예측   \n",
    "평균 온도를 바탕으로 해수면 예측"
   ]
  },
  {
   "cell_type": "code",
   "execution_count": 430,
   "metadata": {},
   "outputs": [],
   "source": [
    "import warnings\n",
    "warnings.filterwarnings('ignore')"
   ]
  },
  {
   "cell_type": "code",
   "execution_count": 365,
   "metadata": {},
   "outputs": [],
   "source": [
    "import numpy as np\n",
    "import matplotlib.pyplot as plt"
   ]
  },
  {
   "cell_type": "markdown",
   "metadata": {},
   "source": [
    "> 이산화탄소(x)로 해수면(y) 예측"
   ]
  },
  {
   "cell_type": "code",
   "execution_count": 462,
   "metadata": {},
   "outputs": [
    {
     "data": {
      "image/png": "[encoded data removed]",
      "text/plain": [
       "<Figure size 1000x500 with 1 Axes>"
      ]
     },
     "metadata": {},
     "output_type": "display_data"
    }
   ],
   "source": [
    "plt.figure(figsize=(10,5))\n",
    "plt.scatter(seaPro['CO2'], seaPro['SeaLevel'])\n",
    "plt.xlabel('CO2(Mt C/Year)')\n",
    "plt.ylabel('SeaLevel(30년 평균의 편차 mm)')\n",
    "plt.show()"
   ]
  },
  {
   "cell_type": "markdown",
   "metadata": {},
   "source": [
    "> train set 과 test set 분리"
   ]
  },
  {
   "cell_type": "code",
   "execution_count": 432,
   "metadata": {},
   "outputs": [],
   "source": [
    "# CSV 파일에서 데이터 읽어오기\n",
    "data = pd.read_csv('../data/project_data2.csv')"
   ]
  },
  {
   "cell_type": "code",
   "execution_count": 433,
   "metadata": {},
   "outputs": [
    {
     "data": {
      "text/html": [
       "<div>\n",
       "<style scoped>\n",
       "    .dataframe tbody tr th:only-of-type {\n",
       "        vertical-align: middle;\n",
       "    }\n",
       "\n",
       "    .dataframe tbody tr th {\n",
       "        vertical-align: top;\n",
       "    }\n",
       "\n",
       "    .dataframe thead th {\n",
       "        text-align: right;\n",
       "    }\n",
       "</style>\n",
       "<table border=\"1\" class=\"dataframe\">\n",
       "  <thead>\n",
       "    <tr style=\"text-align: right;\">\n",
       "      <th></th>\n",
       "      <th>Unnamed: 0</th>\n",
       "      <th>Year</th>\n",
       "      <th>Temp</th>\n",
       "      <th>CO2</th>\n",
       "      <th>SeaLevel</th>\n",
       "    </tr>\n",
       "  </thead>\n",
       "  <tbody>\n",
       "    <tr>\n",
       "      <th>0</th>\n",
       "      <td>0</td>\n",
       "      <td>1880</td>\n",
       "      <td>-0.17</td>\n",
       "      <td>206.329280</td>\n",
       "      <td>-183.247396</td>\n",
       "    </tr>\n",
       "    <tr>\n",
       "      <th>1</th>\n",
       "      <td>1</td>\n",
       "      <td>1881</td>\n",
       "      <td>-0.09</td>\n",
       "      <td>233.055789</td>\n",
       "      <td>-174.014062</td>\n",
       "    </tr>\n",
       "    <tr>\n",
       "      <th>2</th>\n",
       "      <td>2</td>\n",
       "      <td>1882</td>\n",
       "      <td>-0.11</td>\n",
       "      <td>241.141938</td>\n",
       "      <td>-190.080729</td>\n",
       "    </tr>\n",
       "    <tr>\n",
       "      <th>3</th>\n",
       "      <td>3</td>\n",
       "      <td>1883</td>\n",
       "      <td>-0.17</td>\n",
       "      <td>254.738028</td>\n",
       "      <td>-185.147396</td>\n",
       "    </tr>\n",
       "    <tr>\n",
       "      <th>4</th>\n",
       "      <td>4</td>\n",
       "      <td>1884</td>\n",
       "      <td>-0.29</td>\n",
       "      <td>270.948036</td>\n",
       "      <td>-166.280729</td>\n",
       "    </tr>\n",
       "  </tbody>\n",
       "</table>\n",
       "</div>"
      ],
      "text/plain": [
       "   Unnamed: 0  Year  Temp         CO2    SeaLevel\n",
       "0           0  1880 -0.17  206.329280 -183.247396\n",
       "1           1  1881 -0.09  233.055789 -174.014062\n",
       "2           2  1882 -0.11  241.141938 -190.080729\n",
       "3           3  1883 -0.17  254.738028 -185.147396\n",
       "4           4  1884 -0.29  270.948036 -166.280729"
      ]
     },
     "execution_count": 433,
     "metadata": {},
     "output_type": "execute_result"
    }
   ],
   "source": [
    "data.head()"
   ]
  },
  {
   "cell_type": "code",
   "execution_count": 434,
   "metadata": {},
   "outputs": [],
   "source": [
    "# 데이터가 여러 열로 구성되어 있다면, 필요한 열만 선택\n",
    "co2_data = data['CO2'].values  # 'value' 열의 데이터를 numpy 배열로 변환\n",
    "seaLe_data = data['SeaLevel'].values\n"
   ]
  },
  {
   "cell_type": "code",
   "execution_count": 435,
   "metadata": {},
   "outputs": [],
   "source": [
    "from sklearn.model_selection import train_test_split"
   ]
  },
  {
   "cell_type": "code",
   "execution_count": 436,
   "metadata": {},
   "outputs": [],
   "source": [
    "train_input, test_input, train_target, test_target = \\\n",
    "    train_test_split(co2_data, seaLe_data,random_state=42)"
   ]
  },
  {
   "cell_type": "code",
   "execution_count": 437,
   "metadata": {},
   "outputs": [
    {
     "name": "stdout",
     "output_type": "stream",
     "text": [
      "(108,) (36,)\n"
     ]
    }
   ],
   "source": [
    "print(train_input.shape, test_input.shape)"
   ]
  },
  {
   "cell_type": "code",
   "execution_count": 438,
   "metadata": {},
   "outputs": [
    {
     "data": {
      "text/plain": [
       "array([ 6298.72490968,   842.90656192,  6789.42787766,  8554.76111716,\n",
       "        4762.6302985 ,  1214.07932874,   206.32927977,  2871.17494396,\n",
       "         787.73585964,   826.09335426,  3165.51558524,   615.20200595,\n",
       "         621.70132781,   564.32422168,  6387.46425192,  1266.96580359,\n",
       "        1002.59803261,   382.92007777,  4761.43422287,   952.8212306 ,\n",
       "         550.42152816,  1403.17525105,  2472.63729668, 10370.92890711,\n",
       "         998.36879271,   788.24988552,  6429.46776258,  2080.78157697,\n",
       "        9916.2674589 ,   882.53723122,  2619.27233719, 10225.01667599,\n",
       "        1355.56227931, 10296.18482281,  9902.08023163,   865.76310436,\n",
       "         274.05406135,  3029.91627839,  6149.8988922 ,  1085.10621817,\n",
       "         867.38038421,  2216.20143185,   956.29236061,  9317.66180051,\n",
       "         280.40870957,   883.70451017,  1412.88885984,  3619.43603332,\n",
       "        2726.30496748,  7322.70611831,  8963.16829752,   294.41780302,\n",
       "         374.56235804,  5922.05500673,  6315.5861305 ,   254.73802837,\n",
       "         419.31375821,   965.59301235,  1781.95462072,  6929.14230534,\n",
       "         276.10183728,  5425.90021356,   241.14193821,  7161.75104243,\n",
       "         911.56600745,  1164.86004938,  5266.28877978,  1016.36274096,\n",
       "        5444.55230078,  1325.90558831,  9729.68294642,  2352.32113115,\n",
       "        9912.56902563,  4173.21613741,   960.44765133,  1220.39270514,\n",
       "        3857.40621621,  1089.84568578,  3431.60476716,  8266.74509797,\n",
       "         532.80826525,  1141.6538966 ,  1895.87026089,   839.85484632,\n",
       "       10084.27452893,  1147.5710869 ,  1352.49776688,  8812.54648379,\n",
       "         923.3472843 ,   757.26178688,  5715.37363636,  9839.13912954,\n",
       "         233.05578933,   960.17180192,  8805.73748531,  5238.34038154,\n",
       "        5313.4607586 ,  6528.18524022,  3322.95491581,  1857.67172848,\n",
       "        7115.0521871 , 10354.96176325,   505.92500529,  1651.95080715,\n",
       "        5626.87800676,   369.94468908,  4344.82419405,  5289.91049328])"
      ]
     },
     "execution_count": 438,
     "metadata": {},
     "output_type": "execute_result"
    }
   ],
   "source": [
    "train_input"
   ]
  },
  {
   "cell_type": "code",
   "execution_count": 439,
   "metadata": {},
   "outputs": [],
   "source": [
    "# 열이 없음. numpy 배열로 만들어진 데이터.\n",
    "# 1열로 구성된 배열로 재구성\n",
    "train_input = train_input.reshape(-1,1)\n",
    "test_input = test_input.reshape(-1,1)"
   ]
  },
  {
   "cell_type": "code",
   "execution_count": 440,
   "metadata": {},
   "outputs": [],
   "source": [
    "# project_data2.csv 로 저정하기\n",
    "\n",
    "seaPro.to_csv(\"../data/project_data2.csv\")"
   ]
  },
  {
   "cell_type": "code",
   "execution_count": 441,
   "metadata": {},
   "outputs": [
    {
     "name": "stdout",
     "output_type": "stream",
     "text": [
      "(108, 1) (36, 1)\n"
     ]
    }
   ],
   "source": [
    "print(train_input.shape, test_input.shape)"
   ]
  },
  {
   "cell_type": "markdown",
   "metadata": {},
   "source": [
    "> 회귀모델"
   ]
  },
  {
   "cell_type": "code",
   "execution_count": 445,
   "metadata": {},
   "outputs": [],
   "source": [
    "from sklearn.neighbors import KNeighborsRegressor"
   ]
  },
  {
   "cell_type": "code",
   "execution_count": 446,
   "metadata": {},
   "outputs": [
    {
     "data": {
      "text/html": [
       "<style>#sk-container-id-4 {color: black;background-color: white;}#sk-container-id-4 pre{padding: 0;}#sk-container-id-4 div.sk-toggleable {background-color: white;}#sk-container-id-4 label.sk-toggleable__label {cursor: pointer;display: block;width: 100%;margin-bottom: 0;padding: 0.3em;box-sizing: border-box;text-align: center;}#sk-container-id-4 label.sk-toggleable__label-arrow:before {content: \"▸\";float: left;margin-right: 0.25em;color: #696969;}#sk-container-id-4 label.sk-toggleable__label-arrow:hover:before {color: black;}#sk-container-id-4 div.sk-estimator:hover label.sk-toggleable__label-arrow:before {color: black;}#sk-container-id-4 div.sk-toggleable__content {max-height: 0;max-width: 0;overflow: hidden;text-align: left;background-color: #f0f8ff;}#sk-container-id-4 div.sk-toggleable__content pre {margin: 0.2em;color: black;border-radius: 0.25em;background-color: #f0f8ff;}#sk-container-id-4 input.sk-toggleable__control:checked~div.sk-toggleable__content {max-height: 200px;max-width: 100%;overflow: auto;}#sk-container-id-4 input.sk-toggleable__control:checked~label.sk-toggleable__label-arrow:before {content: \"▾\";}#sk-container-id-4 div.sk-estimator input.sk-toggleable__control:checked~label.sk-toggleable__label {background-color: #d4ebff;}#sk-container-id-4 div.sk-label input.sk-toggleable__control:checked~label.sk-toggleable__label {background-color: #d4ebff;}#sk-container-id-4 input.sk-hidden--visually {border: 0;clip: rect(1px 1px 1px 1px);clip: rect(1px, 1px, 1px, 1px);height: 1px;margin: -1px;overflow: hidden;padding: 0;position: absolute;width: 1px;}#sk-container-id-4 div.sk-estimator {font-family: monospace;background-color: #f0f8ff;border: 1px dotted black;border-radius: 0.25em;box-sizing: border-box;margin-bottom: 0.5em;}#sk-container-id-4 div.sk-estimator:hover {background-color: #d4ebff;}#sk-container-id-4 div.sk-parallel-item::after {content: \"\";width: 100%;border-bottom: 1px solid gray;flex-grow: 1;}#sk-container-id-4 div.sk-label:hover label.sk-toggleable__label {background-color: #d4ebff;}#sk-container-id-4 div.sk-serial::before {content: \"\";position: absolute;border-left: 1px solid gray;box-sizing: border-box;top: 0;bottom: 0;left: 50%;z-index: 0;}#sk-container-id-4 div.sk-serial {display: flex;flex-direction: column;align-items: center;background-color: white;padding-right: 0.2em;padding-left: 0.2em;position: relative;}#sk-container-id-4 div.sk-item {position: relative;z-index: 1;}#sk-container-id-4 div.sk-parallel {display: flex;align-items: stretch;justify-content: center;background-color: white;position: relative;}#sk-container-id-4 div.sk-item::before, #sk-container-id-4 div.sk-parallel-item::before {content: \"\";position: absolute;border-left: 1px solid gray;box-sizing: border-box;top: 0;bottom: 0;left: 50%;z-index: -1;}#sk-container-id-4 div.sk-parallel-item {display: flex;flex-direction: column;z-index: 1;position: relative;background-color: white;}#sk-container-id-4 div.sk-parallel-item:first-child::after {align-self: flex-end;width: 50%;}#sk-container-id-4 div.sk-parallel-item:last-child::after {align-self: flex-start;width: 50%;}#sk-container-id-4 div.sk-parallel-item:only-child::after {width: 0;}#sk-container-id-4 div.sk-dashed-wrapped {border: 1px dashed gray;margin: 0 0.4em 0.5em 0.4em;box-sizing: border-box;padding-bottom: 0.4em;background-color: white;}#sk-container-id-4 div.sk-label label {font-family: monospace;font-weight: bold;display: inline-block;line-height: 1.2em;}#sk-container-id-4 div.sk-label-container {text-align: center;}#sk-container-id-4 div.sk-container {/* jupyter's `normalize.less` sets `[hidden] { display: none; }` but bootstrap.min.css set `[hidden] { display: none !important; }` so we also need the `!important` here to be able to override the default hidden behavior on the sphinx rendered scikit-learn.org. See: https://github.com/scikit-learn/scikit-learn/issues/21755 */display: inline-block !important;position: relative;}#sk-container-id-4 div.sk-text-repr-fallback {display: none;}</style><div id=\"sk-container-id-4\" class=\"sk-top-container\"><div class=\"sk-text-repr-fallback\"><pre>KNeighborsRegressor()</pre><b>In a Jupyter environment, please rerun this cell to show the HTML representation or trust the notebook. <br />On GitHub, the HTML representation is unable to render, please try loading this page with nbviewer.org.</b></div><div class=\"sk-container\" hidden><div class=\"sk-item\"><div class=\"sk-estimator sk-toggleable\"><input class=\"sk-toggleable__control sk-hidden--visually\" id=\"sk-estimator-id-4\" type=\"checkbox\" checked><label for=\"sk-estimator-id-4\" class=\"sk-toggleable__label sk-toggleable__label-arrow\">KNeighborsRegressor</label><div class=\"sk-toggleable__content\"><pre>KNeighborsRegressor()</pre></div></div></div></div></div>"
      ],
      "text/plain": [
       "KNeighborsRegressor()"
      ]
     },
     "execution_count": 446,
     "metadata": {},
     "output_type": "execute_result"
    }
   ],
   "source": [
    "knr = KNeighborsRegressor()\n",
    "knr.fit(train_input, train_target)"
   ]
  },
  {
   "cell_type": "code",
   "execution_count": 447,
   "metadata": {},
   "outputs": [
    {
     "data": {
      "text/plain": [
       "0.9824137464378192"
      ]
     },
     "execution_count": 447,
     "metadata": {},
     "output_type": "execute_result"
    }
   ],
   "source": [
    "knr.score(test_input, test_target)"
   ]
  },
  {
   "cell_type": "markdown",
   "metadata": {},
   "source": [
    "> 결정계수($ R^2$): 평균절대값 오차"
   ]
  },
  {
   "cell_type": "code",
   "execution_count": 448,
   "metadata": {},
   "outputs": [],
   "source": [
    "from sklearn.metrics import mean_absolute_error"
   ]
  },
  {
   "cell_type": "code",
   "execution_count": 449,
   "metadata": {},
   "outputs": [
    {
     "data": {
      "text/plain": [
       "6.702353251255557"
      ]
     },
     "execution_count": 449,
     "metadata": {},
     "output_type": "execute_result"
    }
   ],
   "source": [
    "test_prediction = knr.predict(test_input)\n",
    "mae = mean_absolute_error(test_target, test_prediction)\n",
    "mae"
   ]
  },
  {
   "cell_type": "code",
   "execution_count": 450,
   "metadata": {},
   "outputs": [
    {
     "data": {
      "text/plain": [
       "0.9919312756496104"
      ]
     },
     "execution_count": 450,
     "metadata": {},
     "output_type": "execute_result"
    }
   ],
   "source": [
    "knr.score(train_input, train_target)"
   ]
  },
  {
   "cell_type": "code",
   "execution_count": 451,
   "metadata": {},
   "outputs": [
    {
     "data": {
      "text/plain": [
       "0.9824137464378192"
      ]
     },
     "execution_count": 451,
     "metadata": {},
     "output_type": "execute_result"
    }
   ],
   "source": [
    "knr.score(test_input, test_target)"
   ]
  },
  {
   "cell_type": "markdown",
   "metadata": {},
   "source": [
    ">  Hyper parameter 조정"
   ]
  },
  {
   "cell_type": "code",
   "execution_count": 452,
   "metadata": {},
   "outputs": [
    {
     "name": "stdout",
     "output_type": "stream",
     "text": [
      "Train score 0.9943699360487502\n",
      "Test score 0.9827188779727155\n"
     ]
    }
   ],
   "source": [
    "knr.n_neighbors = 3\n",
    "knr.fit(train_input, train_target)\n",
    "print(\"Train score\", knr.score(train_input, train_target))\n",
    "print(\"Test score\", knr.score(test_input, test_target))"
   ]
  },
  {
   "cell_type": "code",
   "execution_count": 453,
   "metadata": {},
   "outputs": [
    {
     "name": "stdout",
     "output_type": "stream",
     "text": [
      "Train score 0.9902168777783208\n",
      "Test score 0.9835193196036034\n"
     ]
    }
   ],
   "source": [
    "knr.n_neighbors = 7\n",
    "knr.fit(train_input, train_target)\n",
    "print(\"Train score\", knr.score(train_input, train_target))\n",
    "print(\"Test score\", knr.score(test_input, test_target))"
   ]
  },
  {
   "cell_type": "code",
   "execution_count": 454,
   "metadata": {},
   "outputs": [
    {
     "name": "stdout",
     "output_type": "stream",
     "text": [
      "Train score 0.9888224134405016\n",
      "Test score 0.9834577113651225\n"
     ]
    }
   ],
   "source": [
    "knr.n_neighbors = 10\n",
    "knr.fit(train_input, train_target)\n",
    "print(\"Train score\", knr.score(train_input, train_target))\n",
    "print(\"Test score\", knr.score(test_input, test_target))"
   ]
  },
  {
   "cell_type": "markdown",
   "metadata": {},
   "source": [
    "> 선형회귀 kNN Regression으로 CO2의 양으로 해수면 높이를 예측"
   ]
  },
  {
   "cell_type": "code",
   "execution_count": 455,
   "metadata": {},
   "outputs": [
    {
     "data": {
      "text/html": [
       "<style>#sk-container-id-5 {color: black;background-color: white;}#sk-container-id-5 pre{padding: 0;}#sk-container-id-5 div.sk-toggleable {background-color: white;}#sk-container-id-5 label.sk-toggleable__label {cursor: pointer;display: block;width: 100%;margin-bottom: 0;padding: 0.3em;box-sizing: border-box;text-align: center;}#sk-container-id-5 label.sk-toggleable__label-arrow:before {content: \"▸\";float: left;margin-right: 0.25em;color: #696969;}#sk-container-id-5 label.sk-toggleable__label-arrow:hover:before {color: black;}#sk-container-id-5 div.sk-estimator:hover label.sk-toggleable__label-arrow:before {color: black;}#sk-container-id-5 div.sk-toggleable__content {max-height: 0;max-width: 0;overflow: hidden;text-align: left;background-color: #f0f8ff;}#sk-container-id-5 div.sk-toggleable__content pre {margin: 0.2em;color: black;border-radius: 0.25em;background-color: #f0f8ff;}#sk-container-id-5 input.sk-toggleable__control:checked~div.sk-toggleable__content {max-height: 200px;max-width: 100%;overflow: auto;}#sk-container-id-5 input.sk-toggleable__control:checked~label.sk-toggleable__label-arrow:before {content: \"▾\";}#sk-container-id-5 div.sk-estimator input.sk-toggleable__control:checked~label.sk-toggleable__label {background-color: #d4ebff;}#sk-container-id-5 div.sk-label input.sk-toggleable__control:checked~label.sk-toggleable__label {background-color: #d4ebff;}#sk-container-id-5 input.sk-hidden--visually {border: 0;clip: rect(1px 1px 1px 1px);clip: rect(1px, 1px, 1px, 1px);height: 1px;margin: -1px;overflow: hidden;padding: 0;position: absolute;width: 1px;}#sk-container-id-5 div.sk-estimator {font-family: monospace;background-color: #f0f8ff;border: 1px dotted black;border-radius: 0.25em;box-sizing: border-box;margin-bottom: 0.5em;}#sk-container-id-5 div.sk-estimator:hover {background-color: #d4ebff;}#sk-container-id-5 div.sk-parallel-item::after {content: \"\";width: 100%;border-bottom: 1px solid gray;flex-grow: 1;}#sk-container-id-5 div.sk-label:hover label.sk-toggleable__label {background-color: #d4ebff;}#sk-container-id-5 div.sk-serial::before {content: \"\";position: absolute;border-left: 1px solid gray;box-sizing: border-box;top: 0;bottom: 0;left: 50%;z-index: 0;}#sk-container-id-5 div.sk-serial {display: flex;flex-direction: column;align-items: center;background-color: white;padding-right: 0.2em;padding-left: 0.2em;position: relative;}#sk-container-id-5 div.sk-item {position: relative;z-index: 1;}#sk-container-id-5 div.sk-parallel {display: flex;align-items: stretch;justify-content: center;background-color: white;position: relative;}#sk-container-id-5 div.sk-item::before, #sk-container-id-5 div.sk-parallel-item::before {content: \"\";position: absolute;border-left: 1px solid gray;box-sizing: border-box;top: 0;bottom: 0;left: 50%;z-index: -1;}#sk-container-id-5 div.sk-parallel-item {display: flex;flex-direction: column;z-index: 1;position: relative;background-color: white;}#sk-container-id-5 div.sk-parallel-item:first-child::after {align-self: flex-end;width: 50%;}#sk-container-id-5 div.sk-parallel-item:last-child::after {align-self: flex-start;width: 50%;}#sk-container-id-5 div.sk-parallel-item:only-child::after {width: 0;}#sk-container-id-5 div.sk-dashed-wrapped {border: 1px dashed gray;margin: 0 0.4em 0.5em 0.4em;box-sizing: border-box;padding-bottom: 0.4em;background-color: white;}#sk-container-id-5 div.sk-label label {font-family: monospace;font-weight: bold;display: inline-block;line-height: 1.2em;}#sk-container-id-5 div.sk-label-container {text-align: center;}#sk-container-id-5 div.sk-container {/* jupyter's `normalize.less` sets `[hidden] { display: none; }` but bootstrap.min.css set `[hidden] { display: none !important; }` so we also need the `!important` here to be able to override the default hidden behavior on the sphinx rendered scikit-learn.org. See: https://github.com/scikit-learn/scikit-learn/issues/21755 */display: inline-block !important;position: relative;}#sk-container-id-5 div.sk-text-repr-fallback {display: none;}</style><div id=\"sk-container-id-5\" class=\"sk-top-container\"><div class=\"sk-text-repr-fallback\"><pre>KNeighborsRegressor(n_neighbors=3)</pre><b>In a Jupyter environment, please rerun this cell to show the HTML representation or trust the notebook. <br />On GitHub, the HTML representation is unable to render, please try loading this page with nbviewer.org.</b></div><div class=\"sk-container\" hidden><div class=\"sk-item\"><div class=\"sk-estimator sk-toggleable\"><input class=\"sk-toggleable__control sk-hidden--visually\" id=\"sk-estimator-id-5\" type=\"checkbox\" checked><label for=\"sk-estimator-id-5\" class=\"sk-toggleable__label sk-toggleable__label-arrow\">KNeighborsRegressor</label><div class=\"sk-toggleable__content\"><pre>KNeighborsRegressor(n_neighbors=3)</pre></div></div></div></div></div>"
      ],
      "text/plain": [
       "KNeighborsRegressor(n_neighbors=3)"
      ]
     },
     "execution_count": 455,
     "metadata": {},
     "output_type": "execute_result"
    }
   ],
   "source": [
    "from sklearn.model_selection import train_test_split\n",
    "\n",
    "train_input, test_input, train_target, test_target = \\\n",
    "    train_test_split(co2_data, seaLe_data, random_state=42)\n",
    "\n",
    "# 열이 없음. numpy 배열로 만들어진 데이터.\n",
    "# 1열로 구성된 배열로 재구성\n",
    "train_input = train_input.reshape(-1,1)\n",
    "test_input = test_input.reshape(-1,1)\n",
    "\n",
    "from sklearn.neighbors import KNeighborsRegressor\n",
    "\n",
    "knr = KNeighborsRegressor(n_neighbors=3)\n",
    "knr.fit(train_input, train_target)\n",
    "\n"
   ]
  },
  {
   "cell_type": "code",
   "execution_count": 461,
   "metadata": {},
   "outputs": [
    {
     "data": {
      "text/plain": [
       "array([67.05267943])"
      ]
     },
     "execution_count": 461,
     "metadata": {},
     "output_type": "execute_result"
    }
   ],
   "source": [
    "# 탄소의 배출량\n",
    "knr.predict([[13000]])"
   ]
  },
  {
   "cell_type": "code",
   "execution_count": 459,
   "metadata": {},
   "outputs": [
    {
     "name": "stdout",
     "output_type": "stream",
     "text": [
      "[10354.96176325] 73.06\n"
     ]
    }
   ],
   "source": [
    "# 기존 데이터로 해수면 확인 ??\n",
    "\n",
    "for i,v in list(enumerate(train_target)):\n",
    "    if v == train_target.max():\n",
    "        print(train_input[i], v)"
   ]
  },
  {
   "cell_type": "markdown",
   "metadata": {},
   "source": [
    "> 산접도로 이웃을 구해서 확인"
   ]
  },
  {
   "cell_type": "code",
   "execution_count": 463,
   "metadata": {},
   "outputs": [],
   "source": [
    "import matplotlib.pyplot as plt"
   ]
  },
  {
   "cell_type": "code",
   "execution_count": 466,
   "metadata": {},
   "outputs": [
    {
     "data": {
      "image/png": "[encoded data removed]",
      "text/plain": [
       "<Figure size 1000x500 with 1 Axes>"
      ]
     },
     "metadata": {},
     "output_type": "display_data"
    }
   ],
   "source": [
    "# 13000 Mt C의 탄소 배출의 이웃을 구한다. knn의 한계..데이터 안쪽은 잘 찾으나 밖은 잘 못찾는다....\n",
    "distances, indexes = knr. kneighbors([[13000]])\n",
    "\n",
    "plt.figure(figsize=(10, 5))\n",
    "plt.scatter(train_input, train_target)\n",
    "plt.scatter(train_input[indexes], train_target[indexes], marker='D')\n",
    "\n",
    "plt.scatter(13000, 67, marker='^')\n",
    "plt.show()"
   ]
  },
  {
   "cell_type": "code",
   "execution_count": 467,
   "metadata": {},
   "outputs": [
    {
     "data": {
      "text/plain": [
       "67.05267942666667"
      ]
     },
     "execution_count": 467,
     "metadata": {},
     "output_type": "execute_result"
    }
   ],
   "source": [
    "# 이웃들의 평균\n",
    "np.mean(train_target[indexes])"
   ]
  },
  {
   "cell_type": "code",
   "execution_count": 468,
   "metadata": {},
   "outputs": [
    {
     "data": {
      "text/plain": [
       "array([67.05267943])"
      ]
     },
     "execution_count": 468,
     "metadata": {},
     "output_type": "execute_result"
    }
   ],
   "source": [
    "# 탄소배출이 13000 MtC\n",
    "knr.predict([[13000]])"
   ]
  },
  {
   "cell_type": "markdown",
   "metadata": {},
   "source": [
    "> 선형회귀"
   ]
  },
  {
   "cell_type": "code",
   "execution_count": 469,
   "metadata": {},
   "outputs": [],
   "source": [
    "from sklearn.linear_model import LinearRegression"
   ]
  },
  {
   "cell_type": "code",
   "execution_count": 470,
   "metadata": {},
   "outputs": [
    {
     "data": {
      "text/html": [
       "<style>#sk-container-id-6 {color: black;background-color: white;}#sk-container-id-6 pre{padding: 0;}#sk-container-id-6 div.sk-toggleable {background-color: white;}#sk-container-id-6 label.sk-toggleable__label {cursor: pointer;display: block;width: 100%;margin-bottom: 0;padding: 0.3em;box-sizing: border-box;text-align: center;}#sk-container-id-6 label.sk-toggleable__label-arrow:before {content: \"▸\";float: left;margin-right: 0.25em;color: #696969;}#sk-container-id-6 label.sk-toggleable__label-arrow:hover:before {color: black;}#sk-container-id-6 div.sk-estimator:hover label.sk-toggleable__label-arrow:before {color: black;}#sk-container-id-6 div.sk-toggleable__content {max-height: 0;max-width: 0;overflow: hidden;text-align: left;background-color: #f0f8ff;}#sk-container-id-6 div.sk-toggleable__content pre {margin: 0.2em;color: black;border-radius: 0.25em;background-color: #f0f8ff;}#sk-container-id-6 input.sk-toggleable__control:checked~div.sk-toggleable__content {max-height: 200px;max-width: 100%;overflow: auto;}#sk-container-id-6 input.sk-toggleable__control:checked~label.sk-toggleable__label-arrow:before {content: \"▾\";}#sk-container-id-6 div.sk-estimator input.sk-toggleable__control:checked~label.sk-toggleable__label {background-color: #d4ebff;}#sk-container-id-6 div.sk-label input.sk-toggleable__control:checked~label.sk-toggleable__label {background-color: #d4ebff;}#sk-container-id-6 input.sk-hidden--visually {border: 0;clip: rect(1px 1px 1px 1px);clip: rect(1px, 1px, 1px, 1px);height: 1px;margin: -1px;overflow: hidden;padding: 0;position: absolute;width: 1px;}#sk-container-id-6 div.sk-estimator {font-family: monospace;background-color: #f0f8ff;border: 1px dotted black;border-radius: 0.25em;box-sizing: border-box;margin-bottom: 0.5em;}#sk-container-id-6 div.sk-estimator:hover {background-color: #d4ebff;}#sk-container-id-6 div.sk-parallel-item::after {content: \"\";width: 100%;border-bottom: 1px solid gray;flex-grow: 1;}#sk-container-id-6 div.sk-label:hover label.sk-toggleable__label {background-color: #d4ebff;}#sk-container-id-6 div.sk-serial::before {content: \"\";position: absolute;border-left: 1px solid gray;box-sizing: border-box;top: 0;bottom: 0;left: 50%;z-index: 0;}#sk-container-id-6 div.sk-serial {display: flex;flex-direction: column;align-items: center;background-color: white;padding-right: 0.2em;padding-left: 0.2em;position: relative;}#sk-container-id-6 div.sk-item {position: relative;z-index: 1;}#sk-container-id-6 div.sk-parallel {display: flex;align-items: stretch;justify-content: center;background-color: white;position: relative;}#sk-container-id-6 div.sk-item::before, #sk-container-id-6 div.sk-parallel-item::before {content: \"\";position: absolute;border-left: 1px solid gray;box-sizing: border-box;top: 0;bottom: 0;left: 50%;z-index: -1;}#sk-container-id-6 div.sk-parallel-item {display: flex;flex-direction: column;z-index: 1;position: relative;background-color: white;}#sk-container-id-6 div.sk-parallel-item:first-child::after {align-self: flex-end;width: 50%;}#sk-container-id-6 div.sk-parallel-item:last-child::after {align-self: flex-start;width: 50%;}#sk-container-id-6 div.sk-parallel-item:only-child::after {width: 0;}#sk-container-id-6 div.sk-dashed-wrapped {border: 1px dashed gray;margin: 0 0.4em 0.5em 0.4em;box-sizing: border-box;padding-bottom: 0.4em;background-color: white;}#sk-container-id-6 div.sk-label label {font-family: monospace;font-weight: bold;display: inline-block;line-height: 1.2em;}#sk-container-id-6 div.sk-label-container {text-align: center;}#sk-container-id-6 div.sk-container {/* jupyter's `normalize.less` sets `[hidden] { display: none; }` but bootstrap.min.css set `[hidden] { display: none !important; }` so we also need the `!important` here to be able to override the default hidden behavior on the sphinx rendered scikit-learn.org. See: https://github.com/scikit-learn/scikit-learn/issues/21755 */display: inline-block !important;position: relative;}#sk-container-id-6 div.sk-text-repr-fallback {display: none;}</style><div id=\"sk-container-id-6\" class=\"sk-top-container\"><div class=\"sk-text-repr-fallback\"><pre>LinearRegression()</pre><b>In a Jupyter environment, please rerun this cell to show the HTML representation or trust the notebook. <br />On GitHub, the HTML representation is unable to render, please try loading this page with nbviewer.org.</b></div><div class=\"sk-container\" hidden><div class=\"sk-item\"><div class=\"sk-estimator sk-toggleable\"><input class=\"sk-toggleable__control sk-hidden--visually\" id=\"sk-estimator-id-6\" type=\"checkbox\" checked><label for=\"sk-estimator-id-6\" class=\"sk-toggleable__label sk-toggleable__label-arrow\">LinearRegression</label><div class=\"sk-toggleable__content\"><pre>LinearRegression()</pre></div></div></div></div></div>"
      ],
      "text/plain": [
       "LinearRegression()"
      ]
     },
     "execution_count": 470,
     "metadata": {},
     "output_type": "execute_result"
    }
   ],
   "source": [
    "lr = LinearRegression()\n",
    "lr.fit(train_input, train_target)"
   ]
  },
  {
   "cell_type": "code",
   "execution_count": 471,
   "metadata": {},
   "outputs": [
    {
     "data": {
      "text/plain": [
       "array([128.25046249])"
      ]
     },
     "execution_count": 471,
     "metadata": {},
     "output_type": "execute_result"
    }
   ],
   "source": [
    "# 탄소의 배출량\n",
    "lr.predict([[13000]])"
   ]
  },
  {
   "cell_type": "code",
   "execution_count": 472,
   "metadata": {},
   "outputs": [
    {
     "name": "stdout",
     "output_type": "stream",
     "text": [
      "[0.02148946] -151.11251316585046\n"
     ]
    }
   ],
   "source": [
    "# Y=ax+b 에서 기울기와 절편값 출력(Deep Learning에서는 Weight와 Bias로 불림)\n",
    "print(lr.coef_, lr.intercept_)"
   ]
  },
  {
   "cell_type": "code",
   "execution_count": 473,
   "metadata": {},
   "outputs": [
    {
     "data": {
      "text/plain": [
       "128.25046683414953"
      ]
     },
     "execution_count": 473,
     "metadata": {},
     "output_type": "execute_result"
    }
   ],
   "source": [
    "0.02148946 * 13000 -151.11251316585046"
   ]
  },
  {
   "cell_type": "markdown",
   "metadata": {},
   "source": [
    "> 산점도 그리기"
   ]
  },
  {
   "cell_type": "code",
   "execution_count": 476,
   "metadata": {},
   "outputs": [
    {
     "data": {
      "image/png": "[encoded data removed]",
      "text/plain": [
       "<Figure size 1000x500 with 1 Axes>"
      ]
     },
     "metadata": {},
     "output_type": "display_data"
    }
   ],
   "source": [
    "plt.figure(figsize=(10,5))\n",
    "plt.scatter(train_input, train_target)\n",
    "\n",
    "# 15에서 50까지의 1차 방정식\n",
    "plt.plot([1, 13000], [1*lr.coef_+ lr.intercept_, 13000*lr.coef_+lr.intercept_], c='red')\n",
    "\n",
    "# 50cm 생선\n",
    "plt.scatter(13000, 128.25, marker='^')\n",
    "plt.show()"
   ]
  },
  {
   "cell_type": "code",
   "execution_count": 477,
   "metadata": {},
   "outputs": [
    {
     "name": "stdout",
     "output_type": "stream",
     "text": [
      "0.9486397785821246\n",
      "0.9376904654725778\n"
     ]
    }
   ],
   "source": [
    "# 과대적합 과소적합\n",
    "print(lr.score(train_input, train_target))\n",
    "print(lr.score(test_input, test_target))"
   ]
  },
  {
   "cell_type": "markdown",
   "metadata": {},
   "source": [
    "> 다항회귀\n",
    "\n",
    "Y = $a X^2$ + bX + C\n",
    "- 항이 여러개 있고 Feature가 하나인 것을 의미\n",
    "- Feature가 여러개인 회귀는 다중 회귀라고 한다."
   ]
  },
  {
   "cell_type": "code",
   "execution_count": 490,
   "metadata": {},
   "outputs": [],
   "source": [
    "# Feature를 제공한 Column을 생성하여 기존의 Column에 붙인다.\n",
    "train_poly = np.column_stack((train_input ** 2, train_input))\n",
    "test_poly = np.column_stack((test_input ** 2, test_input))"
   ]
  },
  {
   "cell_type": "code",
   "execution_count": 491,
   "metadata": {},
   "outputs": [
    {
     "name": "stdout",
     "output_type": "stream",
     "text": [
      "(108, 2) (36, 2)\n"
     ]
    }
   ],
   "source": [
    "\n",
    "print(train_poly.shape, test_poly.shape)"
   ]
  },
  {
   "cell_type": "code",
   "execution_count": 492,
   "metadata": {},
   "outputs": [
    {
     "data": {
      "text/plain": [
       "array([[3.96739355e+07, 6.29872491e+03],\n",
       "       [7.10491472e+05, 8.42906562e+02],\n",
       "       [4.60963309e+07, 6.78942788e+03],\n",
       "       [7.31839378e+07, 8.55476112e+03],\n",
       "       [2.26826474e+07, 4.76263030e+03],\n",
       "       [1.47398862e+06, 1.21407933e+03],\n",
       "       [4.25717717e+04, 2.06329280e+02],\n",
       "       [8.24364556e+06, 2.87117494e+03],\n",
       "       [6.20527785e+05, 7.87735860e+02],\n",
       "       [6.82430230e+05, 8.26093354e+02],\n",
       "       [1.00204889e+07, 3.16551559e+03],\n",
       "       [3.78473508e+05, 6.15202006e+02],\n",
       "       [3.86512541e+05, 6.21701328e+02],\n",
       "       [3.18461827e+05, 5.64324222e+02],\n",
       "       [4.07996996e+07, 6.38746425e+03],\n",
       "       [1.60520235e+06, 1.26696580e+03],\n",
       "       [1.00520281e+06, 1.00259803e+03],\n",
       "       [1.46627786e+05, 3.82920078e+02],\n",
       "       [2.26712559e+07, 4.76143422e+03],\n",
       "       [9.07868297e+05, 9.52821231e+02],\n",
       "       [3.02963859e+05, 5.50421528e+02],\n",
       "       [1.96890079e+06, 1.40317525e+03],\n",
       "       [6.11393520e+06, 2.47263730e+03],\n",
       "       [1.07556166e+08, 1.03709289e+04],\n",
       "       [9.96740246e+05, 9.98368793e+02],\n",
       "       [6.21337882e+05, 7.88249886e+02],\n",
       "       [4.13380557e+07, 6.42946776e+03],\n",
       "       [4.32965197e+06, 2.08078158e+03],\n",
       "       [9.83323603e+07, 9.91626746e+03],\n",
       "       [7.78871964e+05, 8.82537231e+02],\n",
       "       [6.86058758e+06, 2.61927234e+03],\n",
       "       [1.04550966e+08, 1.02250167e+04],\n",
       "       [1.83754909e+06, 1.35556228e+03],\n",
       "       [1.06011422e+08, 1.02961848e+04],\n",
       "       [9.80511929e+07, 9.90208023e+03],\n",
       "       [7.49545753e+05, 8.65763104e+02],\n",
       "       [7.51056285e+04, 2.74054061e+02],\n",
       "       [9.18039265e+06, 3.02991628e+03],\n",
       "       [3.78212564e+07, 6.14989889e+03],\n",
       "       [1.17745550e+06, 1.08510622e+03],\n",
       "       [7.52348731e+05, 8.67380384e+02],\n",
       "       [4.91154879e+06, 2.21620143e+03],\n",
       "       [9.14495079e+05, 9.56292361e+02],\n",
       "       [8.68188214e+07, 9.31766180e+03],\n",
       "       [7.86290444e+04, 2.80408710e+02],\n",
       "       [7.80933661e+05, 8.83704510e+02],\n",
       "       [1.99625493e+06, 1.41288886e+03],\n",
       "       [1.31003172e+07, 3.61943603e+03],\n",
       "       [7.43273878e+06, 2.72630497e+03],\n",
       "       [5.36220249e+07, 7.32270612e+03],\n",
       "       [8.03383859e+07, 8.96316830e+03],\n",
       "       [8.66818427e+04, 2.94417803e+02],\n",
       "       [1.40296960e+05, 3.74562358e+02],\n",
       "       [3.50707355e+07, 5.92205501e+03],\n",
       "       [3.98866282e+07, 6.31558613e+03],\n",
       "       [6.48914631e+04, 2.54738028e+02],\n",
       "       [1.75824028e+05, 4.19313758e+02],\n",
       "       [9.32369865e+05, 9.65593012e+02],\n",
       "       [3.17536227e+06, 1.78195462e+03],\n",
       "       [4.80130131e+07, 6.92914231e+03],\n",
       "       [7.62322246e+04, 2.76101837e+02],\n",
       "       [2.94403931e+07, 5.42590021e+03],\n",
       "       [5.81494344e+04, 2.41141938e+02],\n",
       "       [5.12906780e+07, 7.16175104e+03],\n",
       "       [8.30952586e+05, 9.11566007e+02],\n",
       "       [1.35689893e+06, 1.16486005e+03],\n",
       "       [2.77337975e+07, 5.26628878e+03],\n",
       "       [1.03299322e+06, 1.01636274e+03],\n",
       "       [2.96431498e+07, 5.44455230e+03],\n",
       "       [1.75802563e+06, 1.32590559e+03],\n",
       "       [9.46667302e+07, 9.72968295e+03],\n",
       "       [5.53341470e+06, 2.35232113e+03],\n",
       "       [9.82590247e+07, 9.91256903e+03],\n",
       "       [1.74157329e+07, 4.17321614e+03],\n",
       "       [9.22459691e+05, 9.60447651e+02],\n",
       "       [1.48935835e+06, 1.22039271e+03],\n",
       "       [1.48795827e+07, 3.85740622e+03],\n",
       "       [1.18776362e+06, 1.08984569e+03],\n",
       "       [1.17759113e+07, 3.43160477e+03],\n",
       "       [6.83390745e+07, 8.26674510e+03],\n",
       "       [2.83884648e+05, 5.32808265e+02],\n",
       "       [1.30337362e+06, 1.14165390e+03],\n",
       "       [3.59432405e+06, 1.89587026e+03],\n",
       "       [7.05356163e+05, 8.39854846e+02],\n",
       "       [1.01692593e+08, 1.00842745e+04],\n",
       "       [1.31691940e+06, 1.14757109e+03],\n",
       "       [1.82925021e+06, 1.35249777e+03],\n",
       "       [7.76609755e+07, 8.81254648e+03],\n",
       "       [8.52570207e+05, 9.23347284e+02],\n",
       "       [5.73445414e+05, 7.57261787e+02],\n",
       "       [3.26654958e+07, 5.71537364e+03],\n",
       "       [9.68086588e+07, 9.83913913e+03],\n",
       "       [5.43150009e+04, 2.33055789e+02],\n",
       "       [9.21929889e+05, 9.60171802e+02],\n",
       "       [7.75410127e+07, 8.80573749e+03],\n",
       "       [2.74402100e+07, 5.23834038e+03],\n",
       "       [2.82328652e+07, 5.31346076e+03],\n",
       "       [4.26172025e+07, 6.52818524e+03],\n",
       "       [1.10420294e+07, 3.32295492e+03],\n",
       "       [3.45094425e+06, 1.85767173e+03],\n",
       "       [5.06239676e+07, 7.11505219e+03],\n",
       "       [1.07225233e+08, 1.03549618e+04],\n",
       "       [2.55960111e+05, 5.05925005e+02],\n",
       "       [2.72894147e+06, 1.65195081e+03],\n",
       "       [3.16617561e+07, 5.62687801e+03],\n",
       "       [1.36859073e+05, 3.69944689e+02],\n",
       "       [1.88774973e+07, 4.34482419e+03],\n",
       "       [2.79831530e+07, 5.28991049e+03]])"
      ]
     },
     "execution_count": 492,
     "metadata": {},
     "output_type": "execute_result"
    }
   ],
   "source": [
    "train_poly"
   ]
  },
  {
   "cell_type": "code",
   "execution_count": 493,
   "metadata": {},
   "outputs": [
    {
     "data": {
      "text/html": [
       "<style>#sk-container-id-8 {color: black;background-color: white;}#sk-container-id-8 pre{padding: 0;}#sk-container-id-8 div.sk-toggleable {background-color: white;}#sk-container-id-8 label.sk-toggleable__label {cursor: pointer;display: block;width: 100%;margin-bottom: 0;padding: 0.3em;box-sizing: border-box;text-align: center;}#sk-container-id-8 label.sk-toggleable__label-arrow:before {content: \"▸\";float: left;margin-right: 0.25em;color: #696969;}#sk-container-id-8 label.sk-toggleable__label-arrow:hover:before {color: black;}#sk-container-id-8 div.sk-estimator:hover label.sk-toggleable__label-arrow:before {color: black;}#sk-container-id-8 div.sk-toggleable__content {max-height: 0;max-width: 0;overflow: hidden;text-align: left;background-color: #f0f8ff;}#sk-container-id-8 div.sk-toggleable__content pre {margin: 0.2em;color: black;border-radius: 0.25em;background-color: #f0f8ff;}#sk-container-id-8 input.sk-toggleable__control:checked~div.sk-toggleable__content {max-height: 200px;max-width: 100%;overflow: auto;}#sk-container-id-8 input.sk-toggleable__control:checked~label.sk-toggleable__label-arrow:before {content: \"▾\";}#sk-container-id-8 div.sk-estimator input.sk-toggleable__control:checked~label.sk-toggleable__label {background-color: #d4ebff;}#sk-container-id-8 div.sk-label input.sk-toggleable__control:checked~label.sk-toggleable__label {background-color: #d4ebff;}#sk-container-id-8 input.sk-hidden--visually {border: 0;clip: rect(1px 1px 1px 1px);clip: rect(1px, 1px, 1px, 1px);height: 1px;margin: -1px;overflow: hidden;padding: 0;position: absolute;width: 1px;}#sk-container-id-8 div.sk-estimator {font-family: monospace;background-color: #f0f8ff;border: 1px dotted black;border-radius: 0.25em;box-sizing: border-box;margin-bottom: 0.5em;}#sk-container-id-8 div.sk-estimator:hover {background-color: #d4ebff;}#sk-container-id-8 div.sk-parallel-item::after {content: \"\";width: 100%;border-bottom: 1px solid gray;flex-grow: 1;}#sk-container-id-8 div.sk-label:hover label.sk-toggleable__label {background-color: #d4ebff;}#sk-container-id-8 div.sk-serial::before {content: \"\";position: absolute;border-left: 1px solid gray;box-sizing: border-box;top: 0;bottom: 0;left: 50%;z-index: 0;}#sk-container-id-8 div.sk-serial {display: flex;flex-direction: column;align-items: center;background-color: white;padding-right: 0.2em;padding-left: 0.2em;position: relative;}#sk-container-id-8 div.sk-item {position: relative;z-index: 1;}#sk-container-id-8 div.sk-parallel {display: flex;align-items: stretch;justify-content: center;background-color: white;position: relative;}#sk-container-id-8 div.sk-item::before, #sk-container-id-8 div.sk-parallel-item::before {content: \"\";position: absolute;border-left: 1px solid gray;box-sizing: border-box;top: 0;bottom: 0;left: 50%;z-index: -1;}#sk-container-id-8 div.sk-parallel-item {display: flex;flex-direction: column;z-index: 1;position: relative;background-color: white;}#sk-container-id-8 div.sk-parallel-item:first-child::after {align-self: flex-end;width: 50%;}#sk-container-id-8 div.sk-parallel-item:last-child::after {align-self: flex-start;width: 50%;}#sk-container-id-8 div.sk-parallel-item:only-child::after {width: 0;}#sk-container-id-8 div.sk-dashed-wrapped {border: 1px dashed gray;margin: 0 0.4em 0.5em 0.4em;box-sizing: border-box;padding-bottom: 0.4em;background-color: white;}#sk-container-id-8 div.sk-label label {font-family: monospace;font-weight: bold;display: inline-block;line-height: 1.2em;}#sk-container-id-8 div.sk-label-container {text-align: center;}#sk-container-id-8 div.sk-container {/* jupyter's `normalize.less` sets `[hidden] { display: none; }` but bootstrap.min.css set `[hidden] { display: none !important; }` so we also need the `!important` here to be able to override the default hidden behavior on the sphinx rendered scikit-learn.org. See: https://github.com/scikit-learn/scikit-learn/issues/21755 */display: inline-block !important;position: relative;}#sk-container-id-8 div.sk-text-repr-fallback {display: none;}</style><div id=\"sk-container-id-8\" class=\"sk-top-container\"><div class=\"sk-text-repr-fallback\"><pre>LinearRegression()</pre><b>In a Jupyter environment, please rerun this cell to show the HTML representation or trust the notebook. <br />On GitHub, the HTML representation is unable to render, please try loading this page with nbviewer.org.</b></div><div class=\"sk-container\" hidden><div class=\"sk-item\"><div class=\"sk-estimator sk-toggleable\"><input class=\"sk-toggleable__control sk-hidden--visually\" id=\"sk-estimator-id-8\" type=\"checkbox\" checked><label for=\"sk-estimator-id-8\" class=\"sk-toggleable__label sk-toggleable__label-arrow\">LinearRegression</label><div class=\"sk-toggleable__content\"><pre>LinearRegression()</pre></div></div></div></div></div>"
      ],
      "text/plain": [
       "LinearRegression()"
      ]
     },
     "execution_count": 493,
     "metadata": {},
     "output_type": "execute_result"
    }
   ],
   "source": [
    "# Model 생성\n",
    "lr = LinearRegression()\n",
    "\n",
    "lr.fit(train_poly, train_target)"
   ]
  },
  {
   "cell_type": "code",
   "execution_count": 494,
   "metadata": {},
   "outputs": [
    {
     "data": {
      "text/plain": [
       "array([78.92632394])"
      ]
     },
     "execution_count": 494,
     "metadata": {},
     "output_type": "execute_result"
    }
   ],
   "source": [
    "# 탄소배출이 13000 MtC인 해수면 예측\n",
    "lr.predict([[13000**2, 13000]])"
   ]
  },
  {
   "cell_type": "code",
   "execution_count": 495,
   "metadata": {},
   "outputs": [
    {
     "name": "stdout",
     "output_type": "stream",
     "text": [
      "[-9.09931648e-07  3.02983077e-02] -161.17322812029062\n"
     ]
    }
   ],
   "source": [
    "# 기울기와 절편\n",
    "print(lr.coef_, lr.intercept_)"
   ]
  },
  {
   "cell_type": "code",
   "execution_count": 503,
   "metadata": {},
   "outputs": [
    {
     "data": {
      "image/png": "[encoded data removed]",
      "text/plain": [
       "<Figure size 1000x500 with 1 Axes>"
      ]
     },
     "metadata": {},
     "output_type": "display_data"
    }
   ],
   "source": [
    "# 구간별 직선을 그리기 위해 1에서 1300까지의 정수 배열\n",
    "point = np.arange(1, 13000)\n",
    "\n",
    "plt.figure(figsize=(10,5))\n",
    "plt.scatter(train_input, train_target)\n",
    "\n",
    "# 1에서 13000까지의 기울기와 절편을 이용한 2차 방정식 그래프\n",
    "plt.plot(point, -9.09931648e-07*point**2 + 3.02983077e-02*point - 161.17322812029062, c='red')\n",
    "\n",
    "\n",
    "# 13000 탄소 배출\n",
    "plt.scatter(13000, 78.92, marker='^')\n",
    "plt.show()"
   ]
  },
  {
   "cell_type": "code",
   "execution_count": 504,
   "metadata": {},
   "outputs": [
    {
     "name": "stdout",
     "output_type": "stream",
     "text": [
      "0.9596120912973743\n",
      "0.9493283129047323\n"
     ]
    }
   ],
   "source": [
    "print(lr.score(train_poly, train_target))\n",
    "print(lr.score(test_poly, test_target))"
   ]
  }
 ],
 "metadata": {
  "kernelspec": {
   "display_name": "Python 3",
   "language": "python",
   "name": "python3"
  },
  "language_info": {
   "codemirror_mode": {
    "name": "ipython",
    "version": 3
   },
   "file_extension": ".py",
   "mimetype": "text/x-python",
   "name": "python",
   "nbconvert_exporter": "python",
   "pygments_lexer": "ipython3",
   "version": "3.11.7"
  }
 },
 "nbformat": 4,
 "nbformat_minor": 2
}
